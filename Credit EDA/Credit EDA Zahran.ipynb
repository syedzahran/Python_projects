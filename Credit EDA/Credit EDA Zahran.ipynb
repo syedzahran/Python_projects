{
 "cells": [
  {
   "cell_type": "code",
   "execution_count": 1,
   "id": "f7f948d4",
   "metadata": {},
   "outputs": [],
   "source": [
    "import numpy as np\n",
    "import pandas as pd\n",
    "import matplotlib.pyplot as plt\n",
    "import seaborn as sn"
   ]
  },
  {
   "cell_type": "code",
   "execution_count": 18,
   "id": "6fcd909c",
   "metadata": {},
   "outputs": [],
   "source": [
    "application_data=pd.read_csv(\"application_data.csv\")"
   ]
  },
  {
   "cell_type": "code",
   "execution_count": 20,
   "id": "3efc57ed",
   "metadata": {},
   "outputs": [
    {
     "data": {
      "text/html": [
       "<div>\n",
       "<style scoped>\n",
       "    .dataframe tbody tr th:only-of-type {\n",
       "        vertical-align: middle;\n",
       "    }\n",
       "\n",
       "    .dataframe tbody tr th {\n",
       "        vertical-align: top;\n",
       "    }\n",
       "\n",
       "    .dataframe thead th {\n",
       "        text-align: right;\n",
       "    }\n",
       "</style>\n",
       "<table border=\"1\" class=\"dataframe\">\n",
       "  <thead>\n",
       "    <tr style=\"text-align: right;\">\n",
       "      <th></th>\n",
       "      <th>SK_ID_CURR</th>\n",
       "      <th>TARGET</th>\n",
       "      <th>NAME_CONTRACT_TYPE</th>\n",
       "      <th>CODE_GENDER</th>\n",
       "      <th>FLAG_OWN_CAR</th>\n",
       "      <th>FLAG_OWN_REALTY</th>\n",
       "      <th>CNT_CHILDREN</th>\n",
       "      <th>AMT_INCOME_TOTAL</th>\n",
       "      <th>AMT_CREDIT</th>\n",
       "      <th>AMT_ANNUITY</th>\n",
       "      <th>...</th>\n",
       "      <th>FLAG_DOCUMENT_18</th>\n",
       "      <th>FLAG_DOCUMENT_19</th>\n",
       "      <th>FLAG_DOCUMENT_20</th>\n",
       "      <th>FLAG_DOCUMENT_21</th>\n",
       "      <th>AMT_REQ_CREDIT_BUREAU_HOUR</th>\n",
       "      <th>AMT_REQ_CREDIT_BUREAU_DAY</th>\n",
       "      <th>AMT_REQ_CREDIT_BUREAU_WEEK</th>\n",
       "      <th>AMT_REQ_CREDIT_BUREAU_MON</th>\n",
       "      <th>AMT_REQ_CREDIT_BUREAU_QRT</th>\n",
       "      <th>AMT_REQ_CREDIT_BUREAU_YEAR</th>\n",
       "    </tr>\n",
       "  </thead>\n",
       "  <tbody>\n",
       "    <tr>\n",
       "      <th>0</th>\n",
       "      <td>100002</td>\n",
       "      <td>1</td>\n",
       "      <td>Cash loans</td>\n",
       "      <td>M</td>\n",
       "      <td>N</td>\n",
       "      <td>Y</td>\n",
       "      <td>0</td>\n",
       "      <td>202500.0</td>\n",
       "      <td>406597.5</td>\n",
       "      <td>24700.5</td>\n",
       "      <td>...</td>\n",
       "      <td>0</td>\n",
       "      <td>0</td>\n",
       "      <td>0</td>\n",
       "      <td>0</td>\n",
       "      <td>0.0</td>\n",
       "      <td>0.0</td>\n",
       "      <td>0.0</td>\n",
       "      <td>0.0</td>\n",
       "      <td>0.0</td>\n",
       "      <td>1.0</td>\n",
       "    </tr>\n",
       "    <tr>\n",
       "      <th>1</th>\n",
       "      <td>100003</td>\n",
       "      <td>0</td>\n",
       "      <td>Cash loans</td>\n",
       "      <td>F</td>\n",
       "      <td>N</td>\n",
       "      <td>N</td>\n",
       "      <td>0</td>\n",
       "      <td>270000.0</td>\n",
       "      <td>1293502.5</td>\n",
       "      <td>35698.5</td>\n",
       "      <td>...</td>\n",
       "      <td>0</td>\n",
       "      <td>0</td>\n",
       "      <td>0</td>\n",
       "      <td>0</td>\n",
       "      <td>0.0</td>\n",
       "      <td>0.0</td>\n",
       "      <td>0.0</td>\n",
       "      <td>0.0</td>\n",
       "      <td>0.0</td>\n",
       "      <td>0.0</td>\n",
       "    </tr>\n",
       "    <tr>\n",
       "      <th>2</th>\n",
       "      <td>100004</td>\n",
       "      <td>0</td>\n",
       "      <td>Revolving loans</td>\n",
       "      <td>M</td>\n",
       "      <td>Y</td>\n",
       "      <td>Y</td>\n",
       "      <td>0</td>\n",
       "      <td>67500.0</td>\n",
       "      <td>135000.0</td>\n",
       "      <td>6750.0</td>\n",
       "      <td>...</td>\n",
       "      <td>0</td>\n",
       "      <td>0</td>\n",
       "      <td>0</td>\n",
       "      <td>0</td>\n",
       "      <td>0.0</td>\n",
       "      <td>0.0</td>\n",
       "      <td>0.0</td>\n",
       "      <td>0.0</td>\n",
       "      <td>0.0</td>\n",
       "      <td>0.0</td>\n",
       "    </tr>\n",
       "    <tr>\n",
       "      <th>3</th>\n",
       "      <td>100006</td>\n",
       "      <td>0</td>\n",
       "      <td>Cash loans</td>\n",
       "      <td>F</td>\n",
       "      <td>N</td>\n",
       "      <td>Y</td>\n",
       "      <td>0</td>\n",
       "      <td>135000.0</td>\n",
       "      <td>312682.5</td>\n",
       "      <td>29686.5</td>\n",
       "      <td>...</td>\n",
       "      <td>0</td>\n",
       "      <td>0</td>\n",
       "      <td>0</td>\n",
       "      <td>0</td>\n",
       "      <td>NaN</td>\n",
       "      <td>NaN</td>\n",
       "      <td>NaN</td>\n",
       "      <td>NaN</td>\n",
       "      <td>NaN</td>\n",
       "      <td>NaN</td>\n",
       "    </tr>\n",
       "    <tr>\n",
       "      <th>4</th>\n",
       "      <td>100007</td>\n",
       "      <td>0</td>\n",
       "      <td>Cash loans</td>\n",
       "      <td>M</td>\n",
       "      <td>N</td>\n",
       "      <td>Y</td>\n",
       "      <td>0</td>\n",
       "      <td>121500.0</td>\n",
       "      <td>513000.0</td>\n",
       "      <td>21865.5</td>\n",
       "      <td>...</td>\n",
       "      <td>0</td>\n",
       "      <td>0</td>\n",
       "      <td>0</td>\n",
       "      <td>0</td>\n",
       "      <td>0.0</td>\n",
       "      <td>0.0</td>\n",
       "      <td>0.0</td>\n",
       "      <td>0.0</td>\n",
       "      <td>0.0</td>\n",
       "      <td>0.0</td>\n",
       "    </tr>\n",
       "  </tbody>\n",
       "</table>\n",
       "<p>5 rows × 122 columns</p>\n",
       "</div>"
      ],
      "text/plain": [
       "   SK_ID_CURR  TARGET NAME_CONTRACT_TYPE CODE_GENDER FLAG_OWN_CAR  \\\n",
       "0      100002       1         Cash loans           M            N   \n",
       "1      100003       0         Cash loans           F            N   \n",
       "2      100004       0    Revolving loans           M            Y   \n",
       "3      100006       0         Cash loans           F            N   \n",
       "4      100007       0         Cash loans           M            N   \n",
       "\n",
       "  FLAG_OWN_REALTY  CNT_CHILDREN  AMT_INCOME_TOTAL  AMT_CREDIT  AMT_ANNUITY  \\\n",
       "0               Y             0          202500.0    406597.5      24700.5   \n",
       "1               N             0          270000.0   1293502.5      35698.5   \n",
       "2               Y             0           67500.0    135000.0       6750.0   \n",
       "3               Y             0          135000.0    312682.5      29686.5   \n",
       "4               Y             0          121500.0    513000.0      21865.5   \n",
       "\n",
       "   ...  FLAG_DOCUMENT_18 FLAG_DOCUMENT_19 FLAG_DOCUMENT_20 FLAG_DOCUMENT_21  \\\n",
       "0  ...                 0                0                0                0   \n",
       "1  ...                 0                0                0                0   \n",
       "2  ...                 0                0                0                0   \n",
       "3  ...                 0                0                0                0   \n",
       "4  ...                 0                0                0                0   \n",
       "\n",
       "  AMT_REQ_CREDIT_BUREAU_HOUR AMT_REQ_CREDIT_BUREAU_DAY  \\\n",
       "0                        0.0                       0.0   \n",
       "1                        0.0                       0.0   \n",
       "2                        0.0                       0.0   \n",
       "3                        NaN                       NaN   \n",
       "4                        0.0                       0.0   \n",
       "\n",
       "   AMT_REQ_CREDIT_BUREAU_WEEK  AMT_REQ_CREDIT_BUREAU_MON  \\\n",
       "0                         0.0                        0.0   \n",
       "1                         0.0                        0.0   \n",
       "2                         0.0                        0.0   \n",
       "3                         NaN                        NaN   \n",
       "4                         0.0                        0.0   \n",
       "\n",
       "   AMT_REQ_CREDIT_BUREAU_QRT  AMT_REQ_CREDIT_BUREAU_YEAR  \n",
       "0                        0.0                         1.0  \n",
       "1                        0.0                         0.0  \n",
       "2                        0.0                         0.0  \n",
       "3                        NaN                         NaN  \n",
       "4                        0.0                         0.0  \n",
       "\n",
       "[5 rows x 122 columns]"
      ]
     },
     "execution_count": 20,
     "metadata": {},
     "output_type": "execute_result"
    }
   ],
   "source": [
    "application_data.head()"
   ]
  },
  {
   "cell_type": "code",
   "execution_count": 21,
   "id": "d8662a17",
   "metadata": {},
   "outputs": [],
   "source": [
    "previous_application=pd.read_csv(\"previous_application.csv\")"
   ]
  },
  {
   "cell_type": "code",
   "execution_count": 22,
   "id": "672be8a5",
   "metadata": {},
   "outputs": [
    {
     "data": {
      "text/html": [
       "<div>\n",
       "<style scoped>\n",
       "    .dataframe tbody tr th:only-of-type {\n",
       "        vertical-align: middle;\n",
       "    }\n",
       "\n",
       "    .dataframe tbody tr th {\n",
       "        vertical-align: top;\n",
       "    }\n",
       "\n",
       "    .dataframe thead th {\n",
       "        text-align: right;\n",
       "    }\n",
       "</style>\n",
       "<table border=\"1\" class=\"dataframe\">\n",
       "  <thead>\n",
       "    <tr style=\"text-align: right;\">\n",
       "      <th></th>\n",
       "      <th>SK_ID_PREV</th>\n",
       "      <th>SK_ID_CURR</th>\n",
       "      <th>NAME_CONTRACT_TYPE</th>\n",
       "      <th>AMT_ANNUITY</th>\n",
       "      <th>AMT_APPLICATION</th>\n",
       "      <th>AMT_CREDIT</th>\n",
       "      <th>AMT_DOWN_PAYMENT</th>\n",
       "      <th>AMT_GOODS_PRICE</th>\n",
       "      <th>WEEKDAY_APPR_PROCESS_START</th>\n",
       "      <th>HOUR_APPR_PROCESS_START</th>\n",
       "      <th>...</th>\n",
       "      <th>NAME_SELLER_INDUSTRY</th>\n",
       "      <th>CNT_PAYMENT</th>\n",
       "      <th>NAME_YIELD_GROUP</th>\n",
       "      <th>PRODUCT_COMBINATION</th>\n",
       "      <th>DAYS_FIRST_DRAWING</th>\n",
       "      <th>DAYS_FIRST_DUE</th>\n",
       "      <th>DAYS_LAST_DUE_1ST_VERSION</th>\n",
       "      <th>DAYS_LAST_DUE</th>\n",
       "      <th>DAYS_TERMINATION</th>\n",
       "      <th>NFLAG_INSURED_ON_APPROVAL</th>\n",
       "    </tr>\n",
       "  </thead>\n",
       "  <tbody>\n",
       "    <tr>\n",
       "      <th>0</th>\n",
       "      <td>2030495</td>\n",
       "      <td>271877</td>\n",
       "      <td>Consumer loans</td>\n",
       "      <td>1730.430</td>\n",
       "      <td>17145.0</td>\n",
       "      <td>17145.0</td>\n",
       "      <td>0.0</td>\n",
       "      <td>17145.0</td>\n",
       "      <td>SATURDAY</td>\n",
       "      <td>15</td>\n",
       "      <td>...</td>\n",
       "      <td>Connectivity</td>\n",
       "      <td>12.0</td>\n",
       "      <td>middle</td>\n",
       "      <td>POS mobile with interest</td>\n",
       "      <td>365243.0</td>\n",
       "      <td>-42.0</td>\n",
       "      <td>300.0</td>\n",
       "      <td>-42.0</td>\n",
       "      <td>-37.0</td>\n",
       "      <td>0.0</td>\n",
       "    </tr>\n",
       "    <tr>\n",
       "      <th>1</th>\n",
       "      <td>2802425</td>\n",
       "      <td>108129</td>\n",
       "      <td>Cash loans</td>\n",
       "      <td>25188.615</td>\n",
       "      <td>607500.0</td>\n",
       "      <td>679671.0</td>\n",
       "      <td>NaN</td>\n",
       "      <td>607500.0</td>\n",
       "      <td>THURSDAY</td>\n",
       "      <td>11</td>\n",
       "      <td>...</td>\n",
       "      <td>XNA</td>\n",
       "      <td>36.0</td>\n",
       "      <td>low_action</td>\n",
       "      <td>Cash X-Sell: low</td>\n",
       "      <td>365243.0</td>\n",
       "      <td>-134.0</td>\n",
       "      <td>916.0</td>\n",
       "      <td>365243.0</td>\n",
       "      <td>365243.0</td>\n",
       "      <td>1.0</td>\n",
       "    </tr>\n",
       "    <tr>\n",
       "      <th>2</th>\n",
       "      <td>2523466</td>\n",
       "      <td>122040</td>\n",
       "      <td>Cash loans</td>\n",
       "      <td>15060.735</td>\n",
       "      <td>112500.0</td>\n",
       "      <td>136444.5</td>\n",
       "      <td>NaN</td>\n",
       "      <td>112500.0</td>\n",
       "      <td>TUESDAY</td>\n",
       "      <td>11</td>\n",
       "      <td>...</td>\n",
       "      <td>XNA</td>\n",
       "      <td>12.0</td>\n",
       "      <td>high</td>\n",
       "      <td>Cash X-Sell: high</td>\n",
       "      <td>365243.0</td>\n",
       "      <td>-271.0</td>\n",
       "      <td>59.0</td>\n",
       "      <td>365243.0</td>\n",
       "      <td>365243.0</td>\n",
       "      <td>1.0</td>\n",
       "    </tr>\n",
       "    <tr>\n",
       "      <th>3</th>\n",
       "      <td>2819243</td>\n",
       "      <td>176158</td>\n",
       "      <td>Cash loans</td>\n",
       "      <td>47041.335</td>\n",
       "      <td>450000.0</td>\n",
       "      <td>470790.0</td>\n",
       "      <td>NaN</td>\n",
       "      <td>450000.0</td>\n",
       "      <td>MONDAY</td>\n",
       "      <td>7</td>\n",
       "      <td>...</td>\n",
       "      <td>XNA</td>\n",
       "      <td>12.0</td>\n",
       "      <td>middle</td>\n",
       "      <td>Cash X-Sell: middle</td>\n",
       "      <td>365243.0</td>\n",
       "      <td>-482.0</td>\n",
       "      <td>-152.0</td>\n",
       "      <td>-182.0</td>\n",
       "      <td>-177.0</td>\n",
       "      <td>1.0</td>\n",
       "    </tr>\n",
       "    <tr>\n",
       "      <th>4</th>\n",
       "      <td>1784265</td>\n",
       "      <td>202054</td>\n",
       "      <td>Cash loans</td>\n",
       "      <td>31924.395</td>\n",
       "      <td>337500.0</td>\n",
       "      <td>404055.0</td>\n",
       "      <td>NaN</td>\n",
       "      <td>337500.0</td>\n",
       "      <td>THURSDAY</td>\n",
       "      <td>9</td>\n",
       "      <td>...</td>\n",
       "      <td>XNA</td>\n",
       "      <td>24.0</td>\n",
       "      <td>high</td>\n",
       "      <td>Cash Street: high</td>\n",
       "      <td>NaN</td>\n",
       "      <td>NaN</td>\n",
       "      <td>NaN</td>\n",
       "      <td>NaN</td>\n",
       "      <td>NaN</td>\n",
       "      <td>NaN</td>\n",
       "    </tr>\n",
       "  </tbody>\n",
       "</table>\n",
       "<p>5 rows × 37 columns</p>\n",
       "</div>"
      ],
      "text/plain": [
       "   SK_ID_PREV  SK_ID_CURR NAME_CONTRACT_TYPE  AMT_ANNUITY  AMT_APPLICATION  \\\n",
       "0     2030495      271877     Consumer loans     1730.430          17145.0   \n",
       "1     2802425      108129         Cash loans    25188.615         607500.0   \n",
       "2     2523466      122040         Cash loans    15060.735         112500.0   \n",
       "3     2819243      176158         Cash loans    47041.335         450000.0   \n",
       "4     1784265      202054         Cash loans    31924.395         337500.0   \n",
       "\n",
       "   AMT_CREDIT  AMT_DOWN_PAYMENT  AMT_GOODS_PRICE WEEKDAY_APPR_PROCESS_START  \\\n",
       "0     17145.0               0.0          17145.0                   SATURDAY   \n",
       "1    679671.0               NaN         607500.0                   THURSDAY   \n",
       "2    136444.5               NaN         112500.0                    TUESDAY   \n",
       "3    470790.0               NaN         450000.0                     MONDAY   \n",
       "4    404055.0               NaN         337500.0                   THURSDAY   \n",
       "\n",
       "   HOUR_APPR_PROCESS_START  ... NAME_SELLER_INDUSTRY  CNT_PAYMENT  \\\n",
       "0                       15  ...         Connectivity         12.0   \n",
       "1                       11  ...                  XNA         36.0   \n",
       "2                       11  ...                  XNA         12.0   \n",
       "3                        7  ...                  XNA         12.0   \n",
       "4                        9  ...                  XNA         24.0   \n",
       "\n",
       "   NAME_YIELD_GROUP       PRODUCT_COMBINATION  DAYS_FIRST_DRAWING  \\\n",
       "0            middle  POS mobile with interest            365243.0   \n",
       "1        low_action          Cash X-Sell: low            365243.0   \n",
       "2              high         Cash X-Sell: high            365243.0   \n",
       "3            middle       Cash X-Sell: middle            365243.0   \n",
       "4              high         Cash Street: high                 NaN   \n",
       "\n",
       "  DAYS_FIRST_DUE DAYS_LAST_DUE_1ST_VERSION  DAYS_LAST_DUE DAYS_TERMINATION  \\\n",
       "0          -42.0                     300.0          -42.0            -37.0   \n",
       "1         -134.0                     916.0       365243.0         365243.0   \n",
       "2         -271.0                      59.0       365243.0         365243.0   \n",
       "3         -482.0                    -152.0         -182.0           -177.0   \n",
       "4            NaN                       NaN            NaN              NaN   \n",
       "\n",
       "  NFLAG_INSURED_ON_APPROVAL  \n",
       "0                       0.0  \n",
       "1                       1.0  \n",
       "2                       1.0  \n",
       "3                       1.0  \n",
       "4                       NaN  \n",
       "\n",
       "[5 rows x 37 columns]"
      ]
     },
     "execution_count": 22,
     "metadata": {},
     "output_type": "execute_result"
    }
   ],
   "source": [
    "previous_application.head()"
   ]
  },
  {
   "cell_type": "code",
   "execution_count": 24,
   "id": "c2e8000d",
   "metadata": {},
   "outputs": [
    {
     "data": {
      "text/plain": [
       "(1670214, 37)"
      ]
     },
     "execution_count": 24,
     "metadata": {},
     "output_type": "execute_result"
    }
   ],
   "source": [
    "previous_application.shape"
   ]
  },
  {
   "cell_type": "code",
   "execution_count": 25,
   "id": "e3ceeb84",
   "metadata": {},
   "outputs": [
    {
     "name": "stdout",
     "output_type": "stream",
     "text": [
      "<class 'pandas.core.frame.DataFrame'>\n",
      "RangeIndex: 1670214 entries, 0 to 1670213\n",
      "Data columns (total 37 columns):\n",
      " #   Column                       Non-Null Count    Dtype  \n",
      "---  ------                       --------------    -----  \n",
      " 0   SK_ID_PREV                   1670214 non-null  int64  \n",
      " 1   SK_ID_CURR                   1670214 non-null  int64  \n",
      " 2   NAME_CONTRACT_TYPE           1670214 non-null  object \n",
      " 3   AMT_ANNUITY                  1297979 non-null  float64\n",
      " 4   AMT_APPLICATION              1670214 non-null  float64\n",
      " 5   AMT_CREDIT                   1670213 non-null  float64\n",
      " 6   AMT_DOWN_PAYMENT             774370 non-null   float64\n",
      " 7   AMT_GOODS_PRICE              1284699 non-null  float64\n",
      " 8   WEEKDAY_APPR_PROCESS_START   1670214 non-null  object \n",
      " 9   HOUR_APPR_PROCESS_START      1670214 non-null  int64  \n",
      " 10  FLAG_LAST_APPL_PER_CONTRACT  1670214 non-null  object \n",
      " 11  NFLAG_LAST_APPL_IN_DAY       1670214 non-null  int64  \n",
      " 12  RATE_DOWN_PAYMENT            774370 non-null   float64\n",
      " 13  RATE_INTEREST_PRIMARY        5951 non-null     float64\n",
      " 14  RATE_INTEREST_PRIVILEGED     5951 non-null     float64\n",
      " 15  NAME_CASH_LOAN_PURPOSE       1670214 non-null  object \n",
      " 16  NAME_CONTRACT_STATUS         1670214 non-null  object \n",
      " 17  DAYS_DECISION                1670214 non-null  int64  \n",
      " 18  NAME_PAYMENT_TYPE            1670214 non-null  object \n",
      " 19  CODE_REJECT_REASON           1670214 non-null  object \n",
      " 20  NAME_TYPE_SUITE              849809 non-null   object \n",
      " 21  NAME_CLIENT_TYPE             1670214 non-null  object \n",
      " 22  NAME_GOODS_CATEGORY          1670214 non-null  object \n",
      " 23  NAME_PORTFOLIO               1670214 non-null  object \n",
      " 24  NAME_PRODUCT_TYPE            1670214 non-null  object \n",
      " 25  CHANNEL_TYPE                 1670214 non-null  object \n",
      " 26  SELLERPLACE_AREA             1670214 non-null  int64  \n",
      " 27  NAME_SELLER_INDUSTRY         1670214 non-null  object \n",
      " 28  CNT_PAYMENT                  1297984 non-null  float64\n",
      " 29  NAME_YIELD_GROUP             1670214 non-null  object \n",
      " 30  PRODUCT_COMBINATION          1669868 non-null  object \n",
      " 31  DAYS_FIRST_DRAWING           997149 non-null   float64\n",
      " 32  DAYS_FIRST_DUE               997149 non-null   float64\n",
      " 33  DAYS_LAST_DUE_1ST_VERSION    997149 non-null   float64\n",
      " 34  DAYS_LAST_DUE                997149 non-null   float64\n",
      " 35  DAYS_TERMINATION             997149 non-null   float64\n",
      " 36  NFLAG_INSURED_ON_APPROVAL    997149 non-null   float64\n",
      "dtypes: float64(15), int64(6), object(16)\n",
      "memory usage: 471.5+ MB\n"
     ]
    }
   ],
   "source": [
    "previous_application.info()"
   ]
  },
  {
   "cell_type": "code",
   "execution_count": 26,
   "id": "e59809ee",
   "metadata": {},
   "outputs": [
    {
     "data": {
      "text/plain": [
       "(1670214, 37)"
      ]
     },
     "execution_count": 26,
     "metadata": {},
     "output_type": "execute_result"
    }
   ],
   "source": [
    "previous_application.shape"
   ]
  },
  {
   "cell_type": "code",
   "execution_count": 28,
   "id": "697dad4a",
   "metadata": {},
   "outputs": [
    {
     "data": {
      "text/plain": [
       "SK_ID_PREV                      0.000000\n",
       "SK_ID_CURR                      0.000000\n",
       "NAME_CONTRACT_TYPE              0.000000\n",
       "AMT_ANNUITY                    22.286665\n",
       "AMT_APPLICATION                 0.000000\n",
       "AMT_CREDIT                      0.000060\n",
       "AMT_DOWN_PAYMENT               53.636480\n",
       "AMT_GOODS_PRICE                23.081773\n",
       "WEEKDAY_APPR_PROCESS_START      0.000000\n",
       "HOUR_APPR_PROCESS_START         0.000000\n",
       "FLAG_LAST_APPL_PER_CONTRACT     0.000000\n",
       "NFLAG_LAST_APPL_IN_DAY          0.000000\n",
       "RATE_DOWN_PAYMENT              53.636480\n",
       "RATE_INTEREST_PRIMARY          99.643698\n",
       "RATE_INTEREST_PRIVILEGED       99.643698\n",
       "NAME_CASH_LOAN_PURPOSE          0.000000\n",
       "NAME_CONTRACT_STATUS            0.000000\n",
       "DAYS_DECISION                   0.000000\n",
       "NAME_PAYMENT_TYPE               0.000000\n",
       "CODE_REJECT_REASON              0.000000\n",
       "NAME_TYPE_SUITE                49.119754\n",
       "NAME_CLIENT_TYPE                0.000000\n",
       "NAME_GOODS_CATEGORY             0.000000\n",
       "NAME_PORTFOLIO                  0.000000\n",
       "NAME_PRODUCT_TYPE               0.000000\n",
       "CHANNEL_TYPE                    0.000000\n",
       "SELLERPLACE_AREA                0.000000\n",
       "NAME_SELLER_INDUSTRY            0.000000\n",
       "CNT_PAYMENT                    22.286366\n",
       "NAME_YIELD_GROUP                0.000000\n",
       "PRODUCT_COMBINATION             0.020716\n",
       "DAYS_FIRST_DRAWING             40.298129\n",
       "DAYS_FIRST_DUE                 40.298129\n",
       "DAYS_LAST_DUE_1ST_VERSION      40.298129\n",
       "DAYS_LAST_DUE                  40.298129\n",
       "DAYS_TERMINATION               40.298129\n",
       "NFLAG_INSURED_ON_APPROVAL      40.298129\n",
       "dtype: float64"
      ]
     },
     "execution_count": 28,
     "metadata": {},
     "output_type": "execute_result"
    }
   ],
   "source": [
    "#FINDING THE MISSING VALUE PERCENTAGE FOR EACH COLUMN\n",
    "(previous_application.isnull().sum()/len(previous_application.index))*100"
   ]
  },
  {
   "cell_type": "code",
   "execution_count": null,
   "id": "9d7b6602",
   "metadata": {},
   "outputs": [],
   "source": [
    "#There are large number of missing values\n",
    "\n",
    "#Columns having more than 50% missing values can be dropped as they cannot help in the analysis.\n",
    "#For columns having less than 50% missing values,values can be imputed.\n",
    "\n",
    "previous_application=previous_application.drop([\"AMT_DOWN_PAYMENT\",\"RATE_DOWN_PAYMENT\",\"RATE_INTEREST_PRIMARY\",\"RATE_INTEREST_PRIVILEGED\"],axis=1)"
   ]
  },
  {
   "cell_type": "code",
   "execution_count": 42,
   "id": "e9190cce",
   "metadata": {},
   "outputs": [],
   "source": [
    "#Checking the percentages:"
   ]
  },
  {
   "cell_type": "code",
   "execution_count": 40,
   "id": "8cf0de72",
   "metadata": {},
   "outputs": [
    {
     "data": {
      "text/plain": [
       "SK_ID_PREV                      0.000000\n",
       "SK_ID_CURR                      0.000000\n",
       "NAME_CONTRACT_TYPE              0.000000\n",
       "AMT_ANNUITY                    22.286665\n",
       "AMT_APPLICATION                 0.000000\n",
       "AMT_CREDIT                      0.000060\n",
       "AMT_GOODS_PRICE                23.081773\n",
       "WEEKDAY_APPR_PROCESS_START      0.000000\n",
       "HOUR_APPR_PROCESS_START         0.000000\n",
       "FLAG_LAST_APPL_PER_CONTRACT     0.000000\n",
       "NFLAG_LAST_APPL_IN_DAY          0.000000\n",
       "NAME_CASH_LOAN_PURPOSE          0.000000\n",
       "NAME_CONTRACT_STATUS            0.000000\n",
       "DAYS_DECISION                   0.000000\n",
       "NAME_PAYMENT_TYPE               0.000000\n",
       "CODE_REJECT_REASON              0.000000\n",
       "NAME_TYPE_SUITE                49.119754\n",
       "NAME_CLIENT_TYPE                0.000000\n",
       "NAME_GOODS_CATEGORY             0.000000\n",
       "NAME_PORTFOLIO                  0.000000\n",
       "NAME_PRODUCT_TYPE               0.000000\n",
       "CHANNEL_TYPE                    0.000000\n",
       "SELLERPLACE_AREA                0.000000\n",
       "NAME_SELLER_INDUSTRY            0.000000\n",
       "CNT_PAYMENT                    22.286366\n",
       "NAME_YIELD_GROUP                0.000000\n",
       "PRODUCT_COMBINATION             0.020716\n",
       "DAYS_FIRST_DRAWING             40.298129\n",
       "DAYS_FIRST_DUE                 40.298129\n",
       "DAYS_LAST_DUE_1ST_VERSION      40.298129\n",
       "DAYS_LAST_DUE                  40.298129\n",
       "DAYS_TERMINATION               40.298129\n",
       "NFLAG_INSURED_ON_APPROVAL      40.298129\n",
       "dtype: float64"
      ]
     },
     "execution_count": 40,
     "metadata": {},
     "output_type": "execute_result"
    }
   ],
   "source": [
    "(previous_application.isnull().sum()/len(previous_application.index))*100"
   ]
  },
  {
   "cell_type": "code",
   "execution_count": 41,
   "id": "be6161b3",
   "metadata": {},
   "outputs": [],
   "source": [
    "#Treating the missing values based on each columns"
   ]
  },
  {
   "cell_type": "code",
   "execution_count": 54,
   "id": "1b17e993",
   "metadata": {},
   "outputs": [],
   "source": [
    "#Column :AMT_ANNUITY(Annuity of previous application)"
   ]
  },
  {
   "cell_type": "code",
   "execution_count": 44,
   "id": "9e5ebe0d",
   "metadata": {},
   "outputs": [
    {
     "data": {
      "image/png": "[encoded data removed]",
      "text/plain": [
       "<Figure size 432x288 with 1 Axes>"
      ]
     },
     "metadata": {
      "needs_background": "light"
     },
     "output_type": "display_data"
    }
   ],
   "source": [
    "plt.hist(previous_application[\"AMT_ANNUITY\"],color=\"cyan\")\n",
    "plt.show()"
   ]
  },
  {
   "cell_type": "code",
   "execution_count": 45,
   "id": "3f7b83a0",
   "metadata": {},
   "outputs": [
    {
     "data": {
      "text/plain": [
       "11250.0"
      ]
     },
     "execution_count": 45,
     "metadata": {},
     "output_type": "execute_result"
    }
   ],
   "source": [
    "#Finding the median\n",
    "\n",
    "previous_application[\"AMT_ANNUITY\"].median()"
   ]
  },
  {
   "cell_type": "code",
   "execution_count": 47,
   "id": "ff9d5c36",
   "metadata": {},
   "outputs": [],
   "source": [
    "#Filling the NA with median\n",
    "\n",
    "previous_application[\"AMT_ANNUITY\"]=previous_application[\"AMT_ANNUITY\"].fillna(previous_application[\"AMT_ANNUITY\"].median())"
   ]
  },
  {
   "cell_type": "code",
   "execution_count": 48,
   "id": "829f975c",
   "metadata": {},
   "outputs": [
    {
     "data": {
      "image/png": "[encoded data removed]",
      "text/plain": [
       "<Figure size 432x288 with 1 Axes>"
      ]
     },
     "metadata": {
      "needs_background": "light"
     },
     "output_type": "display_data"
    }
   ],
   "source": [
    "#viewing the boxplot\n",
    "\n",
    "previous_application.boxplot([\"AMT_ANNUITY\"])\n",
    "plt.show()"
   ]
  },
  {
   "cell_type": "code",
   "execution_count": 49,
   "id": "62c4d0db",
   "metadata": {},
   "outputs": [],
   "source": [
    "#No need to treat outliers as the data are mostly continuous"
   ]
  },
  {
   "cell_type": "code",
   "execution_count": 51,
   "id": "d318846a",
   "metadata": {},
   "outputs": [
    {
     "data": {
      "text/plain": [
       "0"
      ]
     },
     "execution_count": 51,
     "metadata": {},
     "output_type": "execute_result"
    }
   ],
   "source": [
    "#Verifying the annuity column after imputation\n",
    "\n",
    "previous_application[\"AMT_ANNUITY\"].isnull().sum()"
   ]
  },
  {
   "cell_type": "code",
   "execution_count": 55,
   "id": "3b6beec0",
   "metadata": {},
   "outputs": [],
   "source": [
    "#Column :AMT_GOODS_PRICE(Goods price of good that client asked for (if applicable) on the previous application)"
   ]
  },
  {
   "cell_type": "code",
   "execution_count": 58,
   "id": "a3f03567",
   "metadata": {},
   "outputs": [
    {
     "data": {
      "text/plain": [
       "385515"
      ]
     },
     "execution_count": 58,
     "metadata": {},
     "output_type": "execute_result"
    }
   ],
   "source": [
    "#FINDING THE NULL VALUES\n",
    "\n",
    "previous_application[\"AMT_GOODS_PRICE\"].isnull().sum()"
   ]
  },
  {
   "cell_type": "code",
   "execution_count": 66,
   "id": "e2d8f165",
   "metadata": {},
   "outputs": [
    {
     "data": {
      "image/png": "[encoded data removed]",
      "text/plain": [
       "<Figure size 576x576 with 1 Axes>"
      ]
     },
     "metadata": {
      "needs_background": "light"
     },
     "output_type": "display_data"
    }
   ],
   "source": [
    "previous_application.boxplot([\"AMT_GOODS_PRICE\"],figsize=[8,8])\n",
    "plt.show()"
   ]
  },
  {
   "cell_type": "code",
   "execution_count": 85,
   "id": "e9a0944d",
   "metadata": {},
   "outputs": [
    {
     "data": {
      "text/plain": [
       "112320.0"
      ]
     },
     "execution_count": 85,
     "metadata": {},
     "output_type": "execute_result"
    }
   ],
   "source": [
    "#FILLING THE MISSING VALUES WITH MEDIAN\n",
    "\n",
    "previous_application[\"AMT_GOODS_PRICE\"].median()"
   ]
  },
  {
   "cell_type": "code",
   "execution_count": 88,
   "id": "0a3d277a",
   "metadata": {},
   "outputs": [],
   "source": [
    "previous_application[\"AMT_GOODS_PRICE\"]=previous_application[\"AMT_GOODS_PRICE\"].fillna(previous_application[\"AMT_GOODS_PRICE\"].median())"
   ]
  },
  {
   "cell_type": "code",
   "execution_count": 89,
   "id": "4ed64495",
   "metadata": {},
   "outputs": [
    {
     "data": {
      "text/plain": [
       "0"
      ]
     },
     "execution_count": 89,
     "metadata": {},
     "output_type": "execute_result"
    }
   ],
   "source": [
    "#VERIFYING THE COLUMN AMT_GOODS_PRICE\n",
    "\n",
    "previous_application[\"AMT_GOODS_PRICE\"].isnull().sum()"
   ]
  },
  {
   "cell_type": "code",
   "execution_count": 90,
   "id": "c8c8dc5f",
   "metadata": {},
   "outputs": [
    {
     "data": {
      "image/png": "[encoded data removed]",
      "text/plain": [
       "<Figure size 576x576 with 1 Axes>"
      ]
     },
     "metadata": {
      "needs_background": "light"
     },
     "output_type": "display_data"
    }
   ],
   "source": [
    "previous_application.boxplot([\"AMT_GOODS_PRICE\"],figsize=[8,8])\n",
    "plt.show()"
   ]
  },
  {
   "cell_type": "code",
   "execution_count": 91,
   "id": "4947e79d",
   "metadata": {},
   "outputs": [],
   "source": [
    "#No need to treat outliers as the data are mostly continuous"
   ]
  },
  {
   "cell_type": "code",
   "execution_count": 93,
   "id": "9e39d9be",
   "metadata": {},
   "outputs": [],
   "source": [
    "#Column: NAME_TYPE_SUITE(Who accompanied client when applying for the previous application)"
   ]
  },
  {
   "cell_type": "code",
   "execution_count": 94,
   "id": "6a2bdbea",
   "metadata": {},
   "outputs": [
    {
     "data": {
      "text/plain": [
       "count            849809\n",
       "unique                7\n",
       "top       Unaccompanied\n",
       "freq             508970\n",
       "Name: NAME_TYPE_SUITE, dtype: object"
      ]
     },
     "execution_count": 94,
     "metadata": {},
     "output_type": "execute_result"
    }
   ],
   "source": [
    "previous_application[\"NAME_TYPE_SUITE\"].describe()"
   ]
  },
  {
   "cell_type": "code",
   "execution_count": 95,
   "id": "1d981f7e",
   "metadata": {},
   "outputs": [],
   "source": [
    "#There are only 7 unique values;hence it is a categorical column"
   ]
  },
  {
   "cell_type": "code",
   "execution_count": 96,
   "id": "e38aec8d",
   "metadata": {},
   "outputs": [
    {
     "data": {
      "text/plain": [
       "Unaccompanied      508970\n",
       "Family             213263\n",
       "Spouse, partner     67069\n",
       "Children            31566\n",
       "Other_B             17624\n",
       "Other_A              9077\n",
       "Group of people      2240\n",
       "Name: NAME_TYPE_SUITE, dtype: int64"
      ]
     },
     "execution_count": 96,
     "metadata": {},
     "output_type": "execute_result"
    }
   ],
   "source": [
    "previous_application[\"NAME_TYPE_SUITE\"].value_counts()"
   ]
  },
  {
   "cell_type": "code",
   "execution_count": 98,
   "id": "f38bea89",
   "metadata": {},
   "outputs": [],
   "source": [
    "#The missing values should be imputed as \"missing\"\n",
    "\n",
    "previous_application[\"NAME_TYPE_SUITE\"]=previous_application[\"NAME_TYPE_SUITE\"].fillna(\"Missing\")"
   ]
  },
  {
   "cell_type": "code",
   "execution_count": 99,
   "id": "e5a6adb1",
   "metadata": {},
   "outputs": [
    {
     "data": {
      "text/plain": [
       "0"
      ]
     },
     "execution_count": 99,
     "metadata": {},
     "output_type": "execute_result"
    }
   ],
   "source": [
    "#verifying the column NAME_TYPE_SUITE\n",
    "\n",
    "previous_application[\"NAME_TYPE_SUITE\"].isnull().sum()"
   ]
  },
  {
   "cell_type": "code",
   "execution_count": 105,
   "id": "4b5769e5",
   "metadata": {},
   "outputs": [],
   "source": [
    "#Column CNT_PAYMENT(Term of previous credit at application of the previous application)"
   ]
  },
  {
   "cell_type": "code",
   "execution_count": 106,
   "id": "b074d72e",
   "metadata": {},
   "outputs": [
    {
     "data": {
      "text/plain": [
       "372230"
      ]
     },
     "execution_count": 106,
     "metadata": {},
     "output_type": "execute_result"
    }
   ],
   "source": [
    "previous_application[\"CNT_PAYMENT\"].isnull().sum()"
   ]
  },
  {
   "cell_type": "code",
   "execution_count": 107,
   "id": "02f173a7",
   "metadata": {},
   "outputs": [
    {
     "data": {
      "image/png": "[encoded data removed]",
      "text/plain": [
       "<Figure size 432x288 with 1 Axes>"
      ]
     },
     "metadata": {
      "needs_background": "light"
     },
     "output_type": "display_data"
    }
   ],
   "source": [
    "plt.hist(previous_application[\"CNT_PAYMENT\"])\n",
    "plt.show()"
   ]
  },
  {
   "cell_type": "code",
   "execution_count": 112,
   "id": "9003228a",
   "metadata": {},
   "outputs": [],
   "source": [
    "#Imputing the missing values with mean\n",
    "\n",
    "previous_application[\"CNT_PAYMENT\"]=previous_application[\"CNT_PAYMENT\"].fillna(round(previous_application[\"CNT_PAYMENT\"].mean(),2))"
   ]
  },
  {
   "cell_type": "code",
   "execution_count": 113,
   "id": "cc35ee4b",
   "metadata": {},
   "outputs": [
    {
     "data": {
      "text/plain": [
       "0"
      ]
     },
     "execution_count": 113,
     "metadata": {},
     "output_type": "execute_result"
    }
   ],
   "source": [
    "#Verifying the column CNT_PAYMENT\n",
    "\n",
    "previous_application[\"CNT_PAYMENT\"].isnull().sum()"
   ]
  },
  {
   "cell_type": "code",
   "execution_count": 115,
   "id": "3bc658f5",
   "metadata": {},
   "outputs": [
    {
     "data": {
      "image/png": "[encoded data removed]",
      "text/plain": [
       "<Figure size 576x576 with 1 Axes>"
      ]
     },
     "metadata": {
      "needs_background": "light"
     },
     "output_type": "display_data"
    }
   ],
   "source": [
    "previous_application.boxplot([\"CNT_PAYMENT\"],figsize=[8,8])\n",
    "plt.show()"
   ]
  },
  {
   "cell_type": "code",
   "execution_count": 116,
   "id": "b127f1f8",
   "metadata": {},
   "outputs": [],
   "source": [
    "#No need to treat outliers as the data are mostly continuous"
   ]
  },
  {
   "cell_type": "code",
   "execution_count": 117,
   "id": "047b48f6",
   "metadata": {},
   "outputs": [],
   "source": [
    "#Column DAYS_FIRST_DRAWING(Relative to application date of current application when was the first disbursement of the previous application)"
   ]
  },
  {
   "cell_type": "code",
   "execution_count": 119,
   "id": "ab2b251a",
   "metadata": {},
   "outputs": [
    {
     "data": {
      "text/plain": [
       "count    997149.000000\n",
       "mean     342209.855039\n",
       "std       88916.115834\n",
       "min       -2922.000000\n",
       "25%      365243.000000\n",
       "50%      365243.000000\n",
       "75%      365243.000000\n",
       "max      365243.000000\n",
       "Name: DAYS_FIRST_DRAWING, dtype: float64"
      ]
     },
     "execution_count": 119,
     "metadata": {},
     "output_type": "execute_result"
    }
   ],
   "source": [
    "previous_application[\"DAYS_FIRST_DRAWING\"].describe()"
   ]
  },
  {
   "cell_type": "code",
   "execution_count": 120,
   "id": "df1e09ea",
   "metadata": {},
   "outputs": [
    {
     "data": {
      "text/plain": [
       "673065"
      ]
     },
     "execution_count": 120,
     "metadata": {},
     "output_type": "execute_result"
    }
   ],
   "source": [
    "previous_application[\"DAYS_FIRST_DRAWING\"].isnull().sum()"
   ]
  },
  {
   "cell_type": "code",
   "execution_count": 121,
   "id": "66f8873d",
   "metadata": {},
   "outputs": [
    {
     "data": {
      "image/png": "[encoded data removed]",
      "text/plain": [
       "<Figure size 432x288 with 1 Axes>"
      ]
     },
     "metadata": {
      "needs_background": "light"
     },
     "output_type": "display_data"
    }
   ],
   "source": [
    "plt.hist(previous_application[\"DAYS_FIRST_DRAWING\"])\n",
    "plt.show()"
   ]
  },
  {
   "cell_type": "code",
   "execution_count": 129,
   "id": "43aa68a0",
   "metadata": {},
   "outputs": [],
   "source": [
    "#Imputing missing values with median\n",
    "\n",
    "previous_application[\"DAYS_FIRST_DRAWING\"]=previous_application[\"DAYS_FIRST_DRAWING\"].fillna(previous_application[\"DAYS_FIRST_DRAWING\"].median())"
   ]
  },
  {
   "cell_type": "code",
   "execution_count": 145,
   "id": "e8fbf966",
   "metadata": {},
   "outputs": [
    {
     "data": {
      "text/plain": [
       "0"
      ]
     },
     "execution_count": 145,
     "metadata": {},
     "output_type": "execute_result"
    }
   ],
   "source": [
    "#Verification\n",
    "\n",
    "previous_application[\"DAYS_FIRST_DRAWING\"].isnull().sum()"
   ]
  },
  {
   "cell_type": "code",
   "execution_count": 131,
   "id": "84055054",
   "metadata": {},
   "outputs": [],
   "source": [
    "#Column DAYS_FIRST_DUE(Relative to application date of current application when was the first due supposed to be of the previous application)"
   ]
  },
  {
   "cell_type": "code",
   "execution_count": 132,
   "id": "42305600",
   "metadata": {},
   "outputs": [
    {
     "data": {
      "text/plain": [
       "count    997149.000000\n",
       "mean      13826.269337\n",
       "std       72444.869708\n",
       "min       -2892.000000\n",
       "25%       -1628.000000\n",
       "50%        -831.000000\n",
       "75%        -411.000000\n",
       "max      365243.000000\n",
       "Name: DAYS_FIRST_DUE, dtype: float64"
      ]
     },
     "execution_count": 132,
     "metadata": {},
     "output_type": "execute_result"
    }
   ],
   "source": [
    "previous_application[\"DAYS_FIRST_DUE\"].describe()"
   ]
  },
  {
   "cell_type": "code",
   "execution_count": 133,
   "id": "5b64ee91",
   "metadata": {},
   "outputs": [
    {
     "data": {
      "text/plain": [
       "673065"
      ]
     },
     "execution_count": 133,
     "metadata": {},
     "output_type": "execute_result"
    }
   ],
   "source": [
    "previous_application[\"DAYS_FIRST_DUE\"].isnull().sum()"
   ]
  },
  {
   "cell_type": "code",
   "execution_count": 134,
   "id": "72b2d5f1",
   "metadata": {},
   "outputs": [
    {
     "data": {
      "image/png": "[encoded data removed]",
      "text/plain": [
       "<Figure size 432x288 with 1 Axes>"
      ]
     },
     "metadata": {
      "needs_background": "light"
     },
     "output_type": "display_data"
    }
   ],
   "source": [
    "plt.hist(previous_application[\"DAYS_FIRST_DUE\"])\n",
    "plt.show()"
   ]
  },
  {
   "cell_type": "code",
   "execution_count": 146,
   "id": "fe3bd334",
   "metadata": {},
   "outputs": [],
   "source": [
    "#Filling the missing values with median\n",
    "\n",
    "previous_application[\"DAYS_FIRST_DUE\"]=previous_application[\"DAYS_FIRST_DUE\"].fillna(previous_application[\"DAYS_FIRST_DUE\"].median())"
   ]
  },
  {
   "cell_type": "code",
   "execution_count": 148,
   "id": "0ec9d78e",
   "metadata": {},
   "outputs": [
    {
     "data": {
      "image/png": "[encoded data removed]",
      "text/plain": [
       "<Figure size 432x288 with 1 Axes>"
      ]
     },
     "metadata": {
      "needs_background": "light"
     },
     "output_type": "display_data"
    }
   ],
   "source": [
    "plt.hist(previous_application[\"DAYS_FIRST_DUE\"])\n",
    "plt.show()"
   ]
  },
  {
   "cell_type": "code",
   "execution_count": 150,
   "id": "8710d7a7",
   "metadata": {},
   "outputs": [
    {
     "data": {
      "text/plain": [
       "0"
      ]
     },
     "execution_count": 150,
     "metadata": {},
     "output_type": "execute_result"
    }
   ],
   "source": [
    "#Verification\n",
    "\n",
    "previous_application[\"DAYS_FIRST_DUE\"].isnull().sum()"
   ]
  },
  {
   "cell_type": "code",
   "execution_count": 151,
   "id": "2d886b12",
   "metadata": {},
   "outputs": [],
   "source": [
    "#Column DAYS_LAST_DUE_1ST_VERSION(Relative to application date of current application when was the first due of the previous application)"
   ]
  },
  {
   "cell_type": "code",
   "execution_count": 152,
   "id": "ce9a30a3",
   "metadata": {},
   "outputs": [
    {
     "data": {
      "text/plain": [
       "count    997149.000000\n",
       "mean      33767.774054\n",
       "std      106857.034789\n",
       "min       -2801.000000\n",
       "25%       -1242.000000\n",
       "50%        -361.000000\n",
       "75%         129.000000\n",
       "max      365243.000000\n",
       "Name: DAYS_LAST_DUE_1ST_VERSION, dtype: float64"
      ]
     },
     "execution_count": 152,
     "metadata": {},
     "output_type": "execute_result"
    }
   ],
   "source": [
    "previous_application[\"DAYS_LAST_DUE_1ST_VERSION\"].describe()"
   ]
  },
  {
   "cell_type": "code",
   "execution_count": 154,
   "id": "5b49e292",
   "metadata": {},
   "outputs": [
    {
     "data": {
      "text/plain": [
       "673065"
      ]
     },
     "execution_count": 154,
     "metadata": {},
     "output_type": "execute_result"
    }
   ],
   "source": [
    "previous_application[\"DAYS_LAST_DUE_1ST_VERSION\"].isnull().sum()"
   ]
  },
  {
   "cell_type": "code",
   "execution_count": 155,
   "id": "d0ea4fe7",
   "metadata": {},
   "outputs": [
    {
     "data": {
      "image/png": "[encoded data removed]",
      "text/plain": [
       "<Figure size 432x288 with 1 Axes>"
      ]
     },
     "metadata": {
      "needs_background": "light"
     },
     "output_type": "display_data"
    }
   ],
   "source": [
    "plt.hist(previous_application[\"DAYS_LAST_DUE_1ST_VERSION\"])\n",
    "plt.show()"
   ]
  },
  {
   "cell_type": "code",
   "execution_count": 156,
   "id": "d8491136",
   "metadata": {},
   "outputs": [
    {
     "data": {
      "text/plain": [
       "-361.0"
      ]
     },
     "execution_count": 156,
     "metadata": {},
     "output_type": "execute_result"
    }
   ],
   "source": [
    "#Filling the missing values with the median\n",
    "\n",
    "previous_application[\"DAYS_LAST_DUE_1ST_VERSION\"].median()"
   ]
  },
  {
   "cell_type": "code",
   "execution_count": 158,
   "id": "17a885a9",
   "metadata": {},
   "outputs": [],
   "source": [
    "previous_application[\"DAYS_LAST_DUE_1ST_VERSION\"]=previous_application[\"DAYS_LAST_DUE_1ST_VERSION\"].fillna(previous_application[\"DAYS_LAST_DUE_1ST_VERSION\"].median())"
   ]
  },
  {
   "cell_type": "code",
   "execution_count": 159,
   "id": "3d54f0df",
   "metadata": {},
   "outputs": [
    {
     "data": {
      "text/plain": [
       "0"
      ]
     },
     "execution_count": 159,
     "metadata": {},
     "output_type": "execute_result"
    }
   ],
   "source": [
    "#Verification\n",
    "\n",
    "previous_application[\"DAYS_LAST_DUE_1ST_VERSION\"].isnull().sum()"
   ]
  },
  {
   "cell_type": "code",
   "execution_count": 160,
   "id": "e4a8ad6f",
   "metadata": {},
   "outputs": [],
   "source": [
    "#Column DAYS_LAST_DUE(Relative to application date of current application when was the last due date of the previous application)"
   ]
  },
  {
   "cell_type": "code",
   "execution_count": 161,
   "id": "863d248b",
   "metadata": {},
   "outputs": [
    {
     "data": {
      "text/plain": [
       "673065"
      ]
     },
     "execution_count": 161,
     "metadata": {},
     "output_type": "execute_result"
    }
   ],
   "source": [
    "previous_application[\"DAYS_LAST_DUE\"].isnull().sum()"
   ]
  },
  {
   "cell_type": "code",
   "execution_count": 163,
   "id": "9f2e8d14",
   "metadata": {},
   "outputs": [
    {
     "data": {
      "image/png": "[encoded data removed]",
      "text/plain": [
       "<Figure size 432x288 with 1 Axes>"
      ]
     },
     "metadata": {
      "needs_background": "light"
     },
     "output_type": "display_data"
    }
   ],
   "source": [
    "plt.hist(previous_application[\"DAYS_LAST_DUE\"])\n",
    "plt.show()"
   ]
  },
  {
   "cell_type": "code",
   "execution_count": 164,
   "id": "65938533",
   "metadata": {},
   "outputs": [
    {
     "data": {
      "text/plain": [
       "-537.0"
      ]
     },
     "execution_count": 164,
     "metadata": {},
     "output_type": "execute_result"
    }
   ],
   "source": [
    "#Filling the missing values with median\n",
    "\n",
    "previous_application[\"DAYS_LAST_DUE\"].median()"
   ]
  },
  {
   "cell_type": "code",
   "execution_count": 166,
   "id": "845318ec",
   "metadata": {},
   "outputs": [],
   "source": [
    "previous_application[\"DAYS_LAST_DUE\"]=previous_application[\"DAYS_LAST_DUE\"].fillna(previous_application[\"DAYS_LAST_DUE\"].median())"
   ]
  },
  {
   "cell_type": "code",
   "execution_count": 168,
   "id": "8487a426",
   "metadata": {},
   "outputs": [
    {
     "data": {
      "text/plain": [
       "0"
      ]
     },
     "execution_count": 168,
     "metadata": {},
     "output_type": "execute_result"
    }
   ],
   "source": [
    "#Verification\n",
    "\n",
    "previous_application[\"DAYS_LAST_DUE\"].isnull().sum()"
   ]
  },
  {
   "cell_type": "code",
   "execution_count": 169,
   "id": "a0b44c24",
   "metadata": {},
   "outputs": [],
   "source": [
    "#column DAYS_TERMINATION(Relative to application date of current application when was the expected termination of the previous application)"
   ]
  },
  {
   "cell_type": "code",
   "execution_count": 170,
   "id": "9e29f9d3",
   "metadata": {},
   "outputs": [
    {
     "data": {
      "text/plain": [
       "673065"
      ]
     },
     "execution_count": 170,
     "metadata": {},
     "output_type": "execute_result"
    }
   ],
   "source": [
    "previous_application[\"DAYS_TERMINATION\"].isnull().sum()"
   ]
  },
  {
   "cell_type": "code",
   "execution_count": 171,
   "id": "b3af21b3",
   "metadata": {},
   "outputs": [
    {
     "data": {
      "image/png": "[encoded data removed]",
      "text/plain": [
       "<Figure size 432x288 with 1 Axes>"
      ]
     },
     "metadata": {
      "needs_background": "light"
     },
     "output_type": "display_data"
    }
   ],
   "source": [
    "plt.hist(previous_application[\"DAYS_TERMINATION\"])\n",
    "plt.show()"
   ]
  },
  {
   "cell_type": "code",
   "execution_count": 173,
   "id": "40f75f10",
   "metadata": {},
   "outputs": [
    {
     "data": {
      "text/plain": [
       "-499.0"
      ]
     },
     "execution_count": 173,
     "metadata": {},
     "output_type": "execute_result"
    }
   ],
   "source": [
    "#Filling the missing values with the median\n",
    "\n",
    "previous_application[\"DAYS_TERMINATION\"].median()"
   ]
  },
  {
   "cell_type": "code",
   "execution_count": 175,
   "id": "f5a23617",
   "metadata": {},
   "outputs": [],
   "source": [
    "previous_application[\"DAYS_TERMINATION\"]=previous_application[\"DAYS_TERMINATION\"].fillna(previous_application[\"DAYS_TERMINATION\"].median())"
   ]
  },
  {
   "cell_type": "code",
   "execution_count": 176,
   "id": "a6eced3e",
   "metadata": {},
   "outputs": [
    {
     "data": {
      "text/plain": [
       "0"
      ]
     },
     "execution_count": 176,
     "metadata": {},
     "output_type": "execute_result"
    }
   ],
   "source": [
    "#Verification\n",
    "\n",
    "previous_application[\"DAYS_TERMINATION\"].isnull().sum()"
   ]
  },
  {
   "cell_type": "code",
   "execution_count": 177,
   "id": "30ec05dc",
   "metadata": {},
   "outputs": [],
   "source": [
    "#column NFLAG_INSURED_ON_APPROVAL(Did the client requested insurance during the previous application)"
   ]
  },
  {
   "cell_type": "code",
   "execution_count": 178,
   "id": "6859a1af",
   "metadata": {},
   "outputs": [
    {
     "data": {
      "text/plain": [
       "673065"
      ]
     },
     "execution_count": 178,
     "metadata": {},
     "output_type": "execute_result"
    }
   ],
   "source": [
    "previous_application[\"NFLAG_INSURED_ON_APPROVAL\"].isnull().sum()"
   ]
  },
  {
   "cell_type": "code",
   "execution_count": 181,
   "id": "d5dedd71",
   "metadata": {},
   "outputs": [
    {
     "data": {
      "image/png": "[encoded data removed]",
      "text/plain": [
       "<Figure size 432x288 with 1 Axes>"
      ]
     },
     "metadata": {
      "needs_background": "light"
     },
     "output_type": "display_data"
    }
   ],
   "source": [
    "plt.hist(previous_application[\"NFLAG_INSURED_ON_APPROVAL\"])\n",
    "plt.show()"
   ]
  },
  {
   "cell_type": "code",
   "execution_count": 182,
   "id": "7f0e8beb",
   "metadata": {},
   "outputs": [
    {
     "data": {
      "text/plain": [
       "count    997149.000000\n",
       "mean          0.332570\n",
       "std           0.471134\n",
       "min           0.000000\n",
       "25%           0.000000\n",
       "50%           0.000000\n",
       "75%           1.000000\n",
       "max           1.000000\n",
       "Name: NFLAG_INSURED_ON_APPROVAL, dtype: float64"
      ]
     },
     "execution_count": 182,
     "metadata": {},
     "output_type": "execute_result"
    }
   ],
   "source": [
    "previous_application[\"NFLAG_INSURED_ON_APPROVAL\"].describe()"
   ]
  },
  {
   "cell_type": "code",
   "execution_count": 204,
   "id": "d2257c0c",
   "metadata": {},
   "outputs": [
    {
     "data": {
      "text/plain": [
       "0.0"
      ]
     },
     "execution_count": 204,
     "metadata": {},
     "output_type": "execute_result"
    }
   ],
   "source": [
    "#Filling the missing values with median\n",
    "\n",
    "previous_application[\"NFLAG_INSURED_ON_APPROVAL\"].median()"
   ]
  },
  {
   "cell_type": "code",
   "execution_count": 207,
   "id": "31a0595c",
   "metadata": {},
   "outputs": [],
   "source": [
    "previous_application[\"NFLAG_INSURED_ON_APPROVAL\"]=previous_application[\"NFLAG_INSURED_ON_APPROVAL\"].fillna(previous_application[\"NFLAG_INSURED_ON_APPROVAL\"].median())"
   ]
  },
  {
   "cell_type": "code",
   "execution_count": 208,
   "id": "fffe44e7",
   "metadata": {},
   "outputs": [
    {
     "data": {
      "text/plain": [
       "0"
      ]
     },
     "execution_count": 208,
     "metadata": {},
     "output_type": "execute_result"
    }
   ],
   "source": [
    "#Verification\n",
    "\n",
    "previous_application[\"NFLAG_INSURED_ON_APPROVAL\"].isnull().sum()"
   ]
  },
  {
   "cell_type": "code",
   "execution_count": 209,
   "id": "2fc5c470",
   "metadata": {},
   "outputs": [
    {
     "data": {
      "text/plain": [
       "SK_ID_PREV                       0\n",
       "SK_ID_CURR                       0\n",
       "NAME_CONTRACT_TYPE               0\n",
       "AMT_ANNUITY                      0\n",
       "AMT_APPLICATION                  0\n",
       "AMT_CREDIT                       1\n",
       "AMT_GOODS_PRICE                  0\n",
       "WEEKDAY_APPR_PROCESS_START       0\n",
       "HOUR_APPR_PROCESS_START          0\n",
       "FLAG_LAST_APPL_PER_CONTRACT      0\n",
       "NFLAG_LAST_APPL_IN_DAY           0\n",
       "NAME_CASH_LOAN_PURPOSE           0\n",
       "NAME_CONTRACT_STATUS             0\n",
       "DAYS_DECISION                    0\n",
       "NAME_PAYMENT_TYPE                0\n",
       "CODE_REJECT_REASON               0\n",
       "NAME_TYPE_SUITE                  0\n",
       "NAME_CLIENT_TYPE                 0\n",
       "NAME_GOODS_CATEGORY              0\n",
       "NAME_PORTFOLIO                   0\n",
       "NAME_PRODUCT_TYPE                0\n",
       "CHANNEL_TYPE                     0\n",
       "SELLERPLACE_AREA                 0\n",
       "NAME_SELLER_INDUSTRY             0\n",
       "CNT_PAYMENT                      0\n",
       "NAME_YIELD_GROUP                 0\n",
       "PRODUCT_COMBINATION            346\n",
       "DAYS_FIRST_DRAWING               0\n",
       "DAYS_FIRST_DUE                   0\n",
       "DAYS_LAST_DUE_1ST_VERSION        0\n",
       "DAYS_LAST_DUE                    0\n",
       "DAYS_TERMINATION                 0\n",
       "NFLAG_INSURED_ON_APPROVAL        0\n",
       "dtype: int64"
      ]
     },
     "execution_count": 209,
     "metadata": {},
     "output_type": "execute_result"
    }
   ],
   "source": [
    "#Further check for missing values:\n",
    "\n",
    "previous_application.isnull().sum()"
   ]
  },
  {
   "cell_type": "code",
   "execution_count": 210,
   "id": "982b54a8",
   "metadata": {},
   "outputs": [],
   "source": [
    "#column AMT_CREDIT(Final credit amount on the previous application. This differs from AMT_APPLICATION in a way that the AMT_APPLICATION is the amount for which the client initially applied for, but during our approval process he could have received different amount - AMT_CREDIT)"
   ]
  },
  {
   "cell_type": "code",
   "execution_count": 213,
   "id": "aae79971",
   "metadata": {},
   "outputs": [
    {
     "data": {
      "text/plain": [
       "count    1.670213e+06\n",
       "mean     1.961140e+05\n",
       "std      3.185746e+05\n",
       "min      0.000000e+00\n",
       "25%      2.416050e+04\n",
       "50%      8.054100e+04\n",
       "75%      2.164185e+05\n",
       "max      6.905160e+06\n",
       "Name: AMT_CREDIT, dtype: float64"
      ]
     },
     "execution_count": 213,
     "metadata": {},
     "output_type": "execute_result"
    }
   ],
   "source": [
    "previous_application[\"AMT_CREDIT\"].describe()"
   ]
  },
  {
   "cell_type": "code",
   "execution_count": 214,
   "id": "48a4d44c",
   "metadata": {},
   "outputs": [
    {
     "data": {
      "image/png": "[encoded data removed]",
      "text/plain": [
       "<Figure size 432x288 with 1 Axes>"
      ]
     },
     "metadata": {
      "needs_background": "light"
     },
     "output_type": "display_data"
    }
   ],
   "source": [
    "plt.hist(previous_application[\"AMT_CREDIT\"])\n",
    "plt.show()"
   ]
  },
  {
   "cell_type": "code",
   "execution_count": 215,
   "id": "fe79581d",
   "metadata": {},
   "outputs": [
    {
     "data": {
      "text/plain": [
       "80541.0"
      ]
     },
     "execution_count": 215,
     "metadata": {},
     "output_type": "execute_result"
    }
   ],
   "source": [
    "#Filling missing values with median\n",
    "\n",
    "previous_application[\"AMT_CREDIT\"].median()"
   ]
  },
  {
   "cell_type": "code",
   "execution_count": 217,
   "id": "21a18cd9",
   "metadata": {},
   "outputs": [],
   "source": [
    "previous_application[\"AMT_CREDIT\"]=previous_application[\"AMT_CREDIT\"].fillna(previous_application[\"AMT_CREDIT\"].median())"
   ]
  },
  {
   "cell_type": "code",
   "execution_count": 219,
   "id": "70a3ea39",
   "metadata": {},
   "outputs": [
    {
     "data": {
      "text/plain": [
       "0"
      ]
     },
     "execution_count": 219,
     "metadata": {},
     "output_type": "execute_result"
    }
   ],
   "source": [
    "#Verification\n",
    "\n",
    "previous_application[\"AMT_CREDIT\"].isnull().sum()"
   ]
  },
  {
   "cell_type": "code",
   "execution_count": 220,
   "id": "f2b1e3ce",
   "metadata": {},
   "outputs": [],
   "source": [
    "#Column PRODUCT_COMBINATION(Detailed product combination of the previous application)"
   ]
  },
  {
   "cell_type": "code",
   "execution_count": 222,
   "id": "ce86d052",
   "metadata": {},
   "outputs": [
    {
     "data": {
      "text/plain": [
       "Cash                              285990\n",
       "POS household with interest       263622\n",
       "POS mobile with interest          220670\n",
       "Cash X-Sell: middle               143883\n",
       "Cash X-Sell: low                  130248\n",
       "Card Street                       112582\n",
       "POS industry with interest         98833\n",
       "POS household without interest     82908\n",
       "Card X-Sell                        80582\n",
       "Cash Street: high                  59639\n",
       "Cash X-Sell: high                  59301\n",
       "Cash Street: middle                34658\n",
       "Cash Street: low                   33834\n",
       "POS mobile without interest        24082\n",
       "POS other with interest            23879\n",
       "POS industry without interest      12602\n",
       "POS others without interest         2555\n",
       "Name: PRODUCT_COMBINATION, dtype: int64"
      ]
     },
     "execution_count": 222,
     "metadata": {},
     "output_type": "execute_result"
    }
   ],
   "source": [
    "previous_application[\"PRODUCT_COMBINATION\"].value_counts()"
   ]
  },
  {
   "cell_type": "code",
   "execution_count": 223,
   "id": "49004d65",
   "metadata": {},
   "outputs": [
    {
     "data": {
      "text/plain": [
       "0    Cash\n",
       "Name: PRODUCT_COMBINATION, dtype: object"
      ]
     },
     "execution_count": 223,
     "metadata": {},
     "output_type": "execute_result"
    }
   ],
   "source": [
    "previous_application[\"PRODUCT_COMBINATION\"].mode()"
   ]
  },
  {
   "cell_type": "code",
   "execution_count": 226,
   "id": "002b9eab",
   "metadata": {},
   "outputs": [],
   "source": [
    "#Filling the missing values with \"Cash\"\n",
    "\n",
    "previous_application[\"PRODUCT_COMBINATION\"]=previous_application[\"PRODUCT_COMBINATION\"].fillna(\"Cash\")"
   ]
  },
  {
   "cell_type": "code",
   "execution_count": 228,
   "id": "b5d5b253",
   "metadata": {},
   "outputs": [
    {
     "data": {
      "text/plain": [
       "0"
      ]
     },
     "execution_count": 228,
     "metadata": {},
     "output_type": "execute_result"
    }
   ],
   "source": [
    "#Verfication\n",
    "\n",
    "previous_application[\"PRODUCT_COMBINATION\"].isnull().sum()"
   ]
  },
  {
   "cell_type": "code",
   "execution_count": 233,
   "id": "b8f1497f",
   "metadata": {},
   "outputs": [
    {
     "data": {
      "text/plain": [
       "SK_ID_PREV                     0\n",
       "SK_ID_CURR                     0\n",
       "NAME_CONTRACT_TYPE             0\n",
       "AMT_ANNUITY                    0\n",
       "AMT_APPLICATION                0\n",
       "AMT_CREDIT                     0\n",
       "AMT_GOODS_PRICE                0\n",
       "WEEKDAY_APPR_PROCESS_START     0\n",
       "HOUR_APPR_PROCESS_START        0\n",
       "FLAG_LAST_APPL_PER_CONTRACT    0\n",
       "NFLAG_LAST_APPL_IN_DAY         0\n",
       "NAME_CASH_LOAN_PURPOSE         0\n",
       "NAME_CONTRACT_STATUS           0\n",
       "DAYS_DECISION                  0\n",
       "NAME_PAYMENT_TYPE              0\n",
       "CODE_REJECT_REASON             0\n",
       "NAME_TYPE_SUITE                0\n",
       "NAME_CLIENT_TYPE               0\n",
       "NAME_GOODS_CATEGORY            0\n",
       "NAME_PORTFOLIO                 0\n",
       "NAME_PRODUCT_TYPE              0\n",
       "CHANNEL_TYPE                   0\n",
       "SELLERPLACE_AREA               0\n",
       "NAME_SELLER_INDUSTRY           0\n",
       "CNT_PAYMENT                    0\n",
       "NAME_YIELD_GROUP               0\n",
       "PRODUCT_COMBINATION            0\n",
       "DAYS_FIRST_DRAWING             0\n",
       "DAYS_FIRST_DUE                 0\n",
       "DAYS_LAST_DUE_1ST_VERSION      0\n",
       "DAYS_LAST_DUE                  0\n",
       "DAYS_TERMINATION               0\n",
       "NFLAG_INSURED_ON_APPROVAL      0\n",
       "dtype: int64"
      ]
     },
     "execution_count": 233,
     "metadata": {},
     "output_type": "execute_result"
    }
   ],
   "source": [
    "#Verifying the data \n",
    "\n",
    "previous_application.isnull().sum()"
   ]
  },
  {
   "cell_type": "code",
   "execution_count": 234,
   "id": "fc4049c7",
   "metadata": {},
   "outputs": [],
   "source": [
    "## HENCE, TREATING OF THE DATA \"PREVIOUS APPLICATION\" HAS BEEN COMPLETED"
   ]
  },
  {
   "cell_type": "code",
   "execution_count": 235,
   "id": "74efeeb2",
   "metadata": {},
   "outputs": [],
   "source": [
    "# MOVING ON TO APPLICATION DATA"
   ]
  },
  {
   "cell_type": "code",
   "execution_count": 238,
   "id": "52f039bb",
   "metadata": {},
   "outputs": [],
   "source": [
    "#IMPORTING THE DATASET\n",
    "\n",
    "application_data=pd.read_csv(\"application_data.csv\")"
   ]
  },
  {
   "cell_type": "code",
   "execution_count": 237,
   "id": "c7be2c56",
   "metadata": {},
   "outputs": [
    {
     "data": {
      "text/html": [
       "<div>\n",
       "<style scoped>\n",
       "    .dataframe tbody tr th:only-of-type {\n",
       "        vertical-align: middle;\n",
       "    }\n",
       "\n",
       "    .dataframe tbody tr th {\n",
       "        vertical-align: top;\n",
       "    }\n",
       "\n",
       "    .dataframe thead th {\n",
       "        text-align: right;\n",
       "    }\n",
       "</style>\n",
       "<table border=\"1\" class=\"dataframe\">\n",
       "  <thead>\n",
       "    <tr style=\"text-align: right;\">\n",
       "      <th></th>\n",
       "      <th>SK_ID_CURR</th>\n",
       "      <th>TARGET</th>\n",
       "      <th>NAME_CONTRACT_TYPE</th>\n",
       "      <th>CODE_GENDER</th>\n",
       "      <th>FLAG_OWN_CAR</th>\n",
       "      <th>FLAG_OWN_REALTY</th>\n",
       "      <th>CNT_CHILDREN</th>\n",
       "      <th>AMT_INCOME_TOTAL</th>\n",
       "      <th>AMT_CREDIT</th>\n",
       "      <th>AMT_ANNUITY</th>\n",
       "      <th>...</th>\n",
       "      <th>FLAG_DOCUMENT_18</th>\n",
       "      <th>FLAG_DOCUMENT_19</th>\n",
       "      <th>FLAG_DOCUMENT_20</th>\n",
       "      <th>FLAG_DOCUMENT_21</th>\n",
       "      <th>AMT_REQ_CREDIT_BUREAU_HOUR</th>\n",
       "      <th>AMT_REQ_CREDIT_BUREAU_DAY</th>\n",
       "      <th>AMT_REQ_CREDIT_BUREAU_WEEK</th>\n",
       "      <th>AMT_REQ_CREDIT_BUREAU_MON</th>\n",
       "      <th>AMT_REQ_CREDIT_BUREAU_QRT</th>\n",
       "      <th>AMT_REQ_CREDIT_BUREAU_YEAR</th>\n",
       "    </tr>\n",
       "  </thead>\n",
       "  <tbody>\n",
       "    <tr>\n",
       "      <th>0</th>\n",
       "      <td>100002</td>\n",
       "      <td>1</td>\n",
       "      <td>Cash loans</td>\n",
       "      <td>M</td>\n",
       "      <td>N</td>\n",
       "      <td>Y</td>\n",
       "      <td>0</td>\n",
       "      <td>202500.0</td>\n",
       "      <td>406597.5</td>\n",
       "      <td>24700.5</td>\n",
       "      <td>...</td>\n",
       "      <td>0</td>\n",
       "      <td>0</td>\n",
       "      <td>0</td>\n",
       "      <td>0</td>\n",
       "      <td>0.0</td>\n",
       "      <td>0.0</td>\n",
       "      <td>0.0</td>\n",
       "      <td>0.0</td>\n",
       "      <td>0.0</td>\n",
       "      <td>1.0</td>\n",
       "    </tr>\n",
       "    <tr>\n",
       "      <th>1</th>\n",
       "      <td>100003</td>\n",
       "      <td>0</td>\n",
       "      <td>Cash loans</td>\n",
       "      <td>F</td>\n",
       "      <td>N</td>\n",
       "      <td>N</td>\n",
       "      <td>0</td>\n",
       "      <td>270000.0</td>\n",
       "      <td>1293502.5</td>\n",
       "      <td>35698.5</td>\n",
       "      <td>...</td>\n",
       "      <td>0</td>\n",
       "      <td>0</td>\n",
       "      <td>0</td>\n",
       "      <td>0</td>\n",
       "      <td>0.0</td>\n",
       "      <td>0.0</td>\n",
       "      <td>0.0</td>\n",
       "      <td>0.0</td>\n",
       "      <td>0.0</td>\n",
       "      <td>0.0</td>\n",
       "    </tr>\n",
       "    <tr>\n",
       "      <th>2</th>\n",
       "      <td>100004</td>\n",
       "      <td>0</td>\n",
       "      <td>Revolving loans</td>\n",
       "      <td>M</td>\n",
       "      <td>Y</td>\n",
       "      <td>Y</td>\n",
       "      <td>0</td>\n",
       "      <td>67500.0</td>\n",
       "      <td>135000.0</td>\n",
       "      <td>6750.0</td>\n",
       "      <td>...</td>\n",
       "      <td>0</td>\n",
       "      <td>0</td>\n",
       "      <td>0</td>\n",
       "      <td>0</td>\n",
       "      <td>0.0</td>\n",
       "      <td>0.0</td>\n",
       "      <td>0.0</td>\n",
       "      <td>0.0</td>\n",
       "      <td>0.0</td>\n",
       "      <td>0.0</td>\n",
       "    </tr>\n",
       "    <tr>\n",
       "      <th>3</th>\n",
       "      <td>100006</td>\n",
       "      <td>0</td>\n",
       "      <td>Cash loans</td>\n",
       "      <td>F</td>\n",
       "      <td>N</td>\n",
       "      <td>Y</td>\n",
       "      <td>0</td>\n",
       "      <td>135000.0</td>\n",
       "      <td>312682.5</td>\n",
       "      <td>29686.5</td>\n",
       "      <td>...</td>\n",
       "      <td>0</td>\n",
       "      <td>0</td>\n",
       "      <td>0</td>\n",
       "      <td>0</td>\n",
       "      <td>NaN</td>\n",
       "      <td>NaN</td>\n",
       "      <td>NaN</td>\n",
       "      <td>NaN</td>\n",
       "      <td>NaN</td>\n",
       "      <td>NaN</td>\n",
       "    </tr>\n",
       "    <tr>\n",
       "      <th>4</th>\n",
       "      <td>100007</td>\n",
       "      <td>0</td>\n",
       "      <td>Cash loans</td>\n",
       "      <td>M</td>\n",
       "      <td>N</td>\n",
       "      <td>Y</td>\n",
       "      <td>0</td>\n",
       "      <td>121500.0</td>\n",
       "      <td>513000.0</td>\n",
       "      <td>21865.5</td>\n",
       "      <td>...</td>\n",
       "      <td>0</td>\n",
       "      <td>0</td>\n",
       "      <td>0</td>\n",
       "      <td>0</td>\n",
       "      <td>0.0</td>\n",
       "      <td>0.0</td>\n",
       "      <td>0.0</td>\n",
       "      <td>0.0</td>\n",
       "      <td>0.0</td>\n",
       "      <td>0.0</td>\n",
       "    </tr>\n",
       "  </tbody>\n",
       "</table>\n",
       "<p>5 rows × 122 columns</p>\n",
       "</div>"
      ],
      "text/plain": [
       "   SK_ID_CURR  TARGET NAME_CONTRACT_TYPE CODE_GENDER FLAG_OWN_CAR  \\\n",
       "0      100002       1         Cash loans           M            N   \n",
       "1      100003       0         Cash loans           F            N   \n",
       "2      100004       0    Revolving loans           M            Y   \n",
       "3      100006       0         Cash loans           F            N   \n",
       "4      100007       0         Cash loans           M            N   \n",
       "\n",
       "  FLAG_OWN_REALTY  CNT_CHILDREN  AMT_INCOME_TOTAL  AMT_CREDIT  AMT_ANNUITY  \\\n",
       "0               Y             0          202500.0    406597.5      24700.5   \n",
       "1               N             0          270000.0   1293502.5      35698.5   \n",
       "2               Y             0           67500.0    135000.0       6750.0   \n",
       "3               Y             0          135000.0    312682.5      29686.5   \n",
       "4               Y             0          121500.0    513000.0      21865.5   \n",
       "\n",
       "   ...  FLAG_DOCUMENT_18 FLAG_DOCUMENT_19 FLAG_DOCUMENT_20 FLAG_DOCUMENT_21  \\\n",
       "0  ...                 0                0                0                0   \n",
       "1  ...                 0                0                0                0   \n",
       "2  ...                 0                0                0                0   \n",
       "3  ...                 0                0                0                0   \n",
       "4  ...                 0                0                0                0   \n",
       "\n",
       "  AMT_REQ_CREDIT_BUREAU_HOUR AMT_REQ_CREDIT_BUREAU_DAY  \\\n",
       "0                        0.0                       0.0   \n",
       "1                        0.0                       0.0   \n",
       "2                        0.0                       0.0   \n",
       "3                        NaN                       NaN   \n",
       "4                        0.0                       0.0   \n",
       "\n",
       "   AMT_REQ_CREDIT_BUREAU_WEEK  AMT_REQ_CREDIT_BUREAU_MON  \\\n",
       "0                         0.0                        0.0   \n",
       "1                         0.0                        0.0   \n",
       "2                         0.0                        0.0   \n",
       "3                         NaN                        NaN   \n",
       "4                         0.0                        0.0   \n",
       "\n",
       "   AMT_REQ_CREDIT_BUREAU_QRT  AMT_REQ_CREDIT_BUREAU_YEAR  \n",
       "0                        0.0                         1.0  \n",
       "1                        0.0                         0.0  \n",
       "2                        0.0                         0.0  \n",
       "3                        NaN                         NaN  \n",
       "4                        0.0                         0.0  \n",
       "\n",
       "[5 rows x 122 columns]"
      ]
     },
     "execution_count": 237,
     "metadata": {},
     "output_type": "execute_result"
    }
   ],
   "source": [
    "application_data.head()"
   ]
  },
  {
   "cell_type": "code",
   "execution_count": 244,
   "id": "2610e590",
   "metadata": {},
   "outputs": [
    {
     "name": "stdout",
     "output_type": "stream",
     "text": [
      "<class 'pandas.core.frame.DataFrame'>\n",
      "RangeIndex: 307511 entries, 0 to 307510\n",
      "Data columns (total 122 columns):\n",
      " #    Column                        Dtype  \n",
      "---   ------                        -----  \n",
      " 0    SK_ID_CURR                    int64  \n",
      " 1    TARGET                        int64  \n",
      " 2    NAME_CONTRACT_TYPE            object \n",
      " 3    CODE_GENDER                   object \n",
      " 4    FLAG_OWN_CAR                  object \n",
      " 5    FLAG_OWN_REALTY               object \n",
      " 6    CNT_CHILDREN                  int64  \n",
      " 7    AMT_INCOME_TOTAL              float64\n",
      " 8    AMT_CREDIT                    float64\n",
      " 9    AMT_ANNUITY                   float64\n",
      " 10   AMT_GOODS_PRICE               float64\n",
      " 11   NAME_TYPE_SUITE               object \n",
      " 12   NAME_INCOME_TYPE              object \n",
      " 13   NAME_EDUCATION_TYPE           object \n",
      " 14   NAME_FAMILY_STATUS            object \n",
      " 15   NAME_HOUSING_TYPE             object \n",
      " 16   REGION_POPULATION_RELATIVE    float64\n",
      " 17   DAYS_BIRTH                    int64  \n",
      " 18   DAYS_EMPLOYED                 int64  \n",
      " 19   DAYS_REGISTRATION             float64\n",
      " 20   DAYS_ID_PUBLISH               int64  \n",
      " 21   OWN_CAR_AGE                   float64\n",
      " 22   FLAG_MOBIL                    int64  \n",
      " 23   FLAG_EMP_PHONE                int64  \n",
      " 24   FLAG_WORK_PHONE               int64  \n",
      " 25   FLAG_CONT_MOBILE              int64  \n",
      " 26   FLAG_PHONE                    int64  \n",
      " 27   FLAG_EMAIL                    int64  \n",
      " 28   OCCUPATION_TYPE               object \n",
      " 29   CNT_FAM_MEMBERS               float64\n",
      " 30   REGION_RATING_CLIENT          int64  \n",
      " 31   REGION_RATING_CLIENT_W_CITY   int64  \n",
      " 32   WEEKDAY_APPR_PROCESS_START    object \n",
      " 33   HOUR_APPR_PROCESS_START       int64  \n",
      " 34   REG_REGION_NOT_LIVE_REGION    int64  \n",
      " 35   REG_REGION_NOT_WORK_REGION    int64  \n",
      " 36   LIVE_REGION_NOT_WORK_REGION   int64  \n",
      " 37   REG_CITY_NOT_LIVE_CITY        int64  \n",
      " 38   REG_CITY_NOT_WORK_CITY        int64  \n",
      " 39   LIVE_CITY_NOT_WORK_CITY       int64  \n",
      " 40   ORGANIZATION_TYPE             object \n",
      " 41   EXT_SOURCE_1                  float64\n",
      " 42   EXT_SOURCE_2                  float64\n",
      " 43   EXT_SOURCE_3                  float64\n",
      " 44   APARTMENTS_AVG                float64\n",
      " 45   BASEMENTAREA_AVG              float64\n",
      " 46   YEARS_BEGINEXPLUATATION_AVG   float64\n",
      " 47   YEARS_BUILD_AVG               float64\n",
      " 48   COMMONAREA_AVG                float64\n",
      " 49   ELEVATORS_AVG                 float64\n",
      " 50   ENTRANCES_AVG                 float64\n",
      " 51   FLOORSMAX_AVG                 float64\n",
      " 52   FLOORSMIN_AVG                 float64\n",
      " 53   LANDAREA_AVG                  float64\n",
      " 54   LIVINGAPARTMENTS_AVG          float64\n",
      " 55   LIVINGAREA_AVG                float64\n",
      " 56   NONLIVINGAPARTMENTS_AVG       float64\n",
      " 57   NONLIVINGAREA_AVG             float64\n",
      " 58   APARTMENTS_MODE               float64\n",
      " 59   BASEMENTAREA_MODE             float64\n",
      " 60   YEARS_BEGINEXPLUATATION_MODE  float64\n",
      " 61   YEARS_BUILD_MODE              float64\n",
      " 62   COMMONAREA_MODE               float64\n",
      " 63   ELEVATORS_MODE                float64\n",
      " 64   ENTRANCES_MODE                float64\n",
      " 65   FLOORSMAX_MODE                float64\n",
      " 66   FLOORSMIN_MODE                float64\n",
      " 67   LANDAREA_MODE                 float64\n",
      " 68   LIVINGAPARTMENTS_MODE         float64\n",
      " 69   LIVINGAREA_MODE               float64\n",
      " 70   NONLIVINGAPARTMENTS_MODE      float64\n",
      " 71   NONLIVINGAREA_MODE            float64\n",
      " 72   APARTMENTS_MEDI               float64\n",
      " 73   BASEMENTAREA_MEDI             float64\n",
      " 74   YEARS_BEGINEXPLUATATION_MEDI  float64\n",
      " 75   YEARS_BUILD_MEDI              float64\n",
      " 76   COMMONAREA_MEDI               float64\n",
      " 77   ELEVATORS_MEDI                float64\n",
      " 78   ENTRANCES_MEDI                float64\n",
      " 79   FLOORSMAX_MEDI                float64\n",
      " 80   FLOORSMIN_MEDI                float64\n",
      " 81   LANDAREA_MEDI                 float64\n",
      " 82   LIVINGAPARTMENTS_MEDI         float64\n",
      " 83   LIVINGAREA_MEDI               float64\n",
      " 84   NONLIVINGAPARTMENTS_MEDI      float64\n",
      " 85   NONLIVINGAREA_MEDI            float64\n",
      " 86   FONDKAPREMONT_MODE            object \n",
      " 87   HOUSETYPE_MODE                object \n",
      " 88   TOTALAREA_MODE                float64\n",
      " 89   WALLSMATERIAL_MODE            object \n",
      " 90   EMERGENCYSTATE_MODE           object \n",
      " 91   OBS_30_CNT_SOCIAL_CIRCLE      float64\n",
      " 92   DEF_30_CNT_SOCIAL_CIRCLE      float64\n",
      " 93   OBS_60_CNT_SOCIAL_CIRCLE      float64\n",
      " 94   DEF_60_CNT_SOCIAL_CIRCLE      float64\n",
      " 95   DAYS_LAST_PHONE_CHANGE        float64\n",
      " 96   FLAG_DOCUMENT_2               int64  \n",
      " 97   FLAG_DOCUMENT_3               int64  \n",
      " 98   FLAG_DOCUMENT_4               int64  \n",
      " 99   FLAG_DOCUMENT_5               int64  \n",
      " 100  FLAG_DOCUMENT_6               int64  \n",
      " 101  FLAG_DOCUMENT_7               int64  \n",
      " 102  FLAG_DOCUMENT_8               int64  \n",
      " 103  FLAG_DOCUMENT_9               int64  \n",
      " 104  FLAG_DOCUMENT_10              int64  \n",
      " 105  FLAG_DOCUMENT_11              int64  \n",
      " 106  FLAG_DOCUMENT_12              int64  \n",
      " 107  FLAG_DOCUMENT_13              int64  \n",
      " 108  FLAG_DOCUMENT_14              int64  \n",
      " 109  FLAG_DOCUMENT_15              int64  \n",
      " 110  FLAG_DOCUMENT_16              int64  \n",
      " 111  FLAG_DOCUMENT_17              int64  \n",
      " 112  FLAG_DOCUMENT_18              int64  \n",
      " 113  FLAG_DOCUMENT_19              int64  \n",
      " 114  FLAG_DOCUMENT_20              int64  \n",
      " 115  FLAG_DOCUMENT_21              int64  \n",
      " 116  AMT_REQ_CREDIT_BUREAU_HOUR    float64\n",
      " 117  AMT_REQ_CREDIT_BUREAU_DAY     float64\n",
      " 118  AMT_REQ_CREDIT_BUREAU_WEEK    float64\n",
      " 119  AMT_REQ_CREDIT_BUREAU_MON     float64\n",
      " 120  AMT_REQ_CREDIT_BUREAU_QRT     float64\n",
      " 121  AMT_REQ_CREDIT_BUREAU_YEAR    float64\n",
      "dtypes: float64(65), int64(41), object(16)\n",
      "memory usage: 286.2+ MB\n"
     ]
    }
   ],
   "source": [
    "application_data.info(verbose=True)"
   ]
  },
  {
   "cell_type": "code",
   "execution_count": 249,
   "id": "e210d172",
   "metadata": {},
   "outputs": [
    {
     "data": {
      "text/plain": [
       "SK_ID_CURR                     0.000000\n",
       "TARGET                         0.000000\n",
       "NAME_CONTRACT_TYPE             0.000000\n",
       "CODE_GENDER                    0.000000\n",
       "FLAG_OWN_CAR                   0.000000\n",
       "                                ...    \n",
       "AMT_REQ_CREDIT_BUREAU_DAY     13.501631\n",
       "AMT_REQ_CREDIT_BUREAU_WEEK    13.501631\n",
       "AMT_REQ_CREDIT_BUREAU_MON     13.501631\n",
       "AMT_REQ_CREDIT_BUREAU_QRT     13.501631\n",
       "AMT_REQ_CREDIT_BUREAU_YEAR    13.501631\n",
       "Length: 122, dtype: float64"
      ]
     },
     "execution_count": 249,
     "metadata": {},
     "output_type": "execute_result"
    }
   ],
   "source": [
    "#Finding the percentage of missing values\n",
    "\n",
    "(application_data.isnull().sum()/len(application_data.index))*100"
   ]
  },
  {
   "cell_type": "code",
   "execution_count": 251,
   "id": "f3349419",
   "metadata": {},
   "outputs": [
    {
     "data": {
      "text/plain": [
       "SK_ID_CURR                       0.000000\n",
       "TARGET                           0.000000\n",
       "NAME_CONTRACT_TYPE               0.000000\n",
       "CODE_GENDER                      0.000000\n",
       "FLAG_OWN_CAR                     0.000000\n",
       "FLAG_OWN_REALTY                  0.000000\n",
       "CNT_CHILDREN                     0.000000\n",
       "AMT_INCOME_TOTAL                 0.000000\n",
       "AMT_CREDIT                       0.000000\n",
       "AMT_ANNUITY                      0.003902\n",
       "AMT_GOODS_PRICE                  0.090403\n",
       "NAME_TYPE_SUITE                  0.420148\n",
       "NAME_INCOME_TYPE                 0.000000\n",
       "NAME_EDUCATION_TYPE              0.000000\n",
       "NAME_FAMILY_STATUS               0.000000\n",
       "NAME_HOUSING_TYPE                0.000000\n",
       "REGION_POPULATION_RELATIVE       0.000000\n",
       "DAYS_BIRTH                       0.000000\n",
       "DAYS_EMPLOYED                    0.000000\n",
       "DAYS_REGISTRATION                0.000000\n",
       "DAYS_ID_PUBLISH                  0.000000\n",
       "OWN_CAR_AGE                     65.990810\n",
       "FLAG_MOBIL                       0.000000\n",
       "FLAG_EMP_PHONE                   0.000000\n",
       "FLAG_WORK_PHONE                  0.000000\n",
       "FLAG_CONT_MOBILE                 0.000000\n",
       "FLAG_PHONE                       0.000000\n",
       "FLAG_EMAIL                       0.000000\n",
       "OCCUPATION_TYPE                 31.345545\n",
       "CNT_FAM_MEMBERS                  0.000650\n",
       "REGION_RATING_CLIENT             0.000000\n",
       "REGION_RATING_CLIENT_W_CITY      0.000000\n",
       "WEEKDAY_APPR_PROCESS_START       0.000000\n",
       "HOUR_APPR_PROCESS_START          0.000000\n",
       "REG_REGION_NOT_LIVE_REGION       0.000000\n",
       "REG_REGION_NOT_WORK_REGION       0.000000\n",
       "LIVE_REGION_NOT_WORK_REGION      0.000000\n",
       "REG_CITY_NOT_LIVE_CITY           0.000000\n",
       "REG_CITY_NOT_WORK_CITY           0.000000\n",
       "LIVE_CITY_NOT_WORK_CITY          0.000000\n",
       "ORGANIZATION_TYPE                0.000000\n",
       "EXT_SOURCE_1                    56.381073\n",
       "EXT_SOURCE_2                     0.214626\n",
       "EXT_SOURCE_3                    19.825307\n",
       "APARTMENTS_AVG                  50.749729\n",
       "BASEMENTAREA_AVG                58.515956\n",
       "YEARS_BEGINEXPLUATATION_AVG     48.781019\n",
       "YEARS_BUILD_AVG                 66.497784\n",
       "COMMONAREA_AVG                  69.872297\n",
       "ELEVATORS_AVG                   53.295980\n",
       "ENTRANCES_AVG                   50.348768\n",
       "FLOORSMAX_AVG                   49.760822\n",
       "FLOORSMIN_AVG                   67.848630\n",
       "LANDAREA_AVG                    59.376738\n",
       "LIVINGAPARTMENTS_AVG            68.354953\n",
       "LIVINGAREA_AVG                  50.193326\n",
       "NONLIVINGAPARTMENTS_AVG         69.432963\n",
       "NONLIVINGAREA_AVG               55.179164\n",
       "APARTMENTS_MODE                 50.749729\n",
       "BASEMENTAREA_MODE               58.515956\n",
       "YEARS_BEGINEXPLUATATION_MODE    48.781019\n",
       "YEARS_BUILD_MODE                66.497784\n",
       "COMMONAREA_MODE                 69.872297\n",
       "ELEVATORS_MODE                  53.295980\n",
       "ENTRANCES_MODE                  50.348768\n",
       "FLOORSMAX_MODE                  49.760822\n",
       "FLOORSMIN_MODE                  67.848630\n",
       "LANDAREA_MODE                   59.376738\n",
       "LIVINGAPARTMENTS_MODE           68.354953\n",
       "LIVINGAREA_MODE                 50.193326\n",
       "NONLIVINGAPARTMENTS_MODE        69.432963\n",
       "NONLIVINGAREA_MODE              55.179164\n",
       "APARTMENTS_MEDI                 50.749729\n",
       "BASEMENTAREA_MEDI               58.515956\n",
       "YEARS_BEGINEXPLUATATION_MEDI    48.781019\n",
       "YEARS_BUILD_MEDI                66.497784\n",
       "COMMONAREA_MEDI                 69.872297\n",
       "ELEVATORS_MEDI                  53.295980\n",
       "ENTRANCES_MEDI                  50.348768\n",
       "FLOORSMAX_MEDI                  49.760822\n",
       "FLOORSMIN_MEDI                  67.848630\n",
       "LANDAREA_MEDI                   59.376738\n",
       "LIVINGAPARTMENTS_MEDI           68.354953\n",
       "LIVINGAREA_MEDI                 50.193326\n",
       "NONLIVINGAPARTMENTS_MEDI        69.432963\n",
       "NONLIVINGAREA_MEDI              55.179164\n",
       "FONDKAPREMONT_MODE              68.386172\n",
       "HOUSETYPE_MODE                  50.176091\n",
       "TOTALAREA_MODE                  48.268517\n",
       "WALLSMATERIAL_MODE              50.840783\n",
       "EMERGENCYSTATE_MODE             47.398304\n",
       "OBS_30_CNT_SOCIAL_CIRCLE         0.332021\n",
       "DEF_30_CNT_SOCIAL_CIRCLE         0.332021\n",
       "OBS_60_CNT_SOCIAL_CIRCLE         0.332021\n",
       "DEF_60_CNT_SOCIAL_CIRCLE         0.332021\n",
       "DAYS_LAST_PHONE_CHANGE           0.000325\n",
       "FLAG_DOCUMENT_2                  0.000000\n",
       "FLAG_DOCUMENT_3                  0.000000\n",
       "FLAG_DOCUMENT_4                  0.000000\n",
       "FLAG_DOCUMENT_5                  0.000000\n",
       "FLAG_DOCUMENT_6                  0.000000\n",
       "FLAG_DOCUMENT_7                  0.000000\n",
       "FLAG_DOCUMENT_8                  0.000000\n",
       "FLAG_DOCUMENT_9                  0.000000\n",
       "FLAG_DOCUMENT_10                 0.000000\n",
       "FLAG_DOCUMENT_11                 0.000000\n",
       "FLAG_DOCUMENT_12                 0.000000\n",
       "FLAG_DOCUMENT_13                 0.000000\n",
       "FLAG_DOCUMENT_14                 0.000000\n",
       "FLAG_DOCUMENT_15                 0.000000\n",
       "FLAG_DOCUMENT_16                 0.000000\n",
       "FLAG_DOCUMENT_17                 0.000000\n",
       "FLAG_DOCUMENT_18                 0.000000\n",
       "FLAG_DOCUMENT_19                 0.000000\n",
       "FLAG_DOCUMENT_20                 0.000000\n",
       "FLAG_DOCUMENT_21                 0.000000\n",
       "AMT_REQ_CREDIT_BUREAU_HOUR      13.501631\n",
       "AMT_REQ_CREDIT_BUREAU_DAY       13.501631\n",
       "AMT_REQ_CREDIT_BUREAU_WEEK      13.501631\n",
       "AMT_REQ_CREDIT_BUREAU_MON       13.501631\n",
       "AMT_REQ_CREDIT_BUREAU_QRT       13.501631\n",
       "AMT_REQ_CREDIT_BUREAU_YEAR      13.501631\n",
       "dtype: float64"
      ]
     },
     "execution_count": 251,
     "metadata": {},
     "output_type": "execute_result"
    }
   ],
   "source": [
    "#Displaying all the columns:\n",
    "pd.set_option(\"display.max_rows\",None,\"display.max_columns\",None)\n",
    "(application_data.isnull().sum()/len(application_data.index))*100"
   ]
  },
  {
   "cell_type": "code",
   "execution_count": 252,
   "id": "ce632a54",
   "metadata": {},
   "outputs": [],
   "source": [
    "#Columns with more than 50% of missing values should be dropped"
   ]
  },
  {
   "cell_type": "code",
   "execution_count": 253,
   "id": "0c250ce3",
   "metadata": {},
   "outputs": [],
   "source": [
    "#creating a list of columns to delete\n",
    "\n",
    "deletecolumns=[\"OWN_CAR_AGE\",\"EXT_SOURCE_1\",\"APARTMENTS_AVG\",\"BASEMENTAREA_AVG\",\"YEARS_BUILD_AVG\",\"COMMONAREA_AVG\",\"ELEVATORS_AVG\",\"ENTRANCES_AVG\",\"FLOORSMIN_AVG\",\"LANDAREA_AVG\",\"LIVINGAPARTMENTS_AVG\",\"LIVINGAREA_AVG\",\"NONLIVINGAPARTMENTS_AVG\",\"NONLIVINGAREA_AVG\",\"APARTMENTS_MODE\",\"BASEMENTAREA_MODE\",\"YEARS_BUILD_MODE\",\"COMMONAREA_MODE\", \"ELEVATORS_MODE\", \"ENTRANCES_MODE\", \"FLOORSMIN_MODE\", \"LANDAREA_MODE\", \"LIVINGAPARTMENTS_MODE\", \"LIVINGAREA_MODE\", \"NONLIVINGAPARTMENTS_MODE\", \"NONLIVINGAREA_MODE\", \"APARTMENTS_MEDI\", \"BASEMENTAREA_MEDI\", \"YEARS_BUILD_MEDI\", \"COMMONAREA_MEDI\", \"ELEVATORS_MEDI\", \"ENTRANCES_MEDI\", \"FLOORSMIN_MEDI\", \"LANDAREA_MEDI\", \"LIVINGAPARTMENTS_MEDI\", \"LIVINGAREA_MEDI\", \"NONLIVINGAPARTMENTS_MEDI\", \"LIVINGAREA_MEDI\", \"NONLIVINGAPARTMENTS_MEDI\", \"NONLIVINGAREA_MEDI\", \"FONDKAPREMONT_MODE\", \"HOUSETYPE_MODE\", \"WALLSMATERIAL_MODE\"]"
   ]
  },
  {
   "cell_type": "code",
   "execution_count": 256,
   "id": "7ecf6406",
   "metadata": {},
   "outputs": [],
   "source": [
    "#Dropping the columns\n",
    "\n",
    "application_data.drop(deletecolumns,axis=1,inplace=True)"
   ]
  },
  {
   "cell_type": "code",
   "execution_count": 258,
   "id": "67ba843a",
   "metadata": {},
   "outputs": [
    {
     "data": {
      "text/plain": [
       "SK_ID_CURR                       0.000000\n",
       "TARGET                           0.000000\n",
       "NAME_CONTRACT_TYPE               0.000000\n",
       "CODE_GENDER                      0.000000\n",
       "FLAG_OWN_CAR                     0.000000\n",
       "FLAG_OWN_REALTY                  0.000000\n",
       "CNT_CHILDREN                     0.000000\n",
       "AMT_INCOME_TOTAL                 0.000000\n",
       "AMT_CREDIT                       0.000000\n",
       "AMT_ANNUITY                      0.003902\n",
       "AMT_GOODS_PRICE                  0.090403\n",
       "NAME_TYPE_SUITE                  0.420148\n",
       "NAME_INCOME_TYPE                 0.000000\n",
       "NAME_EDUCATION_TYPE              0.000000\n",
       "NAME_FAMILY_STATUS               0.000000\n",
       "NAME_HOUSING_TYPE                0.000000\n",
       "REGION_POPULATION_RELATIVE       0.000000\n",
       "DAYS_BIRTH                       0.000000\n",
       "DAYS_EMPLOYED                    0.000000\n",
       "DAYS_REGISTRATION                0.000000\n",
       "DAYS_ID_PUBLISH                  0.000000\n",
       "FLAG_MOBIL                       0.000000\n",
       "FLAG_EMP_PHONE                   0.000000\n",
       "FLAG_WORK_PHONE                  0.000000\n",
       "FLAG_CONT_MOBILE                 0.000000\n",
       "FLAG_PHONE                       0.000000\n",
       "FLAG_EMAIL                       0.000000\n",
       "OCCUPATION_TYPE                 31.345545\n",
       "CNT_FAM_MEMBERS                  0.000650\n",
       "REGION_RATING_CLIENT             0.000000\n",
       "REGION_RATING_CLIENT_W_CITY      0.000000\n",
       "WEEKDAY_APPR_PROCESS_START       0.000000\n",
       "HOUR_APPR_PROCESS_START          0.000000\n",
       "REG_REGION_NOT_LIVE_REGION       0.000000\n",
       "REG_REGION_NOT_WORK_REGION       0.000000\n",
       "LIVE_REGION_NOT_WORK_REGION      0.000000\n",
       "REG_CITY_NOT_LIVE_CITY           0.000000\n",
       "REG_CITY_NOT_WORK_CITY           0.000000\n",
       "LIVE_CITY_NOT_WORK_CITY          0.000000\n",
       "ORGANIZATION_TYPE                0.000000\n",
       "EXT_SOURCE_2                     0.214626\n",
       "EXT_SOURCE_3                    19.825307\n",
       "YEARS_BEGINEXPLUATATION_AVG     48.781019\n",
       "FLOORSMAX_AVG                   49.760822\n",
       "YEARS_BEGINEXPLUATATION_MODE    48.781019\n",
       "FLOORSMAX_MODE                  49.760822\n",
       "YEARS_BEGINEXPLUATATION_MEDI    48.781019\n",
       "FLOORSMAX_MEDI                  49.760822\n",
       "TOTALAREA_MODE                  48.268517\n",
       "EMERGENCYSTATE_MODE             47.398304\n",
       "OBS_30_CNT_SOCIAL_CIRCLE         0.332021\n",
       "DEF_30_CNT_SOCIAL_CIRCLE         0.332021\n",
       "OBS_60_CNT_SOCIAL_CIRCLE         0.332021\n",
       "DEF_60_CNT_SOCIAL_CIRCLE         0.332021\n",
       "DAYS_LAST_PHONE_CHANGE           0.000325\n",
       "FLAG_DOCUMENT_2                  0.000000\n",
       "FLAG_DOCUMENT_3                  0.000000\n",
       "FLAG_DOCUMENT_4                  0.000000\n",
       "FLAG_DOCUMENT_5                  0.000000\n",
       "FLAG_DOCUMENT_6                  0.000000\n",
       "FLAG_DOCUMENT_7                  0.000000\n",
       "FLAG_DOCUMENT_8                  0.000000\n",
       "FLAG_DOCUMENT_9                  0.000000\n",
       "FLAG_DOCUMENT_10                 0.000000\n",
       "FLAG_DOCUMENT_11                 0.000000\n",
       "FLAG_DOCUMENT_12                 0.000000\n",
       "FLAG_DOCUMENT_13                 0.000000\n",
       "FLAG_DOCUMENT_14                 0.000000\n",
       "FLAG_DOCUMENT_15                 0.000000\n",
       "FLAG_DOCUMENT_16                 0.000000\n",
       "FLAG_DOCUMENT_17                 0.000000\n",
       "FLAG_DOCUMENT_18                 0.000000\n",
       "FLAG_DOCUMENT_19                 0.000000\n",
       "FLAG_DOCUMENT_20                 0.000000\n",
       "FLAG_DOCUMENT_21                 0.000000\n",
       "AMT_REQ_CREDIT_BUREAU_HOUR      13.501631\n",
       "AMT_REQ_CREDIT_BUREAU_DAY       13.501631\n",
       "AMT_REQ_CREDIT_BUREAU_WEEK      13.501631\n",
       "AMT_REQ_CREDIT_BUREAU_MON       13.501631\n",
       "AMT_REQ_CREDIT_BUREAU_QRT       13.501631\n",
       "AMT_REQ_CREDIT_BUREAU_YEAR      13.501631\n",
       "dtype: float64"
      ]
     },
     "execution_count": 258,
     "metadata": {},
     "output_type": "execute_result"
    }
   ],
   "source": [
    "#Verification\n",
    "\n",
    "pd.set_option(\"display.max_rows\",None,\"display.max_columns\",None)\n",
    "(application_data.isnull().sum()/len(application_data.index))*100"
   ]
  },
  {
   "cell_type": "code",
   "execution_count": 259,
   "id": "99ebcdd4",
   "metadata": {},
   "outputs": [
    {
     "data": {
      "text/plain": [
       "(307511, 81)"
      ]
     },
     "execution_count": 259,
     "metadata": {},
     "output_type": "execute_result"
    }
   ],
   "source": [
    "application_data.shape"
   ]
  },
  {
   "cell_type": "code",
   "execution_count": 260,
   "id": "9f2ed2a7",
   "metadata": {},
   "outputs": [],
   "source": [
    "# Filling/Imputing the remaining missing values"
   ]
  },
  {
   "cell_type": "code",
   "execution_count": 261,
   "id": "658d25cb",
   "metadata": {},
   "outputs": [],
   "source": [
    "#Column AMT_ANNUITY(Loan annuity)"
   ]
  },
  {
   "cell_type": "code",
   "execution_count": 262,
   "id": "eb982fdb",
   "metadata": {},
   "outputs": [
    {
     "data": {
      "image/png": "[encoded data removed]",
      "text/plain": [
       "<Figure size 432x288 with 1 Axes>"
      ]
     },
     "metadata": {
      "needs_background": "light"
     },
     "output_type": "display_data"
    }
   ],
   "source": [
    "plt.hist(application_data[\"AMT_ANNUITY\"])\n",
    "plt.show()"
   ]
  },
  {
   "cell_type": "code",
   "execution_count": 263,
   "id": "6fd42cec",
   "metadata": {},
   "outputs": [
    {
     "data": {
      "text/plain": [
       "24903.0"
      ]
     },
     "execution_count": 263,
     "metadata": {},
     "output_type": "execute_result"
    }
   ],
   "source": [
    "#Filling the missing values with median\n",
    "application_data[\"AMT_ANNUITY\"].median()"
   ]
  },
  {
   "cell_type": "code",
   "execution_count": 265,
   "id": "881571d1",
   "metadata": {},
   "outputs": [],
   "source": [
    "application_data[\"AMT_ANNUITY\"]=application_data[\"AMT_ANNUITY\"].fillna(application_data[\"AMT_ANNUITY\"].median())"
   ]
  },
  {
   "cell_type": "code",
   "execution_count": 267,
   "id": "68642fc2",
   "metadata": {},
   "outputs": [
    {
     "data": {
      "text/plain": [
       "0"
      ]
     },
     "execution_count": 267,
     "metadata": {},
     "output_type": "execute_result"
    }
   ],
   "source": [
    "#Verification\n",
    "\n",
    "application_data[\"AMT_ANNUITY\"].isnull().sum()"
   ]
  },
  {
   "cell_type": "code",
   "execution_count": 268,
   "id": "be474f45",
   "metadata": {},
   "outputs": [],
   "source": [
    "# Column AMT_GOODS_PRICE(For consumer loans it is the price of the goods for which the loan is given)"
   ]
  },
  {
   "cell_type": "code",
   "execution_count": 270,
   "id": "1f53009c",
   "metadata": {},
   "outputs": [
    {
     "data": {
      "image/png": "[encoded data removed]",
      "text/plain": [
       "<Figure size 432x288 with 1 Axes>"
      ]
     },
     "metadata": {
      "needs_background": "light"
     },
     "output_type": "display_data"
    }
   ],
   "source": [
    "plt.hist(application_data[\"AMT_GOODS_PRICE\"])\n",
    "plt.show()"
   ]
  },
  {
   "cell_type": "code",
   "execution_count": 271,
   "id": "68712ce0",
   "metadata": {},
   "outputs": [
    {
     "data": {
      "text/plain": [
       "450000.0"
      ]
     },
     "execution_count": 271,
     "metadata": {},
     "output_type": "execute_result"
    }
   ],
   "source": [
    "#Filling the missing values with median\n",
    "\n",
    "application_data[\"AMT_GOODS_PRICE\"].median()"
   ]
  },
  {
   "cell_type": "code",
   "execution_count": 273,
   "id": "a0e2da8d",
   "metadata": {},
   "outputs": [],
   "source": [
    "application_data[\"AMT_GOODS_PRICE\"]=application_data[\"AMT_GOODS_PRICE\"].fillna(application_data[\"AMT_GOODS_PRICE\"].median())"
   ]
  },
  {
   "cell_type": "code",
   "execution_count": 274,
   "id": "70b104b4",
   "metadata": {},
   "outputs": [
    {
     "data": {
      "text/plain": [
       "0"
      ]
     },
     "execution_count": 274,
     "metadata": {},
     "output_type": "execute_result"
    }
   ],
   "source": [
    "#Verification\n",
    "\n",
    "application_data[\"AMT_GOODS_PRICE\"].isnull().sum()"
   ]
  },
  {
   "cell_type": "code",
   "execution_count": 276,
   "id": "ed7856dc",
   "metadata": {},
   "outputs": [],
   "source": [
    "# Column NAME_TYPE_SUITE(Who was accompanying client when he was applying for the loan)"
   ]
  },
  {
   "cell_type": "code",
   "execution_count": 278,
   "id": "4924cf57",
   "metadata": {},
   "outputs": [
    {
     "data": {
      "text/plain": [
       "Unaccompanied      248526\n",
       "Family              40149\n",
       "Spouse, partner     11370\n",
       "Children             3267\n",
       "Other_B              1770\n",
       "Other_A               866\n",
       "Group of people       271\n",
       "Name: NAME_TYPE_SUITE, dtype: int64"
      ]
     },
     "execution_count": 278,
     "metadata": {},
     "output_type": "execute_result"
    }
   ],
   "source": [
    "application_data[\"NAME_TYPE_SUITE\"].value_counts()"
   ]
  },
  {
   "cell_type": "code",
   "execution_count": 279,
   "id": "8738acc8",
   "metadata": {},
   "outputs": [],
   "source": [
    "# As most of the customers are unaccompanied, filling the missing values with \"unaccompanied\" could be better"
   ]
  },
  {
   "cell_type": "code",
   "execution_count": 281,
   "id": "b6fd9dd8",
   "metadata": {},
   "outputs": [],
   "source": [
    "application_data[\"NAME_TYPE_SUITE\"]=application_data[\"NAME_TYPE_SUITE\"].fillna(\"Unaccompanied\")"
   ]
  },
  {
   "cell_type": "code",
   "execution_count": 282,
   "id": "675299cf",
   "metadata": {},
   "outputs": [
    {
     "data": {
      "text/plain": [
       "0"
      ]
     },
     "execution_count": 282,
     "metadata": {},
     "output_type": "execute_result"
    }
   ],
   "source": [
    "#Verification\n",
    "\n",
    "application_data[\"NAME_TYPE_SUITE\"].isnull().sum()"
   ]
  },
  {
   "cell_type": "code",
   "execution_count": 283,
   "id": "b57c89b6",
   "metadata": {},
   "outputs": [],
   "source": [
    "# Column OCCUPATION_TYPE(What kind of occupation does the client have)"
   ]
  },
  {
   "cell_type": "code",
   "execution_count": 284,
   "id": "12b7d691",
   "metadata": {},
   "outputs": [
    {
     "data": {
      "text/plain": [
       "count       211120\n",
       "unique          18\n",
       "top       Laborers\n",
       "freq         55186\n",
       "Name: OCCUPATION_TYPE, dtype: object"
      ]
     },
     "execution_count": 284,
     "metadata": {},
     "output_type": "execute_result"
    }
   ],
   "source": [
    "application_data[\"OCCUPATION_TYPE\"].describe()"
   ]
  },
  {
   "cell_type": "code",
   "execution_count": 285,
   "id": "f00f387e",
   "metadata": {},
   "outputs": [
    {
     "data": {
      "text/plain": [
       "96391"
      ]
     },
     "execution_count": 285,
     "metadata": {},
     "output_type": "execute_result"
    }
   ],
   "source": [
    "application_data[\"OCCUPATION_TYPE\"].isnull().sum()"
   ]
  },
  {
   "cell_type": "code",
   "execution_count": 286,
   "id": "58487940",
   "metadata": {},
   "outputs": [
    {
     "data": {
      "text/plain": [
       "Laborers                 55186\n",
       "Sales staff              32102\n",
       "Core staff               27570\n",
       "Managers                 21371\n",
       "Drivers                  18603\n",
       "High skill tech staff    11380\n",
       "Accountants               9813\n",
       "Medicine staff            8537\n",
       "Security staff            6721\n",
       "Cooking staff             5946\n",
       "Cleaning staff            4653\n",
       "Private service staff     2652\n",
       "Low-skill Laborers        2093\n",
       "Waiters/barmen staff      1348\n",
       "Secretaries               1305\n",
       "Realty agents              751\n",
       "HR staff                   563\n",
       "IT staff                   526\n",
       "Name: OCCUPATION_TYPE, dtype: int64"
      ]
     },
     "execution_count": 286,
     "metadata": {},
     "output_type": "execute_result"
    }
   ],
   "source": [
    "application_data[\"OCCUPATION_TYPE\"].value_counts()"
   ]
  },
  {
   "cell_type": "code",
   "execution_count": 289,
   "id": "324bc8a6",
   "metadata": {},
   "outputs": [],
   "source": [
    "#Removing the missing values\n",
    "\n",
    "application_data[\"OCCUPATION_TYPE\"]=application_data[\"OCCUPATION_TYPE\"][~application_data[\"OCCUPATION_TYPE\"].isnull()]"
   ]
  },
  {
   "cell_type": "code",
   "execution_count": 290,
   "id": "e220e545",
   "metadata": {},
   "outputs": [],
   "source": [
    "application_data.dropna(subset=[\"OCCUPATION_TYPE\"],inplace=True)"
   ]
  },
  {
   "cell_type": "code",
   "execution_count": 292,
   "id": "3de95a20",
   "metadata": {},
   "outputs": [
    {
     "data": {
      "text/plain": [
       "0"
      ]
     },
     "execution_count": 292,
     "metadata": {},
     "output_type": "execute_result"
    }
   ],
   "source": [
    "#Verification\n",
    "\n",
    "application_data[\"OCCUPATION_TYPE\"].isnull().sum()"
   ]
  },
  {
   "cell_type": "code",
   "execution_count": 293,
   "id": "c2b86a17",
   "metadata": {},
   "outputs": [
    {
     "data": {
      "text/plain": [
       "(211120, 81)"
      ]
     },
     "execution_count": 293,
     "metadata": {},
     "output_type": "execute_result"
    }
   ],
   "source": [
    "application_data.shape"
   ]
  },
  {
   "cell_type": "code",
   "execution_count": 294,
   "id": "4c7ec21f",
   "metadata": {},
   "outputs": [],
   "source": [
    "# Dropping the columns that is not required for the analysis"
   ]
  },
  {
   "cell_type": "code",
   "execution_count": 296,
   "id": "0aeb4266",
   "metadata": {},
   "outputs": [],
   "source": [
    "application_data.drop([\"FLAG_MOBIL\",\"FLAG_WORK_PHONE\",\"FLAG_EMP_PHONE\",\"FLAG_PHONE\",\"FLAG_CONT_MOBILE\",\"REGION_RATING_CLIENT\",\"REGION_RATING_CLIENT_W_CITY\",\"DAYS_LAST_PHONE_CHANGE\",\"EXT_SOURCE_2\",\"EXT_SOURCE_3\",\"FLAG_DOCUMENT_2\",\"FLAG_DOCUMENT_3\",\"FLAG_DOCUMENT_4\",\"FLAG_DOCUMENT_5\",\"FLAG_DOCUMENT_6\",\"FLAG_DOCUMENT_7\",\"FLAG_DOCUMENT_8\",\"FLAG_DOCUMENT_9\",\"FLAG_DOCUMENT_10\",\"FLAG_DOCUMENT_11\",\"FLAG_DOCUMENT_12\",\"FLAG_DOCUMENT_13\",\"FLAG_DOCUMENT_14\",\"FLAG_DOCUMENT_15\",\"FLAG_DOCUMENT_16\",\"FLAG_DOCUMENT_17\",\"FLAG_DOCUMENT_18\",\"FLAG_DOCUMENT_19\",\"FLAG_DOCUMENT_20\",\"FLAG_DOCUMENT_21\",\"FLOORSMAX_AVG\",\"FLOORSMAX_MODE\",\"FLOORSMAX_MEDI\",\"EMERGENCYSTATE_MODE\",\"TOTALAREA_MODE\",\"YEARS_BEGINEXPLUATATION_AVG\",\"YEARS_BEGINEXPLUATATION_MODE\",\"YEARS_BEGINEXPLUATATION_MEDI\"],axis=1,inplace=True)"
   ]
  },
  {
   "cell_type": "code",
   "execution_count": 298,
   "id": "b60ee64c",
   "metadata": {},
   "outputs": [
    {
     "data": {
      "text/plain": [
       "SK_ID_CURR                         0\n",
       "TARGET                             0\n",
       "NAME_CONTRACT_TYPE                 0\n",
       "CODE_GENDER                        0\n",
       "FLAG_OWN_CAR                       0\n",
       "FLAG_OWN_REALTY                    0\n",
       "CNT_CHILDREN                       0\n",
       "AMT_INCOME_TOTAL                   0\n",
       "AMT_CREDIT                         0\n",
       "AMT_ANNUITY                        0\n",
       "AMT_GOODS_PRICE                    0\n",
       "NAME_TYPE_SUITE                    0\n",
       "NAME_INCOME_TYPE                   0\n",
       "NAME_EDUCATION_TYPE                0\n",
       "NAME_FAMILY_STATUS                 0\n",
       "NAME_HOUSING_TYPE                  0\n",
       "REGION_POPULATION_RELATIVE         0\n",
       "DAYS_BIRTH                         0\n",
       "DAYS_EMPLOYED                      0\n",
       "DAYS_REGISTRATION                  0\n",
       "DAYS_ID_PUBLISH                    0\n",
       "FLAG_EMAIL                         0\n",
       "OCCUPATION_TYPE                    0\n",
       "CNT_FAM_MEMBERS                    2\n",
       "WEEKDAY_APPR_PROCESS_START         0\n",
       "HOUR_APPR_PROCESS_START            0\n",
       "REG_REGION_NOT_LIVE_REGION         0\n",
       "REG_REGION_NOT_WORK_REGION         0\n",
       "LIVE_REGION_NOT_WORK_REGION        0\n",
       "REG_CITY_NOT_LIVE_CITY             0\n",
       "REG_CITY_NOT_WORK_CITY             0\n",
       "LIVE_CITY_NOT_WORK_CITY            0\n",
       "ORGANIZATION_TYPE                  0\n",
       "OBS_30_CNT_SOCIAL_CIRCLE         696\n",
       "DEF_30_CNT_SOCIAL_CIRCLE         696\n",
       "OBS_60_CNT_SOCIAL_CIRCLE         696\n",
       "DEF_60_CNT_SOCIAL_CIRCLE         696\n",
       "AMT_REQ_CREDIT_BUREAU_HOUR     28297\n",
       "AMT_REQ_CREDIT_BUREAU_DAY      28297\n",
       "AMT_REQ_CREDIT_BUREAU_WEEK     28297\n",
       "AMT_REQ_CREDIT_BUREAU_MON      28297\n",
       "AMT_REQ_CREDIT_BUREAU_QRT      28297\n",
       "AMT_REQ_CREDIT_BUREAU_YEAR     28297\n",
       "dtype: int64"
      ]
     },
     "execution_count": 298,
     "metadata": {},
     "output_type": "execute_result"
    }
   ],
   "source": [
    "#Verification\n",
    "\n",
    "application_data.isnull().sum()"
   ]
  },
  {
   "cell_type": "code",
   "execution_count": 299,
   "id": "b3b5153b",
   "metadata": {},
   "outputs": [],
   "source": [
    "# Treating the column CODE_GENDER"
   ]
  },
  {
   "cell_type": "code",
   "execution_count": 301,
   "id": "b367275b",
   "metadata": {},
   "outputs": [
    {
     "data": {
      "text/plain": [
       "F      129282\n",
       "M       81836\n",
       "XNA         2\n",
       "Name: CODE_GENDER, dtype: int64"
      ]
     },
     "execution_count": 301,
     "metadata": {},
     "output_type": "execute_result"
    }
   ],
   "source": [
    "application_data[\"CODE_GENDER\"].value_counts()"
   ]
  },
  {
   "cell_type": "code",
   "execution_count": 302,
   "id": "32b4321d",
   "metadata": {},
   "outputs": [],
   "source": [
    "# Replacing XNA with F\n",
    "\n",
    "application_data[\"CODE_GENDER\"].replace(\"XNA\",\"F\",inplace=True)"
   ]
  },
  {
   "cell_type": "code",
   "execution_count": 303,
   "id": "68261965",
   "metadata": {},
   "outputs": [
    {
     "data": {
      "text/plain": [
       "F    129284\n",
       "M     81836\n",
       "Name: CODE_GENDER, dtype: int64"
      ]
     },
     "execution_count": 303,
     "metadata": {},
     "output_type": "execute_result"
    }
   ],
   "source": [
    "application_data[\"CODE_GENDER\"].value_counts()"
   ]
  },
  {
   "cell_type": "code",
   "execution_count": 304,
   "id": "6df61955",
   "metadata": {},
   "outputs": [
    {
     "data": {
      "text/plain": [
       "SK_ID_CURR                      0.000000\n",
       "TARGET                          0.000000\n",
       "NAME_CONTRACT_TYPE              0.000000\n",
       "CODE_GENDER                     0.000000\n",
       "FLAG_OWN_CAR                    0.000000\n",
       "FLAG_OWN_REALTY                 0.000000\n",
       "CNT_CHILDREN                    0.000000\n",
       "AMT_INCOME_TOTAL                0.000000\n",
       "AMT_CREDIT                      0.000000\n",
       "AMT_ANNUITY                     0.000000\n",
       "AMT_GOODS_PRICE                 0.000000\n",
       "NAME_TYPE_SUITE                 0.000000\n",
       "NAME_INCOME_TYPE                0.000000\n",
       "NAME_EDUCATION_TYPE             0.000000\n",
       "NAME_FAMILY_STATUS              0.000000\n",
       "NAME_HOUSING_TYPE               0.000000\n",
       "REGION_POPULATION_RELATIVE      0.000000\n",
       "DAYS_BIRTH                      0.000000\n",
       "DAYS_EMPLOYED                   0.000000\n",
       "DAYS_REGISTRATION               0.000000\n",
       "DAYS_ID_PUBLISH                 0.000000\n",
       "FLAG_EMAIL                      0.000000\n",
       "OCCUPATION_TYPE                 0.000000\n",
       "CNT_FAM_MEMBERS                 0.000947\n",
       "WEEKDAY_APPR_PROCESS_START      0.000000\n",
       "HOUR_APPR_PROCESS_START         0.000000\n",
       "REG_REGION_NOT_LIVE_REGION      0.000000\n",
       "REG_REGION_NOT_WORK_REGION      0.000000\n",
       "LIVE_REGION_NOT_WORK_REGION     0.000000\n",
       "REG_CITY_NOT_LIVE_CITY          0.000000\n",
       "REG_CITY_NOT_WORK_CITY          0.000000\n",
       "LIVE_CITY_NOT_WORK_CITY         0.000000\n",
       "ORGANIZATION_TYPE               0.000000\n",
       "OBS_30_CNT_SOCIAL_CIRCLE        0.329670\n",
       "DEF_30_CNT_SOCIAL_CIRCLE        0.329670\n",
       "OBS_60_CNT_SOCIAL_CIRCLE        0.329670\n",
       "DEF_60_CNT_SOCIAL_CIRCLE        0.329670\n",
       "AMT_REQ_CREDIT_BUREAU_HOUR     13.403278\n",
       "AMT_REQ_CREDIT_BUREAU_DAY      13.403278\n",
       "AMT_REQ_CREDIT_BUREAU_WEEK     13.403278\n",
       "AMT_REQ_CREDIT_BUREAU_MON      13.403278\n",
       "AMT_REQ_CREDIT_BUREAU_QRT      13.403278\n",
       "AMT_REQ_CREDIT_BUREAU_YEAR     13.403278\n",
       "dtype: float64"
      ]
     },
     "execution_count": 304,
     "metadata": {},
     "output_type": "execute_result"
    }
   ],
   "source": [
    "(application_data.isnull().sum()/len(application_data.index))*100"
   ]
  },
  {
   "cell_type": "code",
   "execution_count": 305,
   "id": "7b9982d1",
   "metadata": {},
   "outputs": [],
   "source": [
    "#Column CNT_FAM_MEMBERS(How many family members does client have)"
   ]
  },
  {
   "cell_type": "code",
   "execution_count": 306,
   "id": "af164c5e",
   "metadata": {},
   "outputs": [
    {
     "data": {
      "image/png": "[encoded data removed]",
      "text/plain": [
       "<Figure size 432x288 with 1 Axes>"
      ]
     },
     "metadata": {
      "needs_background": "light"
     },
     "output_type": "display_data"
    }
   ],
   "source": [
    "plt.hist(application_data[\"CNT_FAM_MEMBERS\"])\n",
    "plt.show()"
   ]
  },
  {
   "cell_type": "code",
   "execution_count": 307,
   "id": "4be33492",
   "metadata": {},
   "outputs": [],
   "source": [
    "#Imputing with median\n",
    "\n",
    "application_data[\"CNT_FAM_MEMBERS\"]=application_data[\"CNT_FAM_MEMBERS\"].fillna(application_data[\"CNT_FAM_MEMBERS\"].median())"
   ]
  },
  {
   "cell_type": "code",
   "execution_count": 308,
   "id": "a215b0f0",
   "metadata": {},
   "outputs": [
    {
     "data": {
      "text/plain": [
       "0"
      ]
     },
     "execution_count": 308,
     "metadata": {},
     "output_type": "execute_result"
    }
   ],
   "source": [
    "application_data[\"CNT_FAM_MEMBERS\"].isnull().sum()"
   ]
  },
  {
   "cell_type": "code",
   "execution_count": 309,
   "id": "1cfc1767",
   "metadata": {},
   "outputs": [],
   "source": [
    "#Column OBS_30_CNT_SOCIAL_CIRCLE(How many observation of client's social surroundings with observable 30 DPD (days past due) default)"
   ]
  },
  {
   "cell_type": "code",
   "execution_count": 310,
   "id": "5b2acb90",
   "metadata": {},
   "outputs": [
    {
     "data": {
      "image/png": "[encoded data removed]",
      "text/plain": [
       "<Figure size 432x288 with 1 Axes>"
      ]
     },
     "metadata": {
      "needs_background": "light"
     },
     "output_type": "display_data"
    }
   ],
   "source": [
    "plt.hist(application_data[\"OBS_30_CNT_SOCIAL_CIRCLE\"])\n",
    "plt.show()"
   ]
  },
  {
   "cell_type": "code",
   "execution_count": 311,
   "id": "7cf4d827",
   "metadata": {},
   "outputs": [],
   "source": [
    "#Filling the missing values with mean\n",
    "\n",
    "application_data[\"OBS_30_CNT_SOCIAL_CIRCLE\"]=application_data[\"OBS_30_CNT_SOCIAL_CIRCLE\"].fillna(application_data[\"OBS_30_CNT_SOCIAL_CIRCLE\"].mean())"
   ]
  },
  {
   "cell_type": "code",
   "execution_count": 313,
   "id": "9e823133",
   "metadata": {},
   "outputs": [
    {
     "data": {
      "text/plain": [
       "0"
      ]
     },
     "execution_count": 313,
     "metadata": {},
     "output_type": "execute_result"
    }
   ],
   "source": [
    "#Verification\n",
    "\n",
    "application_data[\"OBS_30_CNT_SOCIAL_CIRCLE\"].isnull().sum()"
   ]
  },
  {
   "cell_type": "code",
   "execution_count": 315,
   "id": "5ee913d5",
   "metadata": {},
   "outputs": [
    {
     "data": {
      "image/png": "[encoded data removed]",
      "text/plain": [
       "<Figure size 432x288 with 1 Axes>"
      ]
     },
     "metadata": {
      "needs_background": "light"
     },
     "output_type": "display_data"
    }
   ],
   "source": [
    "application_data.boxplot(\"OBS_30_CNT_SOCIAL_CIRCLE\")\n",
    "plt.show()"
   ]
  },
  {
   "cell_type": "code",
   "execution_count": 316,
   "id": "79a82984",
   "metadata": {},
   "outputs": [],
   "source": [
    "# One outlier is found in the data"
   ]
  },
  {
   "cell_type": "code",
   "execution_count": 317,
   "id": "e85ba8d1",
   "metadata": {},
   "outputs": [],
   "source": [
    "# Column DEF_30_CNT_SOCIAL_CIRCLE(How many observation of client's social surroundings defaulted on 30 DPD (days past due))"
   ]
  },
  {
   "cell_type": "code",
   "execution_count": 318,
   "id": "58eadf9f",
   "metadata": {},
   "outputs": [
    {
     "data": {
      "image/png": "[encoded data removed]",
      "text/plain": [
       "<Figure size 432x288 with 1 Axes>"
      ]
     },
     "metadata": {
      "needs_background": "light"
     },
     "output_type": "display_data"
    }
   ],
   "source": [
    "plt.hist(application_data[\"DEF_30_CNT_SOCIAL_CIRCLE\"])\n",
    "plt.show()"
   ]
  },
  {
   "cell_type": "code",
   "execution_count": 319,
   "id": "32f6d4bc",
   "metadata": {},
   "outputs": [],
   "source": [
    "#Filling the missing values with mean\n",
    "\n",
    "application_data[\"DEF_30_CNT_SOCIAL_CIRCLE\"]=application_data[\"DEF_30_CNT_SOCIAL_CIRCLE\"].fillna(application_data[\"DEF_30_CNT_SOCIAL_CIRCLE\"].mean())"
   ]
  },
  {
   "cell_type": "code",
   "execution_count": 320,
   "id": "37cb677e",
   "metadata": {},
   "outputs": [
    {
     "data": {
      "text/plain": [
       "0"
      ]
     },
     "execution_count": 320,
     "metadata": {},
     "output_type": "execute_result"
    }
   ],
   "source": [
    "#Verification\n",
    "\n",
    "application_data[\"DEF_30_CNT_SOCIAL_CIRCLE\"].isnull().sum()"
   ]
  },
  {
   "cell_type": "code",
   "execution_count": 321,
   "id": "b86f90e5",
   "metadata": {},
   "outputs": [
    {
     "data": {
      "image/png": "[encoded data removed]",
      "text/plain": [
       "<Figure size 432x288 with 1 Axes>"
      ]
     },
     "metadata": {
      "needs_background": "light"
     },
     "output_type": "display_data"
    }
   ],
   "source": [
    "application_data.boxplot(\"DEF_30_CNT_SOCIAL_CIRCLE\")\n",
    "plt.show()"
   ]
  },
  {
   "cell_type": "code",
   "execution_count": 322,
   "id": "42a2df63",
   "metadata": {},
   "outputs": [],
   "source": [
    "# One outlier is found in the data"
   ]
  },
  {
   "cell_type": "code",
   "execution_count": 323,
   "id": "b310cff8",
   "metadata": {},
   "outputs": [],
   "source": [
    "#Column OBS_60_CNT_SOCIAL_CIRCLE(How many observation of client's social surroundings with observable 60 DPD (days past due) default)"
   ]
  },
  {
   "cell_type": "code",
   "execution_count": 324,
   "id": "30e0d9ba",
   "metadata": {},
   "outputs": [
    {
     "data": {
      "image/png": "[encoded data removed]",
      "text/plain": [
       "<Figure size 432x288 with 1 Axes>"
      ]
     },
     "metadata": {
      "needs_background": "light"
     },
     "output_type": "display_data"
    }
   ],
   "source": [
    "plt.hist(application_data[\"OBS_60_CNT_SOCIAL_CIRCLE\"])\n",
    "plt.show()"
   ]
  },
  {
   "cell_type": "code",
   "execution_count": 325,
   "id": "c3cbe005",
   "metadata": {},
   "outputs": [],
   "source": [
    "# Filling the missing values with mean\n",
    "\n",
    "application_data[\"OBS_60_CNT_SOCIAL_CIRCLE\"]=application_data[\"OBS_60_CNT_SOCIAL_CIRCLE\"].fillna(application_data[\"OBS_60_CNT_SOCIAL_CIRCLE\"].mean())"
   ]
  },
  {
   "cell_type": "code",
   "execution_count": 326,
   "id": "515b77cd",
   "metadata": {},
   "outputs": [
    {
     "data": {
      "text/plain": [
       "0"
      ]
     },
     "execution_count": 326,
     "metadata": {},
     "output_type": "execute_result"
    }
   ],
   "source": [
    "#Verification\n",
    "\n",
    "application_data[\"OBS_60_CNT_SOCIAL_CIRCLE\"].isnull().sum()"
   ]
  },
  {
   "cell_type": "code",
   "execution_count": 327,
   "id": "f664c6e7",
   "metadata": {},
   "outputs": [
    {
     "data": {
      "image/png": "[encoded data removed]",
      "text/plain": [
       "<Figure size 432x288 with 1 Axes>"
      ]
     },
     "metadata": {
      "needs_background": "light"
     },
     "output_type": "display_data"
    }
   ],
   "source": [
    "application_data.boxplot(\"OBS_60_CNT_SOCIAL_CIRCLE\")\n",
    "plt.show()"
   ]
  },
  {
   "cell_type": "code",
   "execution_count": 328,
   "id": "de14d121",
   "metadata": {},
   "outputs": [],
   "source": [
    "# One outlier is found in the data"
   ]
  },
  {
   "cell_type": "code",
   "execution_count": 329,
   "id": "4dc23a6c",
   "metadata": {},
   "outputs": [],
   "source": [
    "#Column DEF_60_CNT_SOCIAL_CIRCLE(How many observation of client's social surroundings defaulted on 60 (days past due) DPD)"
   ]
  },
  {
   "cell_type": "code",
   "execution_count": 331,
   "id": "02b402f5",
   "metadata": {},
   "outputs": [
    {
     "data": {
      "image/png": "[encoded data removed]",
      "text/plain": [
       "<Figure size 432x288 with 1 Axes>"
      ]
     },
     "metadata": {
      "needs_background": "light"
     },
     "output_type": "display_data"
    }
   ],
   "source": [
    "plt.hist(application_data[\"DEF_60_CNT_SOCIAL_CIRCLE\"])\n",
    "plt.show()"
   ]
  },
  {
   "cell_type": "code",
   "execution_count": 332,
   "id": "8d2b626b",
   "metadata": {},
   "outputs": [],
   "source": [
    "# Filling the missing values with mean\n",
    "\n",
    "application_data[\"DEF_60_CNT_SOCIAL_CIRCLE\"]=application_data[\"DEF_60_CNT_SOCIAL_CIRCLE\"].fillna(application_data[\"DEF_60_CNT_SOCIAL_CIRCLE\"].mean())"
   ]
  },
  {
   "cell_type": "code",
   "execution_count": 333,
   "id": "937c1c29",
   "metadata": {},
   "outputs": [
    {
     "data": {
      "text/plain": [
       "0"
      ]
     },
     "execution_count": 333,
     "metadata": {},
     "output_type": "execute_result"
    }
   ],
   "source": [
    "#Verification\n",
    "\n",
    "application_data[\"DEF_60_CNT_SOCIAL_CIRCLE\"].isnull().sum()"
   ]
  },
  {
   "cell_type": "code",
   "execution_count": 334,
   "id": "639c6b00",
   "metadata": {},
   "outputs": [
    {
     "data": {
      "image/png": "[encoded data removed]",
      "text/plain": [
       "<Figure size 432x288 with 1 Axes>"
      ]
     },
     "metadata": {
      "needs_background": "light"
     },
     "output_type": "display_data"
    }
   ],
   "source": [
    "application_data.boxplot(\"DEF_60_CNT_SOCIAL_CIRCLE\")\n",
    "plt.show()"
   ]
  },
  {
   "cell_type": "code",
   "execution_count": 335,
   "id": "28789a61",
   "metadata": {},
   "outputs": [],
   "source": [
    "# One outlier is found in the data"
   ]
  },
  {
   "cell_type": "code",
   "execution_count": 336,
   "id": "9b72d1fe",
   "metadata": {},
   "outputs": [],
   "source": [
    "# Column AMT_REQ_CREDIT_BUREAU_HOUR(Number of enquiries to Credit Bureau about the client one hour before application)"
   ]
  },
  {
   "cell_type": "code",
   "execution_count": 337,
   "id": "cd8b801a",
   "metadata": {},
   "outputs": [
    {
     "data": {
      "image/png": "[encoded data removed]",
      "text/plain": [
       "<Figure size 432x288 with 1 Axes>"
      ]
     },
     "metadata": {
      "needs_background": "light"
     },
     "output_type": "display_data"
    }
   ],
   "source": [
    "plt.hist(application_data[\"AMT_REQ_CREDIT_BUREAU_HOUR\"])\n",
    "plt.show()"
   ]
  },
  {
   "cell_type": "code",
   "execution_count": 338,
   "id": "a8a8f1bf",
   "metadata": {},
   "outputs": [],
   "source": [
    "#Filling the missing value with mean\n",
    "\n",
    "application_data[\"AMT_REQ_CREDIT_BUREAU_HOUR\"]=application_data[\"AMT_REQ_CREDIT_BUREAU_HOUR\"].fillna(application_data[\"AMT_REQ_CREDIT_BUREAU_HOUR\"].mean())"
   ]
  },
  {
   "cell_type": "code",
   "execution_count": 339,
   "id": "b54c2d0d",
   "metadata": {},
   "outputs": [
    {
     "data": {
      "text/plain": [
       "0"
      ]
     },
     "execution_count": 339,
     "metadata": {},
     "output_type": "execute_result"
    }
   ],
   "source": [
    "# Verification\n",
    "\n",
    "application_data[\"AMT_REQ_CREDIT_BUREAU_HOUR\"].isnull().sum()"
   ]
  },
  {
   "cell_type": "code",
   "execution_count": 340,
   "id": "a26a88bc",
   "metadata": {},
   "outputs": [
    {
     "data": {
      "image/png": "[encoded data removed]",
      "text/plain": [
       "<Figure size 432x288 with 1 Axes>"
      ]
     },
     "metadata": {
      "needs_background": "light"
     },
     "output_type": "display_data"
    }
   ],
   "source": [
    "application_data.boxplot(\"AMT_REQ_CREDIT_BUREAU_HOUR\")\n",
    "plt.show()"
   ]
  },
  {
   "cell_type": "code",
   "execution_count": 341,
   "id": "2cb73e73",
   "metadata": {},
   "outputs": [],
   "source": [
    "# No outliers found"
   ]
  },
  {
   "cell_type": "code",
   "execution_count": 342,
   "id": "5fe42cab",
   "metadata": {},
   "outputs": [],
   "source": [
    "# Column AMT_REQ_CREDIT_BUREAU_DAY(Number of enquiries to Credit Bureau about the client one day before application (excluding one hour before application))"
   ]
  },
  {
   "cell_type": "code",
   "execution_count": 343,
   "id": "84b26b89",
   "metadata": {},
   "outputs": [
    {
     "data": {
      "image/png": "[encoded data removed]",
      "text/plain": [
       "<Figure size 432x288 with 1 Axes>"
      ]
     },
     "metadata": {
      "needs_background": "light"
     },
     "output_type": "display_data"
    }
   ],
   "source": [
    "plt.hist(application_data[\"AMT_REQ_CREDIT_BUREAU_DAY\"])\n",
    "plt.show()"
   ]
  },
  {
   "cell_type": "code",
   "execution_count": 344,
   "id": "a8e93f82",
   "metadata": {},
   "outputs": [],
   "source": [
    "#Filling the missing values with mean\n",
    "\n",
    "application_data[\"AMT_REQ_CREDIT_BUREAU_DAY\"]=application_data[\"AMT_REQ_CREDIT_BUREAU_DAY\"].fillna(application_data[\"AMT_REQ_CREDIT_BUREAU_DAY\"].mean())"
   ]
  },
  {
   "cell_type": "code",
   "execution_count": 346,
   "id": "0bab4d69",
   "metadata": {},
   "outputs": [
    {
     "data": {
      "text/plain": [
       "0"
      ]
     },
     "execution_count": 346,
     "metadata": {},
     "output_type": "execute_result"
    }
   ],
   "source": [
    "#Verification\n",
    "\n",
    "application_data[\"AMT_REQ_CREDIT_BUREAU_DAY\"].isnull().sum()"
   ]
  },
  {
   "cell_type": "code",
   "execution_count": 347,
   "id": "c08ffff5",
   "metadata": {},
   "outputs": [
    {
     "data": {
      "image/png": "[encoded data removed]",
      "text/plain": [
       "<Figure size 432x288 with 1 Axes>"
      ]
     },
     "metadata": {
      "needs_background": "light"
     },
     "output_type": "display_data"
    }
   ],
   "source": [
    "application_data.boxplot(\"AMT_REQ_CREDIT_BUREAU_DAY\")\n",
    "plt.show()"
   ]
  },
  {
   "cell_type": "code",
   "execution_count": 348,
   "id": "b484711d",
   "metadata": {},
   "outputs": [],
   "source": [
    "# No outliers found"
   ]
  },
  {
   "cell_type": "code",
   "execution_count": 349,
   "id": "5fe5ab58",
   "metadata": {},
   "outputs": [],
   "source": [
    "# Column AMT_REQ_CREDIT_BUREAU_WEEK(Number of enquiries to Credit Bureau about the client one week before application (excluding one day before application))"
   ]
  },
  {
   "cell_type": "code",
   "execution_count": 350,
   "id": "e0268227",
   "metadata": {},
   "outputs": [
    {
     "data": {
      "image/png": "[encoded data removed]",
      "text/plain": [
       "<Figure size 432x288 with 1 Axes>"
      ]
     },
     "metadata": {
      "needs_background": "light"
     },
     "output_type": "display_data"
    }
   ],
   "source": [
    "plt.hist(application_data[\"AMT_REQ_CREDIT_BUREAU_WEEK\"])\n",
    "plt.show()"
   ]
  },
  {
   "cell_type": "code",
   "execution_count": 351,
   "id": "cb13a590",
   "metadata": {},
   "outputs": [],
   "source": [
    "# Filling the missing values with mean\n",
    "\n",
    "application_data[\"AMT_REQ_CREDIT_BUREAU_WEEK\"]=application_data[\"AMT_REQ_CREDIT_BUREAU_WEEK\"].fillna(application_data[\"AMT_REQ_CREDIT_BUREAU_WEEK\"].mean())"
   ]
  },
  {
   "cell_type": "code",
   "execution_count": 353,
   "id": "60423be4",
   "metadata": {},
   "outputs": [
    {
     "data": {
      "text/plain": [
       "0"
      ]
     },
     "execution_count": 353,
     "metadata": {},
     "output_type": "execute_result"
    }
   ],
   "source": [
    "#Verification\n",
    "\n",
    "application_data[\"AMT_REQ_CREDIT_BUREAU_WEEK\"].isnull().sum()"
   ]
  },
  {
   "cell_type": "code",
   "execution_count": 354,
   "id": "b631bfb7",
   "metadata": {},
   "outputs": [
    {
     "data": {
      "image/png": "[encoded data removed]",
      "text/plain": [
       "<Figure size 432x288 with 1 Axes>"
      ]
     },
     "metadata": {
      "needs_background": "light"
     },
     "output_type": "display_data"
    }
   ],
   "source": [
    "application_data.boxplot(\"AMT_REQ_CREDIT_BUREAU_WEEK\")\n",
    "plt.show()"
   ]
  },
  {
   "cell_type": "code",
   "execution_count": 355,
   "id": "8a07e14f",
   "metadata": {},
   "outputs": [],
   "source": [
    "#No outliers found"
   ]
  },
  {
   "cell_type": "code",
   "execution_count": 356,
   "id": "1d2e5b7f",
   "metadata": {},
   "outputs": [],
   "source": [
    "# Column AMT_REQ_CREDIT_BUREAU_MON (Number of enquiries to Credit Bureau about the client one month before application (excluding one week before application))"
   ]
  },
  {
   "cell_type": "code",
   "execution_count": 357,
   "id": "de424e1c",
   "metadata": {},
   "outputs": [
    {
     "data": {
      "image/png": "[encoded data removed]",
      "text/plain": [
       "<Figure size 432x288 with 1 Axes>"
      ]
     },
     "metadata": {
      "needs_background": "light"
     },
     "output_type": "display_data"
    }
   ],
   "source": [
    "plt.hist(application_data[\"AMT_REQ_CREDIT_BUREAU_MON\"])\n",
    "plt.show()"
   ]
  },
  {
   "cell_type": "code",
   "execution_count": 358,
   "id": "23cf1d5e",
   "metadata": {},
   "outputs": [],
   "source": [
    "# Filling missing values with mean\n",
    "\n",
    "application_data[\"AMT_REQ_CREDIT_BUREAU_MON\"]=application_data[\"AMT_REQ_CREDIT_BUREAU_MON\"].fillna(application_data[\"AMT_REQ_CREDIT_BUREAU_MON\"].mean())"
   ]
  },
  {
   "cell_type": "code",
   "execution_count": 360,
   "id": "4b66eb3c",
   "metadata": {},
   "outputs": [
    {
     "data": {
      "text/plain": [
       "0"
      ]
     },
     "execution_count": 360,
     "metadata": {},
     "output_type": "execute_result"
    }
   ],
   "source": [
    "# Verification\n",
    "\n",
    "application_data[\"AMT_REQ_CREDIT_BUREAU_MON\"].isnull().sum()"
   ]
  },
  {
   "cell_type": "code",
   "execution_count": 361,
   "id": "45425fb7",
   "metadata": {},
   "outputs": [
    {
     "data": {
      "image/png": "[encoded data removed]",
      "text/plain": [
       "<Figure size 432x288 with 1 Axes>"
      ]
     },
     "metadata": {
      "needs_background": "light"
     },
     "output_type": "display_data"
    }
   ],
   "source": [
    "application_data.boxplot(\"AMT_REQ_CREDIT_BUREAU_MON\")\n",
    "plt.show()"
   ]
  },
  {
   "cell_type": "code",
   "execution_count": 362,
   "id": "65eb772d",
   "metadata": {},
   "outputs": [],
   "source": [
    "# No outliers found"
   ]
  },
  {
   "cell_type": "code",
   "execution_count": 363,
   "id": "f7ab2744",
   "metadata": {},
   "outputs": [],
   "source": [
    "# Column AMT_REQ_CREDIT_BUREAU_QRT(Number of enquiries to Credit Bureau about the client 3 month before application (excluding one month before application))"
   ]
  },
  {
   "cell_type": "code",
   "execution_count": 364,
   "id": "5ce8bfb5",
   "metadata": {},
   "outputs": [
    {
     "data": {
      "image/png": "[encoded data removed]",
      "text/plain": [
       "<Figure size 432x288 with 1 Axes>"
      ]
     },
     "metadata": {
      "needs_background": "light"
     },
     "output_type": "display_data"
    }
   ],
   "source": [
    "plt.hist(application_data[\"AMT_REQ_CREDIT_BUREAU_QRT\"])\n",
    "plt.show()"
   ]
  },
  {
   "cell_type": "code",
   "execution_count": 365,
   "id": "fa1234a6",
   "metadata": {},
   "outputs": [],
   "source": [
    "# Filling missing values with mean\n",
    "\n",
    "application_data[\"AMT_REQ_CREDIT_BUREAU_QRT\"]=application_data[\"AMT_REQ_CREDIT_BUREAU_QRT\"].fillna(application_data[\"AMT_REQ_CREDIT_BUREAU_QRT\"].mean())"
   ]
  },
  {
   "cell_type": "code",
   "execution_count": 367,
   "id": "cea85aba",
   "metadata": {},
   "outputs": [
    {
     "data": {
      "text/plain": [
       "0"
      ]
     },
     "execution_count": 367,
     "metadata": {},
     "output_type": "execute_result"
    }
   ],
   "source": [
    "# Verification\n",
    "\n",
    "application_data[\"AMT_REQ_CREDIT_BUREAU_QRT\"].isnull().sum()"
   ]
  },
  {
   "cell_type": "code",
   "execution_count": 368,
   "id": "72233fa1",
   "metadata": {},
   "outputs": [
    {
     "data": {
      "image/png": "[encoded data removed]",
      "text/plain": [
       "<Figure size 432x288 with 1 Axes>"
      ]
     },
     "metadata": {
      "needs_background": "light"
     },
     "output_type": "display_data"
    }
   ],
   "source": [
    "application_data.boxplot(\"AMT_REQ_CREDIT_BUREAU_QRT\")\n",
    "plt.show()"
   ]
  },
  {
   "cell_type": "code",
   "execution_count": 369,
   "id": "761bec05",
   "metadata": {},
   "outputs": [],
   "source": [
    "# One outlier is found in the data"
   ]
  },
  {
   "cell_type": "code",
   "execution_count": 370,
   "id": "14c98530",
   "metadata": {},
   "outputs": [],
   "source": [
    "# Column AMT_REQ_CREDIT_BUREAU_YEAR(Number of enquiries to Credit Bureau about the client one day year (excluding last 3 months before application))"
   ]
  },
  {
   "cell_type": "code",
   "execution_count": 371,
   "id": "1fa784d0",
   "metadata": {},
   "outputs": [
    {
     "data": {
      "image/png": "[encoded data removed]",
      "text/plain": [
       "<Figure size 432x288 with 1 Axes>"
      ]
     },
     "metadata": {
      "needs_background": "light"
     },
     "output_type": "display_data"
    }
   ],
   "source": [
    "plt.hist(application_data[\"AMT_REQ_CREDIT_BUREAU_YEAR\"])\n",
    "plt.show()"
   ]
  },
  {
   "cell_type": "code",
   "execution_count": 372,
   "id": "991e19c0",
   "metadata": {},
   "outputs": [],
   "source": [
    "# Filling missing values with mean\n",
    "\n",
    "application_data[\"AMT_REQ_CREDIT_BUREAU_YEAR\"]=application_data[\"AMT_REQ_CREDIT_BUREAU_YEAR\"].fillna(application_data[\"AMT_REQ_CREDIT_BUREAU_YEAR\"].mean())"
   ]
  },
  {
   "cell_type": "code",
   "execution_count": 374,
   "id": "cef7e52b",
   "metadata": {},
   "outputs": [
    {
     "data": {
      "text/plain": [
       "0"
      ]
     },
     "execution_count": 374,
     "metadata": {},
     "output_type": "execute_result"
    }
   ],
   "source": [
    "# Verification\n",
    "\n",
    "application_data[\"AMT_REQ_CREDIT_BUREAU_YEAR\"].isnull().sum()"
   ]
  },
  {
   "cell_type": "code",
   "execution_count": 375,
   "id": "f48ffbd4",
   "metadata": {},
   "outputs": [
    {
     "data": {
      "image/png": "[encoded data removed]",
      "text/plain": [
       "<Figure size 432x288 with 1 Axes>"
      ]
     },
     "metadata": {
      "needs_background": "light"
     },
     "output_type": "display_data"
    }
   ],
   "source": [
    "application_data.boxplot(\"AMT_REQ_CREDIT_BUREAU_YEAR\")\n",
    "plt.show()"
   ]
  },
  {
   "cell_type": "code",
   "execution_count": 376,
   "id": "1b194ffa",
   "metadata": {},
   "outputs": [],
   "source": [
    "# No outliers found"
   ]
  },
  {
   "cell_type": "code",
   "execution_count": 377,
   "id": "ec0bd9ed",
   "metadata": {},
   "outputs": [
    {
     "data": {
      "text/plain": [
       "SK_ID_CURR                     0\n",
       "TARGET                         0\n",
       "NAME_CONTRACT_TYPE             0\n",
       "CODE_GENDER                    0\n",
       "FLAG_OWN_CAR                   0\n",
       "FLAG_OWN_REALTY                0\n",
       "CNT_CHILDREN                   0\n",
       "AMT_INCOME_TOTAL               0\n",
       "AMT_CREDIT                     0\n",
       "AMT_ANNUITY                    0\n",
       "AMT_GOODS_PRICE                0\n",
       "NAME_TYPE_SUITE                0\n",
       "NAME_INCOME_TYPE               0\n",
       "NAME_EDUCATION_TYPE            0\n",
       "NAME_FAMILY_STATUS             0\n",
       "NAME_HOUSING_TYPE              0\n",
       "REGION_POPULATION_RELATIVE     0\n",
       "DAYS_BIRTH                     0\n",
       "DAYS_EMPLOYED                  0\n",
       "DAYS_REGISTRATION              0\n",
       "DAYS_ID_PUBLISH                0\n",
       "FLAG_EMAIL                     0\n",
       "OCCUPATION_TYPE                0\n",
       "CNT_FAM_MEMBERS                0\n",
       "WEEKDAY_APPR_PROCESS_START     0\n",
       "HOUR_APPR_PROCESS_START        0\n",
       "REG_REGION_NOT_LIVE_REGION     0\n",
       "REG_REGION_NOT_WORK_REGION     0\n",
       "LIVE_REGION_NOT_WORK_REGION    0\n",
       "REG_CITY_NOT_LIVE_CITY         0\n",
       "REG_CITY_NOT_WORK_CITY         0\n",
       "LIVE_CITY_NOT_WORK_CITY        0\n",
       "ORGANIZATION_TYPE              0\n",
       "OBS_30_CNT_SOCIAL_CIRCLE       0\n",
       "DEF_30_CNT_SOCIAL_CIRCLE       0\n",
       "OBS_60_CNT_SOCIAL_CIRCLE       0\n",
       "DEF_60_CNT_SOCIAL_CIRCLE       0\n",
       "AMT_REQ_CREDIT_BUREAU_HOUR     0\n",
       "AMT_REQ_CREDIT_BUREAU_DAY      0\n",
       "AMT_REQ_CREDIT_BUREAU_WEEK     0\n",
       "AMT_REQ_CREDIT_BUREAU_MON      0\n",
       "AMT_REQ_CREDIT_BUREAU_QRT      0\n",
       "AMT_REQ_CREDIT_BUREAU_YEAR     0\n",
       "dtype: int64"
      ]
     },
     "execution_count": 377,
     "metadata": {},
     "output_type": "execute_result"
    }
   ],
   "source": [
    "# Verifying the dataset\n",
    "\n",
    "application_data.isnull().sum()"
   ]
  },
  {
   "cell_type": "code",
   "execution_count": 381,
   "id": "e33bf74e",
   "metadata": {},
   "outputs": [],
   "source": [
    "# Converting the negative values into absolute values\n",
    "\n",
    "application_data[\"DAYS_BIRTH\"]=abs(application_data[\"DAYS_BIRTH\"])\n",
    "application_data[\"DAYS_ID_PUBLISH\"]=abs(application_data[\"DAYS_ID_PUBLISH\"])"
   ]
  },
  {
   "cell_type": "code",
   "execution_count": 380,
   "id": "f88842be",
   "metadata": {},
   "outputs": [],
   "source": [
    "# DATA CLEANING HAS BEEN COMPLETED"
   ]
  },
  {
   "cell_type": "code",
   "execution_count": 379,
   "id": "9009aada",
   "metadata": {},
   "outputs": [],
   "source": [
    "# MOVING TO THE DATA ANALYSIS"
   ]
  },
  {
   "cell_type": "code",
   "execution_count": 382,
   "id": "ca8564e1",
   "metadata": {},
   "outputs": [],
   "source": [
    "# Creating bins"
   ]
  },
  {
   "cell_type": "code",
   "execution_count": 383,
   "id": "dd0679ba",
   "metadata": {},
   "outputs": [],
   "source": [
    "# AMT_CREDIT\n",
    "\n",
    "bins1=[0,100000,200000,300000,400000,500000,600000,700000,800000,900000,10000000000]\n",
    "slots1=[\"0-100000\",\"100000-200000\",\"200000-300000\",\"300000-400000\",\"400000-500000\",\"500000-600000\",\"600000-700000\",\"700000-800000\",\"800000-900000\",\"900000 and above\"]"
   ]
  },
  {
   "cell_type": "code",
   "execution_count": 384,
   "id": "5ff3cca6",
   "metadata": {},
   "outputs": [],
   "source": [
    "# Adding the column\n",
    "\n",
    "application_data[\"CREDIT_AMOUNT_RANGE\"]=pd.cut(application_data[\"AMT_CREDIT\"],bins=bins1,labels=slots1)"
   ]
  },
  {
   "cell_type": "code",
   "execution_count": 385,
   "id": "93d65f77",
   "metadata": {},
   "outputs": [
    {
     "data": {
      "text/plain": [
       "0        400000-500000\n",
       "1     900000 and above\n",
       "2        100000-200000\n",
       "3        300000-400000\n",
       "4        500000-600000\n",
       "5        400000-500000\n",
       "6     900000 and above\n",
       "7     900000 and above\n",
       "9        400000-500000\n",
       "10       600000-700000\n",
       "Name: CREDIT_AMOUNT_RANGE, dtype: category\n",
       "Categories (10, object): ['0-100000' < '100000-200000' < '200000-300000' < '300000-400000' ... '600000-700000' < '700000-800000' < '800000-900000' < '900000 and above']"
      ]
     },
     "execution_count": 385,
     "metadata": {},
     "output_type": "execute_result"
    }
   ],
   "source": [
    "application_data[\"CREDIT_AMOUNT_RANGE\"].head(10)"
   ]
  },
  {
   "cell_type": "code",
   "execution_count": 386,
   "id": "cae14129",
   "metadata": {},
   "outputs": [],
   "source": [
    "# AMT_INCOME_TOTAL\n",
    "\n",
    "bins2=[0,50000,100000,150000,200000,250000,300000,350000,400000,450000,500000,550000,600000,1000000000]\n",
    "slots2=[\"0-50000\",\"50000-100000\",\"100000-150000\",\"150000-200000\",\"200000-250000\",\"250000-300000\",\"300000-350000\",\"350000-400000\",\"400000-450000\",\"450000-500000\",\"500000-550000\",\"550000-600000\",\"600000 and above\"]"
   ]
  },
  {
   "cell_type": "code",
   "execution_count": 387,
   "id": "0a5fee3c",
   "metadata": {},
   "outputs": [],
   "source": [
    "# Adding the column\n",
    "\n",
    "application_data[\"INCOME_RANGE\"]=pd.cut(application_data[\"AMT_INCOME_TOTAL\"],bins=bins2,labels=slots2)"
   ]
  },
  {
   "cell_type": "code",
   "execution_count": 388,
   "id": "6fe27a85",
   "metadata": {},
   "outputs": [
    {
     "data": {
      "text/plain": [
       "0     200000-250000\n",
       "1     250000-300000\n",
       "2      50000-100000\n",
       "3     100000-150000\n",
       "4     100000-150000\n",
       "5      50000-100000\n",
       "6     150000-200000\n",
       "7     350000-400000\n",
       "9     100000-150000\n",
       "10    100000-150000\n",
       "Name: INCOME_RANGE, dtype: category\n",
       "Categories (13, object): ['0-50000' < '50000-100000' < '100000-150000' < '150000-200000' ... '450000-500000' < '500000-550000' < '550000-600000' < '600000 and above']"
      ]
     },
     "execution_count": 388,
     "metadata": {},
     "output_type": "execute_result"
    }
   ],
   "source": [
    "application_data[\"INCOME_RANGE\"].head(10)"
   ]
  },
  {
   "cell_type": "code",
   "execution_count": 399,
   "id": "c05cd088",
   "metadata": {},
   "outputs": [],
   "source": [
    "# Data set is divided into 2 segments : target1 (Clients with difficulty in payment),  target0(All other case)\n",
    "\n",
    "target0=application_data[application_data[\"TARGET\"]==0]\n",
    "target1=application_data[application_data[\"TARGET\"]==1]"
   ]
  },
  {
   "cell_type": "code",
   "execution_count": 409,
   "id": "b306c6d9",
   "metadata": {},
   "outputs": [],
   "source": [
    "# Merging both datasets application_data and previous_application"
   ]
  },
  {
   "cell_type": "code",
   "execution_count": 410,
   "id": "a5a05a51",
   "metadata": {},
   "outputs": [],
   "source": [
    "# Column SK_ID_CURR is common in both datasets"
   ]
  },
  {
   "cell_type": "code",
   "execution_count": 412,
   "id": "d18cb9d4",
   "metadata": {},
   "outputs": [],
   "source": [
    "merged_data=pd.merge(application_data,previous_application,on=\"SK_ID_CURR\",how=\"inner\")"
   ]
  },
  {
   "cell_type": "code",
   "execution_count": 413,
   "id": "9a7a48d2",
   "metadata": {},
   "outputs": [
    {
     "data": {
      "text/html": [
       "<div>\n",
       "<style scoped>\n",
       "    .dataframe tbody tr th:only-of-type {\n",
       "        vertical-align: middle;\n",
       "    }\n",
       "\n",
       "    .dataframe tbody tr th {\n",
       "        vertical-align: top;\n",
       "    }\n",
       "\n",
       "    .dataframe thead th {\n",
       "        text-align: right;\n",
       "    }\n",
       "</style>\n",
       "<table border=\"1\" class=\"dataframe\">\n",
       "  <thead>\n",
       "    <tr style=\"text-align: right;\">\n",
       "      <th></th>\n",
       "      <th>SK_ID_CURR</th>\n",
       "      <th>TARGET</th>\n",
       "      <th>NAME_CONTRACT_TYPE_x</th>\n",
       "      <th>CODE_GENDER</th>\n",
       "      <th>FLAG_OWN_CAR</th>\n",
       "      <th>FLAG_OWN_REALTY</th>\n",
       "      <th>CNT_CHILDREN</th>\n",
       "      <th>AMT_INCOME_TOTAL</th>\n",
       "      <th>AMT_CREDIT_x</th>\n",
       "      <th>AMT_ANNUITY_x</th>\n",
       "      <th>AMT_GOODS_PRICE_x</th>\n",
       "      <th>NAME_TYPE_SUITE_x</th>\n",
       "      <th>NAME_INCOME_TYPE</th>\n",
       "      <th>NAME_EDUCATION_TYPE</th>\n",
       "      <th>NAME_FAMILY_STATUS</th>\n",
       "      <th>NAME_HOUSING_TYPE</th>\n",
       "      <th>REGION_POPULATION_RELATIVE</th>\n",
       "      <th>DAYS_BIRTH</th>\n",
       "      <th>DAYS_EMPLOYED</th>\n",
       "      <th>DAYS_REGISTRATION</th>\n",
       "      <th>DAYS_ID_PUBLISH</th>\n",
       "      <th>FLAG_EMAIL</th>\n",
       "      <th>OCCUPATION_TYPE</th>\n",
       "      <th>CNT_FAM_MEMBERS</th>\n",
       "      <th>WEEKDAY_APPR_PROCESS_START_x</th>\n",
       "      <th>HOUR_APPR_PROCESS_START_x</th>\n",
       "      <th>REG_REGION_NOT_LIVE_REGION</th>\n",
       "      <th>REG_REGION_NOT_WORK_REGION</th>\n",
       "      <th>LIVE_REGION_NOT_WORK_REGION</th>\n",
       "      <th>REG_CITY_NOT_LIVE_CITY</th>\n",
       "      <th>REG_CITY_NOT_WORK_CITY</th>\n",
       "      <th>LIVE_CITY_NOT_WORK_CITY</th>\n",
       "      <th>ORGANIZATION_TYPE</th>\n",
       "      <th>OBS_30_CNT_SOCIAL_CIRCLE</th>\n",
       "      <th>DEF_30_CNT_SOCIAL_CIRCLE</th>\n",
       "      <th>OBS_60_CNT_SOCIAL_CIRCLE</th>\n",
       "      <th>DEF_60_CNT_SOCIAL_CIRCLE</th>\n",
       "      <th>AMT_REQ_CREDIT_BUREAU_HOUR</th>\n",
       "      <th>AMT_REQ_CREDIT_BUREAU_DAY</th>\n",
       "      <th>AMT_REQ_CREDIT_BUREAU_WEEK</th>\n",
       "      <th>AMT_REQ_CREDIT_BUREAU_MON</th>\n",
       "      <th>AMT_REQ_CREDIT_BUREAU_QRT</th>\n",
       "      <th>AMT_REQ_CREDIT_BUREAU_YEAR</th>\n",
       "      <th>CREDIT_AMOUNT_RANGE</th>\n",
       "      <th>INCOME_RANGE</th>\n",
       "      <th>SK_ID_PREV</th>\n",
       "      <th>NAME_CONTRACT_TYPE_y</th>\n",
       "      <th>AMT_ANNUITY_y</th>\n",
       "      <th>AMT_APPLICATION</th>\n",
       "      <th>AMT_CREDIT_y</th>\n",
       "      <th>AMT_GOODS_PRICE_y</th>\n",
       "      <th>WEEKDAY_APPR_PROCESS_START_y</th>\n",
       "      <th>HOUR_APPR_PROCESS_START_y</th>\n",
       "      <th>FLAG_LAST_APPL_PER_CONTRACT</th>\n",
       "      <th>NFLAG_LAST_APPL_IN_DAY</th>\n",
       "      <th>NAME_CASH_LOAN_PURPOSE</th>\n",
       "      <th>NAME_CONTRACT_STATUS</th>\n",
       "      <th>DAYS_DECISION</th>\n",
       "      <th>NAME_PAYMENT_TYPE</th>\n",
       "      <th>CODE_REJECT_REASON</th>\n",
       "      <th>NAME_TYPE_SUITE_y</th>\n",
       "      <th>NAME_CLIENT_TYPE</th>\n",
       "      <th>NAME_GOODS_CATEGORY</th>\n",
       "      <th>NAME_PORTFOLIO</th>\n",
       "      <th>NAME_PRODUCT_TYPE</th>\n",
       "      <th>CHANNEL_TYPE</th>\n",
       "      <th>SELLERPLACE_AREA</th>\n",
       "      <th>NAME_SELLER_INDUSTRY</th>\n",
       "      <th>CNT_PAYMENT</th>\n",
       "      <th>NAME_YIELD_GROUP</th>\n",
       "      <th>PRODUCT_COMBINATION</th>\n",
       "      <th>DAYS_FIRST_DRAWING</th>\n",
       "      <th>DAYS_FIRST_DUE</th>\n",
       "      <th>DAYS_LAST_DUE_1ST_VERSION</th>\n",
       "      <th>DAYS_LAST_DUE</th>\n",
       "      <th>DAYS_TERMINATION</th>\n",
       "      <th>NFLAG_INSURED_ON_APPROVAL</th>\n",
       "    </tr>\n",
       "  </thead>\n",
       "  <tbody>\n",
       "    <tr>\n",
       "      <th>0</th>\n",
       "      <td>100002</td>\n",
       "      <td>1</td>\n",
       "      <td>Cash loans</td>\n",
       "      <td>M</td>\n",
       "      <td>N</td>\n",
       "      <td>Y</td>\n",
       "      <td>0</td>\n",
       "      <td>202500.0</td>\n",
       "      <td>406597.5</td>\n",
       "      <td>24700.5</td>\n",
       "      <td>351000.0</td>\n",
       "      <td>Unaccompanied</td>\n",
       "      <td>Working</td>\n",
       "      <td>Secondary / secondary special</td>\n",
       "      <td>Single / not married</td>\n",
       "      <td>House / apartment</td>\n",
       "      <td>0.018801</td>\n",
       "      <td>9461</td>\n",
       "      <td>-637</td>\n",
       "      <td>-3648.0</td>\n",
       "      <td>2120</td>\n",
       "      <td>0</td>\n",
       "      <td>Laborers</td>\n",
       "      <td>1.0</td>\n",
       "      <td>WEDNESDAY</td>\n",
       "      <td>10</td>\n",
       "      <td>0</td>\n",
       "      <td>0</td>\n",
       "      <td>0</td>\n",
       "      <td>0</td>\n",
       "      <td>0</td>\n",
       "      <td>0</td>\n",
       "      <td>Business Entity Type 3</td>\n",
       "      <td>2.0</td>\n",
       "      <td>2.0</td>\n",
       "      <td>2.0</td>\n",
       "      <td>2.0</td>\n",
       "      <td>0.000000</td>\n",
       "      <td>0.000000</td>\n",
       "      <td>0.000000</td>\n",
       "      <td>0.000000</td>\n",
       "      <td>0.000000</td>\n",
       "      <td>1.000000</td>\n",
       "      <td>400000-500000</td>\n",
       "      <td>200000-250000</td>\n",
       "      <td>1038818</td>\n",
       "      <td>Consumer loans</td>\n",
       "      <td>9251.775</td>\n",
       "      <td>179055.00</td>\n",
       "      <td>179055.0</td>\n",
       "      <td>179055.00</td>\n",
       "      <td>SATURDAY</td>\n",
       "      <td>9</td>\n",
       "      <td>Y</td>\n",
       "      <td>1</td>\n",
       "      <td>XAP</td>\n",
       "      <td>Approved</td>\n",
       "      <td>-606</td>\n",
       "      <td>XNA</td>\n",
       "      <td>XAP</td>\n",
       "      <td>Missing</td>\n",
       "      <td>New</td>\n",
       "      <td>Vehicles</td>\n",
       "      <td>POS</td>\n",
       "      <td>XNA</td>\n",
       "      <td>Stone</td>\n",
       "      <td>500</td>\n",
       "      <td>Auto technology</td>\n",
       "      <td>24.00</td>\n",
       "      <td>low_normal</td>\n",
       "      <td>POS other with interest</td>\n",
       "      <td>365243.0</td>\n",
       "      <td>-565.0</td>\n",
       "      <td>125.0</td>\n",
       "      <td>-25.0</td>\n",
       "      <td>-17.0</td>\n",
       "      <td>0.0</td>\n",
       "    </tr>\n",
       "    <tr>\n",
       "      <th>1</th>\n",
       "      <td>100003</td>\n",
       "      <td>0</td>\n",
       "      <td>Cash loans</td>\n",
       "      <td>F</td>\n",
       "      <td>N</td>\n",
       "      <td>N</td>\n",
       "      <td>0</td>\n",
       "      <td>270000.0</td>\n",
       "      <td>1293502.5</td>\n",
       "      <td>35698.5</td>\n",
       "      <td>1129500.0</td>\n",
       "      <td>Family</td>\n",
       "      <td>State servant</td>\n",
       "      <td>Higher education</td>\n",
       "      <td>Married</td>\n",
       "      <td>House / apartment</td>\n",
       "      <td>0.003541</td>\n",
       "      <td>16765</td>\n",
       "      <td>-1188</td>\n",
       "      <td>-1186.0</td>\n",
       "      <td>291</td>\n",
       "      <td>0</td>\n",
       "      <td>Core staff</td>\n",
       "      <td>2.0</td>\n",
       "      <td>MONDAY</td>\n",
       "      <td>11</td>\n",
       "      <td>0</td>\n",
       "      <td>0</td>\n",
       "      <td>0</td>\n",
       "      <td>0</td>\n",
       "      <td>0</td>\n",
       "      <td>0</td>\n",
       "      <td>School</td>\n",
       "      <td>1.0</td>\n",
       "      <td>0.0</td>\n",
       "      <td>1.0</td>\n",
       "      <td>0.0</td>\n",
       "      <td>0.000000</td>\n",
       "      <td>0.000000</td>\n",
       "      <td>0.000000</td>\n",
       "      <td>0.000000</td>\n",
       "      <td>0.000000</td>\n",
       "      <td>0.000000</td>\n",
       "      <td>900000 and above</td>\n",
       "      <td>250000-300000</td>\n",
       "      <td>1810518</td>\n",
       "      <td>Cash loans</td>\n",
       "      <td>98356.995</td>\n",
       "      <td>900000.00</td>\n",
       "      <td>1035882.0</td>\n",
       "      <td>900000.00</td>\n",
       "      <td>FRIDAY</td>\n",
       "      <td>12</td>\n",
       "      <td>Y</td>\n",
       "      <td>1</td>\n",
       "      <td>XNA</td>\n",
       "      <td>Approved</td>\n",
       "      <td>-746</td>\n",
       "      <td>XNA</td>\n",
       "      <td>XAP</td>\n",
       "      <td>Unaccompanied</td>\n",
       "      <td>Repeater</td>\n",
       "      <td>XNA</td>\n",
       "      <td>Cash</td>\n",
       "      <td>x-sell</td>\n",
       "      <td>Credit and cash offices</td>\n",
       "      <td>-1</td>\n",
       "      <td>XNA</td>\n",
       "      <td>12.00</td>\n",
       "      <td>low_normal</td>\n",
       "      <td>Cash X-Sell: low</td>\n",
       "      <td>365243.0</td>\n",
       "      <td>-716.0</td>\n",
       "      <td>-386.0</td>\n",
       "      <td>-536.0</td>\n",
       "      <td>-527.0</td>\n",
       "      <td>1.0</td>\n",
       "    </tr>\n",
       "    <tr>\n",
       "      <th>2</th>\n",
       "      <td>100003</td>\n",
       "      <td>0</td>\n",
       "      <td>Cash loans</td>\n",
       "      <td>F</td>\n",
       "      <td>N</td>\n",
       "      <td>N</td>\n",
       "      <td>0</td>\n",
       "      <td>270000.0</td>\n",
       "      <td>1293502.5</td>\n",
       "      <td>35698.5</td>\n",
       "      <td>1129500.0</td>\n",
       "      <td>Family</td>\n",
       "      <td>State servant</td>\n",
       "      <td>Higher education</td>\n",
       "      <td>Married</td>\n",
       "      <td>House / apartment</td>\n",
       "      <td>0.003541</td>\n",
       "      <td>16765</td>\n",
       "      <td>-1188</td>\n",
       "      <td>-1186.0</td>\n",
       "      <td>291</td>\n",
       "      <td>0</td>\n",
       "      <td>Core staff</td>\n",
       "      <td>2.0</td>\n",
       "      <td>MONDAY</td>\n",
       "      <td>11</td>\n",
       "      <td>0</td>\n",
       "      <td>0</td>\n",
       "      <td>0</td>\n",
       "      <td>0</td>\n",
       "      <td>0</td>\n",
       "      <td>0</td>\n",
       "      <td>School</td>\n",
       "      <td>1.0</td>\n",
       "      <td>0.0</td>\n",
       "      <td>1.0</td>\n",
       "      <td>0.0</td>\n",
       "      <td>0.000000</td>\n",
       "      <td>0.000000</td>\n",
       "      <td>0.000000</td>\n",
       "      <td>0.000000</td>\n",
       "      <td>0.000000</td>\n",
       "      <td>0.000000</td>\n",
       "      <td>900000 and above</td>\n",
       "      <td>250000-300000</td>\n",
       "      <td>2636178</td>\n",
       "      <td>Consumer loans</td>\n",
       "      <td>64567.665</td>\n",
       "      <td>337500.00</td>\n",
       "      <td>348637.5</td>\n",
       "      <td>337500.00</td>\n",
       "      <td>SUNDAY</td>\n",
       "      <td>17</td>\n",
       "      <td>Y</td>\n",
       "      <td>1</td>\n",
       "      <td>XAP</td>\n",
       "      <td>Approved</td>\n",
       "      <td>-828</td>\n",
       "      <td>Cash through the bank</td>\n",
       "      <td>XAP</td>\n",
       "      <td>Family</td>\n",
       "      <td>Refreshed</td>\n",
       "      <td>Furniture</td>\n",
       "      <td>POS</td>\n",
       "      <td>XNA</td>\n",
       "      <td>Stone</td>\n",
       "      <td>1400</td>\n",
       "      <td>Furniture</td>\n",
       "      <td>6.00</td>\n",
       "      <td>middle</td>\n",
       "      <td>POS industry with interest</td>\n",
       "      <td>365243.0</td>\n",
       "      <td>-797.0</td>\n",
       "      <td>-647.0</td>\n",
       "      <td>-647.0</td>\n",
       "      <td>-639.0</td>\n",
       "      <td>0.0</td>\n",
       "    </tr>\n",
       "    <tr>\n",
       "      <th>3</th>\n",
       "      <td>100003</td>\n",
       "      <td>0</td>\n",
       "      <td>Cash loans</td>\n",
       "      <td>F</td>\n",
       "      <td>N</td>\n",
       "      <td>N</td>\n",
       "      <td>0</td>\n",
       "      <td>270000.0</td>\n",
       "      <td>1293502.5</td>\n",
       "      <td>35698.5</td>\n",
       "      <td>1129500.0</td>\n",
       "      <td>Family</td>\n",
       "      <td>State servant</td>\n",
       "      <td>Higher education</td>\n",
       "      <td>Married</td>\n",
       "      <td>House / apartment</td>\n",
       "      <td>0.003541</td>\n",
       "      <td>16765</td>\n",
       "      <td>-1188</td>\n",
       "      <td>-1186.0</td>\n",
       "      <td>291</td>\n",
       "      <td>0</td>\n",
       "      <td>Core staff</td>\n",
       "      <td>2.0</td>\n",
       "      <td>MONDAY</td>\n",
       "      <td>11</td>\n",
       "      <td>0</td>\n",
       "      <td>0</td>\n",
       "      <td>0</td>\n",
       "      <td>0</td>\n",
       "      <td>0</td>\n",
       "      <td>0</td>\n",
       "      <td>School</td>\n",
       "      <td>1.0</td>\n",
       "      <td>0.0</td>\n",
       "      <td>1.0</td>\n",
       "      <td>0.0</td>\n",
       "      <td>0.000000</td>\n",
       "      <td>0.000000</td>\n",
       "      <td>0.000000</td>\n",
       "      <td>0.000000</td>\n",
       "      <td>0.000000</td>\n",
       "      <td>0.000000</td>\n",
       "      <td>900000 and above</td>\n",
       "      <td>250000-300000</td>\n",
       "      <td>2396755</td>\n",
       "      <td>Consumer loans</td>\n",
       "      <td>6737.310</td>\n",
       "      <td>68809.50</td>\n",
       "      <td>68053.5</td>\n",
       "      <td>68809.50</td>\n",
       "      <td>SATURDAY</td>\n",
       "      <td>15</td>\n",
       "      <td>Y</td>\n",
       "      <td>1</td>\n",
       "      <td>XAP</td>\n",
       "      <td>Approved</td>\n",
       "      <td>-2341</td>\n",
       "      <td>Cash through the bank</td>\n",
       "      <td>XAP</td>\n",
       "      <td>Family</td>\n",
       "      <td>Refreshed</td>\n",
       "      <td>Consumer Electronics</td>\n",
       "      <td>POS</td>\n",
       "      <td>XNA</td>\n",
       "      <td>Country-wide</td>\n",
       "      <td>200</td>\n",
       "      <td>Consumer electronics</td>\n",
       "      <td>12.00</td>\n",
       "      <td>middle</td>\n",
       "      <td>POS household with interest</td>\n",
       "      <td>365243.0</td>\n",
       "      <td>-2310.0</td>\n",
       "      <td>-1980.0</td>\n",
       "      <td>-1980.0</td>\n",
       "      <td>-1976.0</td>\n",
       "      <td>1.0</td>\n",
       "    </tr>\n",
       "    <tr>\n",
       "      <th>4</th>\n",
       "      <td>100004</td>\n",
       "      <td>0</td>\n",
       "      <td>Revolving loans</td>\n",
       "      <td>M</td>\n",
       "      <td>Y</td>\n",
       "      <td>Y</td>\n",
       "      <td>0</td>\n",
       "      <td>67500.0</td>\n",
       "      <td>135000.0</td>\n",
       "      <td>6750.0</td>\n",
       "      <td>135000.0</td>\n",
       "      <td>Unaccompanied</td>\n",
       "      <td>Working</td>\n",
       "      <td>Secondary / secondary special</td>\n",
       "      <td>Single / not married</td>\n",
       "      <td>House / apartment</td>\n",
       "      <td>0.010032</td>\n",
       "      <td>19046</td>\n",
       "      <td>-225</td>\n",
       "      <td>-4260.0</td>\n",
       "      <td>2531</td>\n",
       "      <td>0</td>\n",
       "      <td>Laborers</td>\n",
       "      <td>1.0</td>\n",
       "      <td>MONDAY</td>\n",
       "      <td>9</td>\n",
       "      <td>0</td>\n",
       "      <td>0</td>\n",
       "      <td>0</td>\n",
       "      <td>0</td>\n",
       "      <td>0</td>\n",
       "      <td>0</td>\n",
       "      <td>Government</td>\n",
       "      <td>0.0</td>\n",
       "      <td>0.0</td>\n",
       "      <td>0.0</td>\n",
       "      <td>0.0</td>\n",
       "      <td>0.000000</td>\n",
       "      <td>0.000000</td>\n",
       "      <td>0.000000</td>\n",
       "      <td>0.000000</td>\n",
       "      <td>0.000000</td>\n",
       "      <td>0.000000</td>\n",
       "      <td>100000-200000</td>\n",
       "      <td>50000-100000</td>\n",
       "      <td>1564014</td>\n",
       "      <td>Consumer loans</td>\n",
       "      <td>5357.250</td>\n",
       "      <td>24282.00</td>\n",
       "      <td>20106.0</td>\n",
       "      <td>24282.00</td>\n",
       "      <td>FRIDAY</td>\n",
       "      <td>5</td>\n",
       "      <td>Y</td>\n",
       "      <td>1</td>\n",
       "      <td>XAP</td>\n",
       "      <td>Approved</td>\n",
       "      <td>-815</td>\n",
       "      <td>Cash through the bank</td>\n",
       "      <td>XAP</td>\n",
       "      <td>Unaccompanied</td>\n",
       "      <td>New</td>\n",
       "      <td>Mobile</td>\n",
       "      <td>POS</td>\n",
       "      <td>XNA</td>\n",
       "      <td>Regional / Local</td>\n",
       "      <td>30</td>\n",
       "      <td>Connectivity</td>\n",
       "      <td>4.00</td>\n",
       "      <td>middle</td>\n",
       "      <td>POS mobile without interest</td>\n",
       "      <td>365243.0</td>\n",
       "      <td>-784.0</td>\n",
       "      <td>-694.0</td>\n",
       "      <td>-724.0</td>\n",
       "      <td>-714.0</td>\n",
       "      <td>0.0</td>\n",
       "    </tr>\n",
       "    <tr>\n",
       "      <th>5</th>\n",
       "      <td>100006</td>\n",
       "      <td>0</td>\n",
       "      <td>Cash loans</td>\n",
       "      <td>F</td>\n",
       "      <td>N</td>\n",
       "      <td>Y</td>\n",
       "      <td>0</td>\n",
       "      <td>135000.0</td>\n",
       "      <td>312682.5</td>\n",
       "      <td>29686.5</td>\n",
       "      <td>297000.0</td>\n",
       "      <td>Unaccompanied</td>\n",
       "      <td>Working</td>\n",
       "      <td>Secondary / secondary special</td>\n",
       "      <td>Civil marriage</td>\n",
       "      <td>House / apartment</td>\n",
       "      <td>0.008019</td>\n",
       "      <td>19005</td>\n",
       "      <td>-3039</td>\n",
       "      <td>-9833.0</td>\n",
       "      <td>2437</td>\n",
       "      <td>0</td>\n",
       "      <td>Laborers</td>\n",
       "      <td>2.0</td>\n",
       "      <td>WEDNESDAY</td>\n",
       "      <td>17</td>\n",
       "      <td>0</td>\n",
       "      <td>0</td>\n",
       "      <td>0</td>\n",
       "      <td>0</td>\n",
       "      <td>0</td>\n",
       "      <td>0</td>\n",
       "      <td>Business Entity Type 3</td>\n",
       "      <td>2.0</td>\n",
       "      <td>0.0</td>\n",
       "      <td>2.0</td>\n",
       "      <td>0.0</td>\n",
       "      <td>0.006438</td>\n",
       "      <td>0.006947</td>\n",
       "      <td>0.033902</td>\n",
       "      <td>0.279855</td>\n",
       "      <td>0.260213</td>\n",
       "      <td>1.857857</td>\n",
       "      <td>300000-400000</td>\n",
       "      <td>100000-150000</td>\n",
       "      <td>2078043</td>\n",
       "      <td>Cash loans</td>\n",
       "      <td>24246.000</td>\n",
       "      <td>675000.00</td>\n",
       "      <td>675000.0</td>\n",
       "      <td>675000.00</td>\n",
       "      <td>THURSDAY</td>\n",
       "      <td>15</td>\n",
       "      <td>Y</td>\n",
       "      <td>1</td>\n",
       "      <td>XNA</td>\n",
       "      <td>Approved</td>\n",
       "      <td>-181</td>\n",
       "      <td>Cash through the bank</td>\n",
       "      <td>XAP</td>\n",
       "      <td>Unaccompanied</td>\n",
       "      <td>Repeater</td>\n",
       "      <td>XNA</td>\n",
       "      <td>Cash</td>\n",
       "      <td>x-sell</td>\n",
       "      <td>Credit and cash offices</td>\n",
       "      <td>-1</td>\n",
       "      <td>XNA</td>\n",
       "      <td>48.00</td>\n",
       "      <td>low_normal</td>\n",
       "      <td>Cash X-Sell: low</td>\n",
       "      <td>365243.0</td>\n",
       "      <td>-151.0</td>\n",
       "      <td>1259.0</td>\n",
       "      <td>-151.0</td>\n",
       "      <td>-143.0</td>\n",
       "      <td>0.0</td>\n",
       "    </tr>\n",
       "    <tr>\n",
       "      <th>6</th>\n",
       "      <td>100006</td>\n",
       "      <td>0</td>\n",
       "      <td>Cash loans</td>\n",
       "      <td>F</td>\n",
       "      <td>N</td>\n",
       "      <td>Y</td>\n",
       "      <td>0</td>\n",
       "      <td>135000.0</td>\n",
       "      <td>312682.5</td>\n",
       "      <td>29686.5</td>\n",
       "      <td>297000.0</td>\n",
       "      <td>Unaccompanied</td>\n",
       "      <td>Working</td>\n",
       "      <td>Secondary / secondary special</td>\n",
       "      <td>Civil marriage</td>\n",
       "      <td>House / apartment</td>\n",
       "      <td>0.008019</td>\n",
       "      <td>19005</td>\n",
       "      <td>-3039</td>\n",
       "      <td>-9833.0</td>\n",
       "      <td>2437</td>\n",
       "      <td>0</td>\n",
       "      <td>Laborers</td>\n",
       "      <td>2.0</td>\n",
       "      <td>WEDNESDAY</td>\n",
       "      <td>17</td>\n",
       "      <td>0</td>\n",
       "      <td>0</td>\n",
       "      <td>0</td>\n",
       "      <td>0</td>\n",
       "      <td>0</td>\n",
       "      <td>0</td>\n",
       "      <td>Business Entity Type 3</td>\n",
       "      <td>2.0</td>\n",
       "      <td>0.0</td>\n",
       "      <td>2.0</td>\n",
       "      <td>0.0</td>\n",
       "      <td>0.006438</td>\n",
       "      <td>0.006947</td>\n",
       "      <td>0.033902</td>\n",
       "      <td>0.279855</td>\n",
       "      <td>0.260213</td>\n",
       "      <td>1.857857</td>\n",
       "      <td>300000-400000</td>\n",
       "      <td>100000-150000</td>\n",
       "      <td>2827850</td>\n",
       "      <td>Revolving loans</td>\n",
       "      <td>11250.000</td>\n",
       "      <td>0.00</td>\n",
       "      <td>0.0</td>\n",
       "      <td>112320.00</td>\n",
       "      <td>THURSDAY</td>\n",
       "      <td>15</td>\n",
       "      <td>Y</td>\n",
       "      <td>1</td>\n",
       "      <td>XAP</td>\n",
       "      <td>Canceled</td>\n",
       "      <td>-181</td>\n",
       "      <td>XNA</td>\n",
       "      <td>XAP</td>\n",
       "      <td>Missing</td>\n",
       "      <td>Repeater</td>\n",
       "      <td>XNA</td>\n",
       "      <td>XNA</td>\n",
       "      <td>XNA</td>\n",
       "      <td>Credit and cash offices</td>\n",
       "      <td>-1</td>\n",
       "      <td>XNA</td>\n",
       "      <td>16.05</td>\n",
       "      <td>XNA</td>\n",
       "      <td>Card Street</td>\n",
       "      <td>365243.0</td>\n",
       "      <td>-831.0</td>\n",
       "      <td>-361.0</td>\n",
       "      <td>-537.0</td>\n",
       "      <td>-499.0</td>\n",
       "      <td>0.0</td>\n",
       "    </tr>\n",
       "    <tr>\n",
       "      <th>7</th>\n",
       "      <td>100006</td>\n",
       "      <td>0</td>\n",
       "      <td>Cash loans</td>\n",
       "      <td>F</td>\n",
       "      <td>N</td>\n",
       "      <td>Y</td>\n",
       "      <td>0</td>\n",
       "      <td>135000.0</td>\n",
       "      <td>312682.5</td>\n",
       "      <td>29686.5</td>\n",
       "      <td>297000.0</td>\n",
       "      <td>Unaccompanied</td>\n",
       "      <td>Working</td>\n",
       "      <td>Secondary / secondary special</td>\n",
       "      <td>Civil marriage</td>\n",
       "      <td>House / apartment</td>\n",
       "      <td>0.008019</td>\n",
       "      <td>19005</td>\n",
       "      <td>-3039</td>\n",
       "      <td>-9833.0</td>\n",
       "      <td>2437</td>\n",
       "      <td>0</td>\n",
       "      <td>Laborers</td>\n",
       "      <td>2.0</td>\n",
       "      <td>WEDNESDAY</td>\n",
       "      <td>17</td>\n",
       "      <td>0</td>\n",
       "      <td>0</td>\n",
       "      <td>0</td>\n",
       "      <td>0</td>\n",
       "      <td>0</td>\n",
       "      <td>0</td>\n",
       "      <td>Business Entity Type 3</td>\n",
       "      <td>2.0</td>\n",
       "      <td>0.0</td>\n",
       "      <td>2.0</td>\n",
       "      <td>0.0</td>\n",
       "      <td>0.006438</td>\n",
       "      <td>0.006947</td>\n",
       "      <td>0.033902</td>\n",
       "      <td>0.279855</td>\n",
       "      <td>0.260213</td>\n",
       "      <td>1.857857</td>\n",
       "      <td>300000-400000</td>\n",
       "      <td>100000-150000</td>\n",
       "      <td>2190416</td>\n",
       "      <td>Consumer loans</td>\n",
       "      <td>29027.520</td>\n",
       "      <td>334917.00</td>\n",
       "      <td>267930.0</td>\n",
       "      <td>334917.00</td>\n",
       "      <td>SUNDAY</td>\n",
       "      <td>15</td>\n",
       "      <td>Y</td>\n",
       "      <td>1</td>\n",
       "      <td>XAP</td>\n",
       "      <td>Approved</td>\n",
       "      <td>-311</td>\n",
       "      <td>Cash through the bank</td>\n",
       "      <td>XAP</td>\n",
       "      <td>Family</td>\n",
       "      <td>Repeater</td>\n",
       "      <td>Audio/Video</td>\n",
       "      <td>POS</td>\n",
       "      <td>XNA</td>\n",
       "      <td>Country-wide</td>\n",
       "      <td>8025</td>\n",
       "      <td>Consumer electronics</td>\n",
       "      <td>12.00</td>\n",
       "      <td>high</td>\n",
       "      <td>POS household with interest</td>\n",
       "      <td>365243.0</td>\n",
       "      <td>-281.0</td>\n",
       "      <td>49.0</td>\n",
       "      <td>365243.0</td>\n",
       "      <td>365243.0</td>\n",
       "      <td>0.0</td>\n",
       "    </tr>\n",
       "    <tr>\n",
       "      <th>8</th>\n",
       "      <td>100006</td>\n",
       "      <td>0</td>\n",
       "      <td>Cash loans</td>\n",
       "      <td>F</td>\n",
       "      <td>N</td>\n",
       "      <td>Y</td>\n",
       "      <td>0</td>\n",
       "      <td>135000.0</td>\n",
       "      <td>312682.5</td>\n",
       "      <td>29686.5</td>\n",
       "      <td>297000.0</td>\n",
       "      <td>Unaccompanied</td>\n",
       "      <td>Working</td>\n",
       "      <td>Secondary / secondary special</td>\n",
       "      <td>Civil marriage</td>\n",
       "      <td>House / apartment</td>\n",
       "      <td>0.008019</td>\n",
       "      <td>19005</td>\n",
       "      <td>-3039</td>\n",
       "      <td>-9833.0</td>\n",
       "      <td>2437</td>\n",
       "      <td>0</td>\n",
       "      <td>Laborers</td>\n",
       "      <td>2.0</td>\n",
       "      <td>WEDNESDAY</td>\n",
       "      <td>17</td>\n",
       "      <td>0</td>\n",
       "      <td>0</td>\n",
       "      <td>0</td>\n",
       "      <td>0</td>\n",
       "      <td>0</td>\n",
       "      <td>0</td>\n",
       "      <td>Business Entity Type 3</td>\n",
       "      <td>2.0</td>\n",
       "      <td>0.0</td>\n",
       "      <td>2.0</td>\n",
       "      <td>0.0</td>\n",
       "      <td>0.006438</td>\n",
       "      <td>0.006947</td>\n",
       "      <td>0.033902</td>\n",
       "      <td>0.279855</td>\n",
       "      <td>0.260213</td>\n",
       "      <td>1.857857</td>\n",
       "      <td>300000-400000</td>\n",
       "      <td>100000-150000</td>\n",
       "      <td>1489396</td>\n",
       "      <td>Revolving loans</td>\n",
       "      <td>13500.000</td>\n",
       "      <td>270000.00</td>\n",
       "      <td>270000.0</td>\n",
       "      <td>270000.00</td>\n",
       "      <td>THURSDAY</td>\n",
       "      <td>15</td>\n",
       "      <td>Y</td>\n",
       "      <td>1</td>\n",
       "      <td>XAP</td>\n",
       "      <td>Approved</td>\n",
       "      <td>-181</td>\n",
       "      <td>XNA</td>\n",
       "      <td>XAP</td>\n",
       "      <td>Unaccompanied</td>\n",
       "      <td>Repeater</td>\n",
       "      <td>XNA</td>\n",
       "      <td>Cards</td>\n",
       "      <td>x-sell</td>\n",
       "      <td>Credit and cash offices</td>\n",
       "      <td>-1</td>\n",
       "      <td>XNA</td>\n",
       "      <td>0.00</td>\n",
       "      <td>XNA</td>\n",
       "      <td>Card X-Sell</td>\n",
       "      <td>365243.0</td>\n",
       "      <td>365243.0</td>\n",
       "      <td>365243.0</td>\n",
       "      <td>365243.0</td>\n",
       "      <td>365243.0</td>\n",
       "      <td>0.0</td>\n",
       "    </tr>\n",
       "    <tr>\n",
       "      <th>9</th>\n",
       "      <td>100006</td>\n",
       "      <td>0</td>\n",
       "      <td>Cash loans</td>\n",
       "      <td>F</td>\n",
       "      <td>N</td>\n",
       "      <td>Y</td>\n",
       "      <td>0</td>\n",
       "      <td>135000.0</td>\n",
       "      <td>312682.5</td>\n",
       "      <td>29686.5</td>\n",
       "      <td>297000.0</td>\n",
       "      <td>Unaccompanied</td>\n",
       "      <td>Working</td>\n",
       "      <td>Secondary / secondary special</td>\n",
       "      <td>Civil marriage</td>\n",
       "      <td>House / apartment</td>\n",
       "      <td>0.008019</td>\n",
       "      <td>19005</td>\n",
       "      <td>-3039</td>\n",
       "      <td>-9833.0</td>\n",
       "      <td>2437</td>\n",
       "      <td>0</td>\n",
       "      <td>Laborers</td>\n",
       "      <td>2.0</td>\n",
       "      <td>WEDNESDAY</td>\n",
       "      <td>17</td>\n",
       "      <td>0</td>\n",
       "      <td>0</td>\n",
       "      <td>0</td>\n",
       "      <td>0</td>\n",
       "      <td>0</td>\n",
       "      <td>0</td>\n",
       "      <td>Business Entity Type 3</td>\n",
       "      <td>2.0</td>\n",
       "      <td>0.0</td>\n",
       "      <td>2.0</td>\n",
       "      <td>0.0</td>\n",
       "      <td>0.006438</td>\n",
       "      <td>0.006947</td>\n",
       "      <td>0.033902</td>\n",
       "      <td>0.279855</td>\n",
       "      <td>0.260213</td>\n",
       "      <td>1.857857</td>\n",
       "      <td>300000-400000</td>\n",
       "      <td>100000-150000</td>\n",
       "      <td>1020698</td>\n",
       "      <td>Cash loans</td>\n",
       "      <td>39954.510</td>\n",
       "      <td>454500.00</td>\n",
       "      <td>481495.5</td>\n",
       "      <td>454500.00</td>\n",
       "      <td>SATURDAY</td>\n",
       "      <td>12</td>\n",
       "      <td>Y</td>\n",
       "      <td>1</td>\n",
       "      <td>XNA</td>\n",
       "      <td>Approved</td>\n",
       "      <td>-438</td>\n",
       "      <td>Cash through the bank</td>\n",
       "      <td>XAP</td>\n",
       "      <td>Missing</td>\n",
       "      <td>Repeater</td>\n",
       "      <td>XNA</td>\n",
       "      <td>Cash</td>\n",
       "      <td>x-sell</td>\n",
       "      <td>Credit and cash offices</td>\n",
       "      <td>-1</td>\n",
       "      <td>XNA</td>\n",
       "      <td>18.00</td>\n",
       "      <td>high</td>\n",
       "      <td>Cash X-Sell: high</td>\n",
       "      <td>365243.0</td>\n",
       "      <td>-831.0</td>\n",
       "      <td>-361.0</td>\n",
       "      <td>-537.0</td>\n",
       "      <td>-499.0</td>\n",
       "      <td>0.0</td>\n",
       "    </tr>\n",
       "    <tr>\n",
       "      <th>10</th>\n",
       "      <td>100006</td>\n",
       "      <td>0</td>\n",
       "      <td>Cash loans</td>\n",
       "      <td>F</td>\n",
       "      <td>N</td>\n",
       "      <td>Y</td>\n",
       "      <td>0</td>\n",
       "      <td>135000.0</td>\n",
       "      <td>312682.5</td>\n",
       "      <td>29686.5</td>\n",
       "      <td>297000.0</td>\n",
       "      <td>Unaccompanied</td>\n",
       "      <td>Working</td>\n",
       "      <td>Secondary / secondary special</td>\n",
       "      <td>Civil marriage</td>\n",
       "      <td>House / apartment</td>\n",
       "      <td>0.008019</td>\n",
       "      <td>19005</td>\n",
       "      <td>-3039</td>\n",
       "      <td>-9833.0</td>\n",
       "      <td>2437</td>\n",
       "      <td>0</td>\n",
       "      <td>Laborers</td>\n",
       "      <td>2.0</td>\n",
       "      <td>WEDNESDAY</td>\n",
       "      <td>17</td>\n",
       "      <td>0</td>\n",
       "      <td>0</td>\n",
       "      <td>0</td>\n",
       "      <td>0</td>\n",
       "      <td>0</td>\n",
       "      <td>0</td>\n",
       "      <td>Business Entity Type 3</td>\n",
       "      <td>2.0</td>\n",
       "      <td>0.0</td>\n",
       "      <td>2.0</td>\n",
       "      <td>0.0</td>\n",
       "      <td>0.006438</td>\n",
       "      <td>0.006947</td>\n",
       "      <td>0.033902</td>\n",
       "      <td>0.279855</td>\n",
       "      <td>0.260213</td>\n",
       "      <td>1.857857</td>\n",
       "      <td>300000-400000</td>\n",
       "      <td>100000-150000</td>\n",
       "      <td>1243599</td>\n",
       "      <td>Cash loans</td>\n",
       "      <td>11250.000</td>\n",
       "      <td>0.00</td>\n",
       "      <td>0.0</td>\n",
       "      <td>112320.00</td>\n",
       "      <td>THURSDAY</td>\n",
       "      <td>15</td>\n",
       "      <td>Y</td>\n",
       "      <td>1</td>\n",
       "      <td>XNA</td>\n",
       "      <td>Canceled</td>\n",
       "      <td>-181</td>\n",
       "      <td>XNA</td>\n",
       "      <td>XAP</td>\n",
       "      <td>Missing</td>\n",
       "      <td>Repeater</td>\n",
       "      <td>XNA</td>\n",
       "      <td>XNA</td>\n",
       "      <td>XNA</td>\n",
       "      <td>Credit and cash offices</td>\n",
       "      <td>-1</td>\n",
       "      <td>XNA</td>\n",
       "      <td>16.05</td>\n",
       "      <td>XNA</td>\n",
       "      <td>Cash</td>\n",
       "      <td>365243.0</td>\n",
       "      <td>-831.0</td>\n",
       "      <td>-361.0</td>\n",
       "      <td>-537.0</td>\n",
       "      <td>-499.0</td>\n",
       "      <td>0.0</td>\n",
       "    </tr>\n",
       "    <tr>\n",
       "      <th>11</th>\n",
       "      <td>100006</td>\n",
       "      <td>0</td>\n",
       "      <td>Cash loans</td>\n",
       "      <td>F</td>\n",
       "      <td>N</td>\n",
       "      <td>Y</td>\n",
       "      <td>0</td>\n",
       "      <td>135000.0</td>\n",
       "      <td>312682.5</td>\n",
       "      <td>29686.5</td>\n",
       "      <td>297000.0</td>\n",
       "      <td>Unaccompanied</td>\n",
       "      <td>Working</td>\n",
       "      <td>Secondary / secondary special</td>\n",
       "      <td>Civil marriage</td>\n",
       "      <td>House / apartment</td>\n",
       "      <td>0.008019</td>\n",
       "      <td>19005</td>\n",
       "      <td>-3039</td>\n",
       "      <td>-9833.0</td>\n",
       "      <td>2437</td>\n",
       "      <td>0</td>\n",
       "      <td>Laborers</td>\n",
       "      <td>2.0</td>\n",
       "      <td>WEDNESDAY</td>\n",
       "      <td>17</td>\n",
       "      <td>0</td>\n",
       "      <td>0</td>\n",
       "      <td>0</td>\n",
       "      <td>0</td>\n",
       "      <td>0</td>\n",
       "      <td>0</td>\n",
       "      <td>Business Entity Type 3</td>\n",
       "      <td>2.0</td>\n",
       "      <td>0.0</td>\n",
       "      <td>2.0</td>\n",
       "      <td>0.0</td>\n",
       "      <td>0.006438</td>\n",
       "      <td>0.006947</td>\n",
       "      <td>0.033902</td>\n",
       "      <td>0.279855</td>\n",
       "      <td>0.260213</td>\n",
       "      <td>1.857857</td>\n",
       "      <td>300000-400000</td>\n",
       "      <td>100000-150000</td>\n",
       "      <td>2299329</td>\n",
       "      <td>Consumer loans</td>\n",
       "      <td>2482.920</td>\n",
       "      <td>26912.34</td>\n",
       "      <td>24219.0</td>\n",
       "      <td>26912.34</td>\n",
       "      <td>TUESDAY</td>\n",
       "      <td>15</td>\n",
       "      <td>Y</td>\n",
       "      <td>1</td>\n",
       "      <td>XAP</td>\n",
       "      <td>Approved</td>\n",
       "      <td>-617</td>\n",
       "      <td>XNA</td>\n",
       "      <td>XAP</td>\n",
       "      <td>Missing</td>\n",
       "      <td>New</td>\n",
       "      <td>Construction Materials</td>\n",
       "      <td>POS</td>\n",
       "      <td>XNA</td>\n",
       "      <td>Stone</td>\n",
       "      <td>30</td>\n",
       "      <td>Construction</td>\n",
       "      <td>12.00</td>\n",
       "      <td>middle</td>\n",
       "      <td>POS industry with interest</td>\n",
       "      <td>365243.0</td>\n",
       "      <td>-545.0</td>\n",
       "      <td>-215.0</td>\n",
       "      <td>-425.0</td>\n",
       "      <td>-416.0</td>\n",
       "      <td>0.0</td>\n",
       "    </tr>\n",
       "    <tr>\n",
       "      <th>12</th>\n",
       "      <td>100006</td>\n",
       "      <td>0</td>\n",
       "      <td>Cash loans</td>\n",
       "      <td>F</td>\n",
       "      <td>N</td>\n",
       "      <td>Y</td>\n",
       "      <td>0</td>\n",
       "      <td>135000.0</td>\n",
       "      <td>312682.5</td>\n",
       "      <td>29686.5</td>\n",
       "      <td>297000.0</td>\n",
       "      <td>Unaccompanied</td>\n",
       "      <td>Working</td>\n",
       "      <td>Secondary / secondary special</td>\n",
       "      <td>Civil marriage</td>\n",
       "      <td>House / apartment</td>\n",
       "      <td>0.008019</td>\n",
       "      <td>19005</td>\n",
       "      <td>-3039</td>\n",
       "      <td>-9833.0</td>\n",
       "      <td>2437</td>\n",
       "      <td>0</td>\n",
       "      <td>Laborers</td>\n",
       "      <td>2.0</td>\n",
       "      <td>WEDNESDAY</td>\n",
       "      <td>17</td>\n",
       "      <td>0</td>\n",
       "      <td>0</td>\n",
       "      <td>0</td>\n",
       "      <td>0</td>\n",
       "      <td>0</td>\n",
       "      <td>0</td>\n",
       "      <td>Business Entity Type 3</td>\n",
       "      <td>2.0</td>\n",
       "      <td>0.0</td>\n",
       "      <td>2.0</td>\n",
       "      <td>0.0</td>\n",
       "      <td>0.006438</td>\n",
       "      <td>0.006947</td>\n",
       "      <td>0.033902</td>\n",
       "      <td>0.279855</td>\n",
       "      <td>0.260213</td>\n",
       "      <td>1.857857</td>\n",
       "      <td>300000-400000</td>\n",
       "      <td>100000-150000</td>\n",
       "      <td>2545789</td>\n",
       "      <td>Cash loans</td>\n",
       "      <td>11250.000</td>\n",
       "      <td>0.00</td>\n",
       "      <td>0.0</td>\n",
       "      <td>112320.00</td>\n",
       "      <td>THURSDAY</td>\n",
       "      <td>15</td>\n",
       "      <td>Y</td>\n",
       "      <td>1</td>\n",
       "      <td>XNA</td>\n",
       "      <td>Canceled</td>\n",
       "      <td>-181</td>\n",
       "      <td>XNA</td>\n",
       "      <td>XAP</td>\n",
       "      <td>Missing</td>\n",
       "      <td>Repeater</td>\n",
       "      <td>XNA</td>\n",
       "      <td>XNA</td>\n",
       "      <td>XNA</td>\n",
       "      <td>Credit and cash offices</td>\n",
       "      <td>-1</td>\n",
       "      <td>XNA</td>\n",
       "      <td>16.05</td>\n",
       "      <td>XNA</td>\n",
       "      <td>Cash</td>\n",
       "      <td>365243.0</td>\n",
       "      <td>-831.0</td>\n",
       "      <td>-361.0</td>\n",
       "      <td>-537.0</td>\n",
       "      <td>-499.0</td>\n",
       "      <td>0.0</td>\n",
       "    </tr>\n",
       "    <tr>\n",
       "      <th>13</th>\n",
       "      <td>100006</td>\n",
       "      <td>0</td>\n",
       "      <td>Cash loans</td>\n",
       "      <td>F</td>\n",
       "      <td>N</td>\n",
       "      <td>Y</td>\n",
       "      <td>0</td>\n",
       "      <td>135000.0</td>\n",
       "      <td>312682.5</td>\n",
       "      <td>29686.5</td>\n",
       "      <td>297000.0</td>\n",
       "      <td>Unaccompanied</td>\n",
       "      <td>Working</td>\n",
       "      <td>Secondary / secondary special</td>\n",
       "      <td>Civil marriage</td>\n",
       "      <td>House / apartment</td>\n",
       "      <td>0.008019</td>\n",
       "      <td>19005</td>\n",
       "      <td>-3039</td>\n",
       "      <td>-9833.0</td>\n",
       "      <td>2437</td>\n",
       "      <td>0</td>\n",
       "      <td>Laborers</td>\n",
       "      <td>2.0</td>\n",
       "      <td>WEDNESDAY</td>\n",
       "      <td>17</td>\n",
       "      <td>0</td>\n",
       "      <td>0</td>\n",
       "      <td>0</td>\n",
       "      <td>0</td>\n",
       "      <td>0</td>\n",
       "      <td>0</td>\n",
       "      <td>Business Entity Type 3</td>\n",
       "      <td>2.0</td>\n",
       "      <td>0.0</td>\n",
       "      <td>2.0</td>\n",
       "      <td>0.0</td>\n",
       "      <td>0.006438</td>\n",
       "      <td>0.006947</td>\n",
       "      <td>0.033902</td>\n",
       "      <td>0.279855</td>\n",
       "      <td>0.260213</td>\n",
       "      <td>1.857857</td>\n",
       "      <td>300000-400000</td>\n",
       "      <td>100000-150000</td>\n",
       "      <td>1697039</td>\n",
       "      <td>Cash loans</td>\n",
       "      <td>32696.100</td>\n",
       "      <td>688500.00</td>\n",
       "      <td>906615.0</td>\n",
       "      <td>688500.00</td>\n",
       "      <td>THURSDAY</td>\n",
       "      <td>15</td>\n",
       "      <td>Y</td>\n",
       "      <td>1</td>\n",
       "      <td>XNA</td>\n",
       "      <td>Refused</td>\n",
       "      <td>-181</td>\n",
       "      <td>Cash through the bank</td>\n",
       "      <td>LIMIT</td>\n",
       "      <td>Unaccompanied</td>\n",
       "      <td>Repeater</td>\n",
       "      <td>XNA</td>\n",
       "      <td>Cash</td>\n",
       "      <td>x-sell</td>\n",
       "      <td>Credit and cash offices</td>\n",
       "      <td>-1</td>\n",
       "      <td>XNA</td>\n",
       "      <td>48.00</td>\n",
       "      <td>low_normal</td>\n",
       "      <td>Cash X-Sell: low</td>\n",
       "      <td>365243.0</td>\n",
       "      <td>-831.0</td>\n",
       "      <td>-361.0</td>\n",
       "      <td>-537.0</td>\n",
       "      <td>-499.0</td>\n",
       "      <td>0.0</td>\n",
       "    </tr>\n",
       "    <tr>\n",
       "      <th>14</th>\n",
       "      <td>100007</td>\n",
       "      <td>0</td>\n",
       "      <td>Cash loans</td>\n",
       "      <td>M</td>\n",
       "      <td>N</td>\n",
       "      <td>Y</td>\n",
       "      <td>0</td>\n",
       "      <td>121500.0</td>\n",
       "      <td>513000.0</td>\n",
       "      <td>21865.5</td>\n",
       "      <td>513000.0</td>\n",
       "      <td>Unaccompanied</td>\n",
       "      <td>Working</td>\n",
       "      <td>Secondary / secondary special</td>\n",
       "      <td>Single / not married</td>\n",
       "      <td>House / apartment</td>\n",
       "      <td>0.028663</td>\n",
       "      <td>19932</td>\n",
       "      <td>-3038</td>\n",
       "      <td>-4311.0</td>\n",
       "      <td>3458</td>\n",
       "      <td>0</td>\n",
       "      <td>Core staff</td>\n",
       "      <td>1.0</td>\n",
       "      <td>THURSDAY</td>\n",
       "      <td>11</td>\n",
       "      <td>0</td>\n",
       "      <td>0</td>\n",
       "      <td>0</td>\n",
       "      <td>0</td>\n",
       "      <td>1</td>\n",
       "      <td>1</td>\n",
       "      <td>Religion</td>\n",
       "      <td>0.0</td>\n",
       "      <td>0.0</td>\n",
       "      <td>0.0</td>\n",
       "      <td>0.0</td>\n",
       "      <td>0.000000</td>\n",
       "      <td>0.000000</td>\n",
       "      <td>0.000000</td>\n",
       "      <td>0.000000</td>\n",
       "      <td>0.000000</td>\n",
       "      <td>0.000000</td>\n",
       "      <td>500000-600000</td>\n",
       "      <td>100000-150000</td>\n",
       "      <td>2001242</td>\n",
       "      <td>Cash loans</td>\n",
       "      <td>16509.600</td>\n",
       "      <td>180000.00</td>\n",
       "      <td>180000.0</td>\n",
       "      <td>180000.00</td>\n",
       "      <td>SUNDAY</td>\n",
       "      <td>14</td>\n",
       "      <td>Y</td>\n",
       "      <td>1</td>\n",
       "      <td>XNA</td>\n",
       "      <td>Approved</td>\n",
       "      <td>-865</td>\n",
       "      <td>Cash through the bank</td>\n",
       "      <td>XAP</td>\n",
       "      <td>Unaccompanied</td>\n",
       "      <td>Repeater</td>\n",
       "      <td>XNA</td>\n",
       "      <td>Cash</td>\n",
       "      <td>walk-in</td>\n",
       "      <td>Regional / Local</td>\n",
       "      <td>1200</td>\n",
       "      <td>Consumer electronics</td>\n",
       "      <td>18.00</td>\n",
       "      <td>high</td>\n",
       "      <td>Cash Street: high</td>\n",
       "      <td>365243.0</td>\n",
       "      <td>-834.0</td>\n",
       "      <td>-324.0</td>\n",
       "      <td>-354.0</td>\n",
       "      <td>-347.0</td>\n",
       "      <td>0.0</td>\n",
       "    </tr>\n",
       "    <tr>\n",
       "      <th>15</th>\n",
       "      <td>100007</td>\n",
       "      <td>0</td>\n",
       "      <td>Cash loans</td>\n",
       "      <td>M</td>\n",
       "      <td>N</td>\n",
       "      <td>Y</td>\n",
       "      <td>0</td>\n",
       "      <td>121500.0</td>\n",
       "      <td>513000.0</td>\n",
       "      <td>21865.5</td>\n",
       "      <td>513000.0</td>\n",
       "      <td>Unaccompanied</td>\n",
       "      <td>Working</td>\n",
       "      <td>Secondary / secondary special</td>\n",
       "      <td>Single / not married</td>\n",
       "      <td>House / apartment</td>\n",
       "      <td>0.028663</td>\n",
       "      <td>19932</td>\n",
       "      <td>-3038</td>\n",
       "      <td>-4311.0</td>\n",
       "      <td>3458</td>\n",
       "      <td>0</td>\n",
       "      <td>Core staff</td>\n",
       "      <td>1.0</td>\n",
       "      <td>THURSDAY</td>\n",
       "      <td>11</td>\n",
       "      <td>0</td>\n",
       "      <td>0</td>\n",
       "      <td>0</td>\n",
       "      <td>0</td>\n",
       "      <td>1</td>\n",
       "      <td>1</td>\n",
       "      <td>Religion</td>\n",
       "      <td>0.0</td>\n",
       "      <td>0.0</td>\n",
       "      <td>0.0</td>\n",
       "      <td>0.0</td>\n",
       "      <td>0.000000</td>\n",
       "      <td>0.000000</td>\n",
       "      <td>0.000000</td>\n",
       "      <td>0.000000</td>\n",
       "      <td>0.000000</td>\n",
       "      <td>0.000000</td>\n",
       "      <td>500000-600000</td>\n",
       "      <td>100000-150000</td>\n",
       "      <td>2730157</td>\n",
       "      <td>Cash loans</td>\n",
       "      <td>13010.985</td>\n",
       "      <td>225000.00</td>\n",
       "      <td>284400.0</td>\n",
       "      <td>225000.00</td>\n",
       "      <td>FRIDAY</td>\n",
       "      <td>13</td>\n",
       "      <td>Y</td>\n",
       "      <td>1</td>\n",
       "      <td>XNA</td>\n",
       "      <td>Approved</td>\n",
       "      <td>-867</td>\n",
       "      <td>Cash through the bank</td>\n",
       "      <td>XAP</td>\n",
       "      <td>Family</td>\n",
       "      <td>Repeater</td>\n",
       "      <td>XNA</td>\n",
       "      <td>Cash</td>\n",
       "      <td>x-sell</td>\n",
       "      <td>AP+ (Cash loan)</td>\n",
       "      <td>4</td>\n",
       "      <td>XNA</td>\n",
       "      <td>48.00</td>\n",
       "      <td>middle</td>\n",
       "      <td>Cash X-Sell: middle</td>\n",
       "      <td>365243.0</td>\n",
       "      <td>-831.0</td>\n",
       "      <td>-361.0</td>\n",
       "      <td>-537.0</td>\n",
       "      <td>-499.0</td>\n",
       "      <td>0.0</td>\n",
       "    </tr>\n",
       "    <tr>\n",
       "      <th>16</th>\n",
       "      <td>100007</td>\n",
       "      <td>0</td>\n",
       "      <td>Cash loans</td>\n",
       "      <td>M</td>\n",
       "      <td>N</td>\n",
       "      <td>Y</td>\n",
       "      <td>0</td>\n",
       "      <td>121500.0</td>\n",
       "      <td>513000.0</td>\n",
       "      <td>21865.5</td>\n",
       "      <td>513000.0</td>\n",
       "      <td>Unaccompanied</td>\n",
       "      <td>Working</td>\n",
       "      <td>Secondary / secondary special</td>\n",
       "      <td>Single / not married</td>\n",
       "      <td>House / apartment</td>\n",
       "      <td>0.028663</td>\n",
       "      <td>19932</td>\n",
       "      <td>-3038</td>\n",
       "      <td>-4311.0</td>\n",
       "      <td>3458</td>\n",
       "      <td>0</td>\n",
       "      <td>Core staff</td>\n",
       "      <td>1.0</td>\n",
       "      <td>THURSDAY</td>\n",
       "      <td>11</td>\n",
       "      <td>0</td>\n",
       "      <td>0</td>\n",
       "      <td>0</td>\n",
       "      <td>0</td>\n",
       "      <td>1</td>\n",
       "      <td>1</td>\n",
       "      <td>Religion</td>\n",
       "      <td>0.0</td>\n",
       "      <td>0.0</td>\n",
       "      <td>0.0</td>\n",
       "      <td>0.0</td>\n",
       "      <td>0.000000</td>\n",
       "      <td>0.000000</td>\n",
       "      <td>0.000000</td>\n",
       "      <td>0.000000</td>\n",
       "      <td>0.000000</td>\n",
       "      <td>0.000000</td>\n",
       "      <td>500000-600000</td>\n",
       "      <td>100000-150000</td>\n",
       "      <td>1692033</td>\n",
       "      <td>Cash loans</td>\n",
       "      <td>16037.640</td>\n",
       "      <td>247500.00</td>\n",
       "      <td>274288.5</td>\n",
       "      <td>247500.00</td>\n",
       "      <td>MONDAY</td>\n",
       "      <td>11</td>\n",
       "      <td>Y</td>\n",
       "      <td>1</td>\n",
       "      <td>XNA</td>\n",
       "      <td>Approved</td>\n",
       "      <td>-374</td>\n",
       "      <td>Cash through the bank</td>\n",
       "      <td>XAP</td>\n",
       "      <td>Missing</td>\n",
       "      <td>Repeater</td>\n",
       "      <td>XNA</td>\n",
       "      <td>Cash</td>\n",
       "      <td>x-sell</td>\n",
       "      <td>Credit and cash offices</td>\n",
       "      <td>-1</td>\n",
       "      <td>XNA</td>\n",
       "      <td>24.00</td>\n",
       "      <td>middle</td>\n",
       "      <td>Cash X-Sell: middle</td>\n",
       "      <td>365243.0</td>\n",
       "      <td>-344.0</td>\n",
       "      <td>346.0</td>\n",
       "      <td>365243.0</td>\n",
       "      <td>365243.0</td>\n",
       "      <td>1.0</td>\n",
       "    </tr>\n",
       "    <tr>\n",
       "      <th>17</th>\n",
       "      <td>100007</td>\n",
       "      <td>0</td>\n",
       "      <td>Cash loans</td>\n",
       "      <td>M</td>\n",
       "      <td>N</td>\n",
       "      <td>Y</td>\n",
       "      <td>0</td>\n",
       "      <td>121500.0</td>\n",
       "      <td>513000.0</td>\n",
       "      <td>21865.5</td>\n",
       "      <td>513000.0</td>\n",
       "      <td>Unaccompanied</td>\n",
       "      <td>Working</td>\n",
       "      <td>Secondary / secondary special</td>\n",
       "      <td>Single / not married</td>\n",
       "      <td>House / apartment</td>\n",
       "      <td>0.028663</td>\n",
       "      <td>19932</td>\n",
       "      <td>-3038</td>\n",
       "      <td>-4311.0</td>\n",
       "      <td>3458</td>\n",
       "      <td>0</td>\n",
       "      <td>Core staff</td>\n",
       "      <td>1.0</td>\n",
       "      <td>THURSDAY</td>\n",
       "      <td>11</td>\n",
       "      <td>0</td>\n",
       "      <td>0</td>\n",
       "      <td>0</td>\n",
       "      <td>0</td>\n",
       "      <td>1</td>\n",
       "      <td>1</td>\n",
       "      <td>Religion</td>\n",
       "      <td>0.0</td>\n",
       "      <td>0.0</td>\n",
       "      <td>0.0</td>\n",
       "      <td>0.0</td>\n",
       "      <td>0.000000</td>\n",
       "      <td>0.000000</td>\n",
       "      <td>0.000000</td>\n",
       "      <td>0.000000</td>\n",
       "      <td>0.000000</td>\n",
       "      <td>0.000000</td>\n",
       "      <td>500000-600000</td>\n",
       "      <td>100000-150000</td>\n",
       "      <td>2119973</td>\n",
       "      <td>Consumer loans</td>\n",
       "      <td>1834.290</td>\n",
       "      <td>17176.50</td>\n",
       "      <td>14616.0</td>\n",
       "      <td>17176.50</td>\n",
       "      <td>SATURDAY</td>\n",
       "      <td>13</td>\n",
       "      <td>Y</td>\n",
       "      <td>1</td>\n",
       "      <td>XAP</td>\n",
       "      <td>Approved</td>\n",
       "      <td>-2357</td>\n",
       "      <td>Cash through the bank</td>\n",
       "      <td>XAP</td>\n",
       "      <td>Family</td>\n",
       "      <td>New</td>\n",
       "      <td>Audio/Video</td>\n",
       "      <td>POS</td>\n",
       "      <td>XNA</td>\n",
       "      <td>Country-wide</td>\n",
       "      <td>1200</td>\n",
       "      <td>Consumer electronics</td>\n",
       "      <td>10.00</td>\n",
       "      <td>high</td>\n",
       "      <td>POS household with interest</td>\n",
       "      <td>365243.0</td>\n",
       "      <td>-2326.0</td>\n",
       "      <td>-2056.0</td>\n",
       "      <td>-2056.0</td>\n",
       "      <td>-2041.0</td>\n",
       "      <td>1.0</td>\n",
       "    </tr>\n",
       "    <tr>\n",
       "      <th>18</th>\n",
       "      <td>100007</td>\n",
       "      <td>0</td>\n",
       "      <td>Cash loans</td>\n",
       "      <td>M</td>\n",
       "      <td>N</td>\n",
       "      <td>Y</td>\n",
       "      <td>0</td>\n",
       "      <td>121500.0</td>\n",
       "      <td>513000.0</td>\n",
       "      <td>21865.5</td>\n",
       "      <td>513000.0</td>\n",
       "      <td>Unaccompanied</td>\n",
       "      <td>Working</td>\n",
       "      <td>Secondary / secondary special</td>\n",
       "      <td>Single / not married</td>\n",
       "      <td>House / apartment</td>\n",
       "      <td>0.028663</td>\n",
       "      <td>19932</td>\n",
       "      <td>-3038</td>\n",
       "      <td>-4311.0</td>\n",
       "      <td>3458</td>\n",
       "      <td>0</td>\n",
       "      <td>Core staff</td>\n",
       "      <td>1.0</td>\n",
       "      <td>THURSDAY</td>\n",
       "      <td>11</td>\n",
       "      <td>0</td>\n",
       "      <td>0</td>\n",
       "      <td>0</td>\n",
       "      <td>0</td>\n",
       "      <td>1</td>\n",
       "      <td>1</td>\n",
       "      <td>Religion</td>\n",
       "      <td>0.0</td>\n",
       "      <td>0.0</td>\n",
       "      <td>0.0</td>\n",
       "      <td>0.0</td>\n",
       "      <td>0.000000</td>\n",
       "      <td>0.000000</td>\n",
       "      <td>0.000000</td>\n",
       "      <td>0.000000</td>\n",
       "      <td>0.000000</td>\n",
       "      <td>0.000000</td>\n",
       "      <td>500000-600000</td>\n",
       "      <td>100000-150000</td>\n",
       "      <td>2462742</td>\n",
       "      <td>Consumer loans</td>\n",
       "      <td>3601.530</td>\n",
       "      <td>31005.00</td>\n",
       "      <td>30663.0</td>\n",
       "      <td>31005.00</td>\n",
       "      <td>SUNDAY</td>\n",
       "      <td>15</td>\n",
       "      <td>Y</td>\n",
       "      <td>1</td>\n",
       "      <td>XAP</td>\n",
       "      <td>Approved</td>\n",
       "      <td>-1768</td>\n",
       "      <td>Cash through the bank</td>\n",
       "      <td>XAP</td>\n",
       "      <td>Unaccompanied</td>\n",
       "      <td>Repeater</td>\n",
       "      <td>Audio/Video</td>\n",
       "      <td>POS</td>\n",
       "      <td>XNA</td>\n",
       "      <td>Country-wide</td>\n",
       "      <td>53</td>\n",
       "      <td>Connectivity</td>\n",
       "      <td>12.00</td>\n",
       "      <td>high</td>\n",
       "      <td>POS mobile with interest</td>\n",
       "      <td>365243.0</td>\n",
       "      <td>-1736.0</td>\n",
       "      <td>-1406.0</td>\n",
       "      <td>-1406.0</td>\n",
       "      <td>-1397.0</td>\n",
       "      <td>0.0</td>\n",
       "    </tr>\n",
       "    <tr>\n",
       "      <th>19</th>\n",
       "      <td>100007</td>\n",
       "      <td>0</td>\n",
       "      <td>Cash loans</td>\n",
       "      <td>M</td>\n",
       "      <td>N</td>\n",
       "      <td>Y</td>\n",
       "      <td>0</td>\n",
       "      <td>121500.0</td>\n",
       "      <td>513000.0</td>\n",
       "      <td>21865.5</td>\n",
       "      <td>513000.0</td>\n",
       "      <td>Unaccompanied</td>\n",
       "      <td>Working</td>\n",
       "      <td>Secondary / secondary special</td>\n",
       "      <td>Single / not married</td>\n",
       "      <td>House / apartment</td>\n",
       "      <td>0.028663</td>\n",
       "      <td>19932</td>\n",
       "      <td>-3038</td>\n",
       "      <td>-4311.0</td>\n",
       "      <td>3458</td>\n",
       "      <td>0</td>\n",
       "      <td>Core staff</td>\n",
       "      <td>1.0</td>\n",
       "      <td>THURSDAY</td>\n",
       "      <td>11</td>\n",
       "      <td>0</td>\n",
       "      <td>0</td>\n",
       "      <td>0</td>\n",
       "      <td>0</td>\n",
       "      <td>1</td>\n",
       "      <td>1</td>\n",
       "      <td>Religion</td>\n",
       "      <td>0.0</td>\n",
       "      <td>0.0</td>\n",
       "      <td>0.0</td>\n",
       "      <td>0.0</td>\n",
       "      <td>0.000000</td>\n",
       "      <td>0.000000</td>\n",
       "      <td>0.000000</td>\n",
       "      <td>0.000000</td>\n",
       "      <td>0.000000</td>\n",
       "      <td>0.000000</td>\n",
       "      <td>500000-600000</td>\n",
       "      <td>100000-150000</td>\n",
       "      <td>1940724</td>\n",
       "      <td>Cash loans</td>\n",
       "      <td>22678.785</td>\n",
       "      <td>202500.00</td>\n",
       "      <td>215865.0</td>\n",
       "      <td>202500.00</td>\n",
       "      <td>THURSDAY</td>\n",
       "      <td>8</td>\n",
       "      <td>Y</td>\n",
       "      <td>1</td>\n",
       "      <td>XNA</td>\n",
       "      <td>Approved</td>\n",
       "      <td>-1106</td>\n",
       "      <td>XNA</td>\n",
       "      <td>XAP</td>\n",
       "      <td>Missing</td>\n",
       "      <td>Repeater</td>\n",
       "      <td>XNA</td>\n",
       "      <td>Cash</td>\n",
       "      <td>x-sell</td>\n",
       "      <td>Country-wide</td>\n",
       "      <td>-1</td>\n",
       "      <td>Consumer electronics</td>\n",
       "      <td>12.00</td>\n",
       "      <td>middle</td>\n",
       "      <td>Cash X-Sell: middle</td>\n",
       "      <td>365243.0</td>\n",
       "      <td>-1076.0</td>\n",
       "      <td>-746.0</td>\n",
       "      <td>-746.0</td>\n",
       "      <td>-739.0</td>\n",
       "      <td>1.0</td>\n",
       "    </tr>\n",
       "  </tbody>\n",
       "</table>\n",
       "</div>"
      ],
      "text/plain": [
       "    SK_ID_CURR  TARGET NAME_CONTRACT_TYPE_x CODE_GENDER FLAG_OWN_CAR  \\\n",
       "0       100002       1           Cash loans           M            N   \n",
       "1       100003       0           Cash loans           F            N   \n",
       "2       100003       0           Cash loans           F            N   \n",
       "3       100003       0           Cash loans           F            N   \n",
       "4       100004       0      Revolving loans           M            Y   \n",
       "5       100006       0           Cash loans           F            N   \n",
       "6       100006       0           Cash loans           F            N   \n",
       "7       100006       0           Cash loans           F            N   \n",
       "8       100006       0           Cash loans           F            N   \n",
       "9       100006       0           Cash loans           F            N   \n",
       "10      100006       0           Cash loans           F            N   \n",
       "11      100006       0           Cash loans           F            N   \n",
       "12      100006       0           Cash loans           F            N   \n",
       "13      100006       0           Cash loans           F            N   \n",
       "14      100007       0           Cash loans           M            N   \n",
       "15      100007       0           Cash loans           M            N   \n",
       "16      100007       0           Cash loans           M            N   \n",
       "17      100007       0           Cash loans           M            N   \n",
       "18      100007       0           Cash loans           M            N   \n",
       "19      100007       0           Cash loans           M            N   \n",
       "\n",
       "   FLAG_OWN_REALTY  CNT_CHILDREN  AMT_INCOME_TOTAL  AMT_CREDIT_x  \\\n",
       "0                Y             0          202500.0      406597.5   \n",
       "1                N             0          270000.0     1293502.5   \n",
       "2                N             0          270000.0     1293502.5   \n",
       "3                N             0          270000.0     1293502.5   \n",
       "4                Y             0           67500.0      135000.0   \n",
       "5                Y             0          135000.0      312682.5   \n",
       "6                Y             0          135000.0      312682.5   \n",
       "7                Y             0          135000.0      312682.5   \n",
       "8                Y             0          135000.0      312682.5   \n",
       "9                Y             0          135000.0      312682.5   \n",
       "10               Y             0          135000.0      312682.5   \n",
       "11               Y             0          135000.0      312682.5   \n",
       "12               Y             0          135000.0      312682.5   \n",
       "13               Y             0          135000.0      312682.5   \n",
       "14               Y             0          121500.0      513000.0   \n",
       "15               Y             0          121500.0      513000.0   \n",
       "16               Y             0          121500.0      513000.0   \n",
       "17               Y             0          121500.0      513000.0   \n",
       "18               Y             0          121500.0      513000.0   \n",
       "19               Y             0          121500.0      513000.0   \n",
       "\n",
       "    AMT_ANNUITY_x  AMT_GOODS_PRICE_x NAME_TYPE_SUITE_x NAME_INCOME_TYPE  \\\n",
       "0         24700.5           351000.0     Unaccompanied          Working   \n",
       "1         35698.5          1129500.0            Family    State servant   \n",
       "2         35698.5          1129500.0            Family    State servant   \n",
       "3         35698.5          1129500.0            Family    State servant   \n",
       "4          6750.0           135000.0     Unaccompanied          Working   \n",
       "5         29686.5           297000.0     Unaccompanied          Working   \n",
       "6         29686.5           297000.0     Unaccompanied          Working   \n",
       "7         29686.5           297000.0     Unaccompanied          Working   \n",
       "8         29686.5           297000.0     Unaccompanied          Working   \n",
       "9         29686.5           297000.0     Unaccompanied          Working   \n",
       "10        29686.5           297000.0     Unaccompanied          Working   \n",
       "11        29686.5           297000.0     Unaccompanied          Working   \n",
       "12        29686.5           297000.0     Unaccompanied          Working   \n",
       "13        29686.5           297000.0     Unaccompanied          Working   \n",
       "14        21865.5           513000.0     Unaccompanied          Working   \n",
       "15        21865.5           513000.0     Unaccompanied          Working   \n",
       "16        21865.5           513000.0     Unaccompanied          Working   \n",
       "17        21865.5           513000.0     Unaccompanied          Working   \n",
       "18        21865.5           513000.0     Unaccompanied          Working   \n",
       "19        21865.5           513000.0     Unaccompanied          Working   \n",
       "\n",
       "              NAME_EDUCATION_TYPE    NAME_FAMILY_STATUS  NAME_HOUSING_TYPE  \\\n",
       "0   Secondary / secondary special  Single / not married  House / apartment   \n",
       "1                Higher education               Married  House / apartment   \n",
       "2                Higher education               Married  House / apartment   \n",
       "3                Higher education               Married  House / apartment   \n",
       "4   Secondary / secondary special  Single / not married  House / apartment   \n",
       "5   Secondary / secondary special        Civil marriage  House / apartment   \n",
       "6   Secondary / secondary special        Civil marriage  House / apartment   \n",
       "7   Secondary / secondary special        Civil marriage  House / apartment   \n",
       "8   Secondary / secondary special        Civil marriage  House / apartment   \n",
       "9   Secondary / secondary special        Civil marriage  House / apartment   \n",
       "10  Secondary / secondary special        Civil marriage  House / apartment   \n",
       "11  Secondary / secondary special        Civil marriage  House / apartment   \n",
       "12  Secondary / secondary special        Civil marriage  House / apartment   \n",
       "13  Secondary / secondary special        Civil marriage  House / apartment   \n",
       "14  Secondary / secondary special  Single / not married  House / apartment   \n",
       "15  Secondary / secondary special  Single / not married  House / apartment   \n",
       "16  Secondary / secondary special  Single / not married  House / apartment   \n",
       "17  Secondary / secondary special  Single / not married  House / apartment   \n",
       "18  Secondary / secondary special  Single / not married  House / apartment   \n",
       "19  Secondary / secondary special  Single / not married  House / apartment   \n",
       "\n",
       "    REGION_POPULATION_RELATIVE  DAYS_BIRTH  DAYS_EMPLOYED  DAYS_REGISTRATION  \\\n",
       "0                     0.018801        9461           -637            -3648.0   \n",
       "1                     0.003541       16765          -1188            -1186.0   \n",
       "2                     0.003541       16765          -1188            -1186.0   \n",
       "3                     0.003541       16765          -1188            -1186.0   \n",
       "4                     0.010032       19046           -225            -4260.0   \n",
       "5                     0.008019       19005          -3039            -9833.0   \n",
       "6                     0.008019       19005          -3039            -9833.0   \n",
       "7                     0.008019       19005          -3039            -9833.0   \n",
       "8                     0.008019       19005          -3039            -9833.0   \n",
       "9                     0.008019       19005          -3039            -9833.0   \n",
       "10                    0.008019       19005          -3039            -9833.0   \n",
       "11                    0.008019       19005          -3039            -9833.0   \n",
       "12                    0.008019       19005          -3039            -9833.0   \n",
       "13                    0.008019       19005          -3039            -9833.0   \n",
       "14                    0.028663       19932          -3038            -4311.0   \n",
       "15                    0.028663       19932          -3038            -4311.0   \n",
       "16                    0.028663       19932          -3038            -4311.0   \n",
       "17                    0.028663       19932          -3038            -4311.0   \n",
       "18                    0.028663       19932          -3038            -4311.0   \n",
       "19                    0.028663       19932          -3038            -4311.0   \n",
       "\n",
       "    DAYS_ID_PUBLISH  FLAG_EMAIL OCCUPATION_TYPE  CNT_FAM_MEMBERS  \\\n",
       "0              2120           0        Laborers              1.0   \n",
       "1               291           0      Core staff              2.0   \n",
       "2               291           0      Core staff              2.0   \n",
       "3               291           0      Core staff              2.0   \n",
       "4              2531           0        Laborers              1.0   \n",
       "5              2437           0        Laborers              2.0   \n",
       "6              2437           0        Laborers              2.0   \n",
       "7              2437           0        Laborers              2.0   \n",
       "8              2437           0        Laborers              2.0   \n",
       "9              2437           0        Laborers              2.0   \n",
       "10             2437           0        Laborers              2.0   \n",
       "11             2437           0        Laborers              2.0   \n",
       "12             2437           0        Laborers              2.0   \n",
       "13             2437           0        Laborers              2.0   \n",
       "14             3458           0      Core staff              1.0   \n",
       "15             3458           0      Core staff              1.0   \n",
       "16             3458           0      Core staff              1.0   \n",
       "17             3458           0      Core staff              1.0   \n",
       "18             3458           0      Core staff              1.0   \n",
       "19             3458           0      Core staff              1.0   \n",
       "\n",
       "   WEEKDAY_APPR_PROCESS_START_x  HOUR_APPR_PROCESS_START_x  \\\n",
       "0                     WEDNESDAY                         10   \n",
       "1                        MONDAY                         11   \n",
       "2                        MONDAY                         11   \n",
       "3                        MONDAY                         11   \n",
       "4                        MONDAY                          9   \n",
       "5                     WEDNESDAY                         17   \n",
       "6                     WEDNESDAY                         17   \n",
       "7                     WEDNESDAY                         17   \n",
       "8                     WEDNESDAY                         17   \n",
       "9                     WEDNESDAY                         17   \n",
       "10                    WEDNESDAY                         17   \n",
       "11                    WEDNESDAY                         17   \n",
       "12                    WEDNESDAY                         17   \n",
       "13                    WEDNESDAY                         17   \n",
       "14                     THURSDAY                         11   \n",
       "15                     THURSDAY                         11   \n",
       "16                     THURSDAY                         11   \n",
       "17                     THURSDAY                         11   \n",
       "18                     THURSDAY                         11   \n",
       "19                     THURSDAY                         11   \n",
       "\n",
       "    REG_REGION_NOT_LIVE_REGION  REG_REGION_NOT_WORK_REGION  \\\n",
       "0                            0                           0   \n",
       "1                            0                           0   \n",
       "2                            0                           0   \n",
       "3                            0                           0   \n",
       "4                            0                           0   \n",
       "5                            0                           0   \n",
       "6                            0                           0   \n",
       "7                            0                           0   \n",
       "8                            0                           0   \n",
       "9                            0                           0   \n",
       "10                           0                           0   \n",
       "11                           0                           0   \n",
       "12                           0                           0   \n",
       "13                           0                           0   \n",
       "14                           0                           0   \n",
       "15                           0                           0   \n",
       "16                           0                           0   \n",
       "17                           0                           0   \n",
       "18                           0                           0   \n",
       "19                           0                           0   \n",
       "\n",
       "    LIVE_REGION_NOT_WORK_REGION  REG_CITY_NOT_LIVE_CITY  \\\n",
       "0                             0                       0   \n",
       "1                             0                       0   \n",
       "2                             0                       0   \n",
       "3                             0                       0   \n",
       "4                             0                       0   \n",
       "5                             0                       0   \n",
       "6                             0                       0   \n",
       "7                             0                       0   \n",
       "8                             0                       0   \n",
       "9                             0                       0   \n",
       "10                            0                       0   \n",
       "11                            0                       0   \n",
       "12                            0                       0   \n",
       "13                            0                       0   \n",
       "14                            0                       0   \n",
       "15                            0                       0   \n",
       "16                            0                       0   \n",
       "17                            0                       0   \n",
       "18                            0                       0   \n",
       "19                            0                       0   \n",
       "\n",
       "    REG_CITY_NOT_WORK_CITY  LIVE_CITY_NOT_WORK_CITY       ORGANIZATION_TYPE  \\\n",
       "0                        0                        0  Business Entity Type 3   \n",
       "1                        0                        0                  School   \n",
       "2                        0                        0                  School   \n",
       "3                        0                        0                  School   \n",
       "4                        0                        0              Government   \n",
       "5                        0                        0  Business Entity Type 3   \n",
       "6                        0                        0  Business Entity Type 3   \n",
       "7                        0                        0  Business Entity Type 3   \n",
       "8                        0                        0  Business Entity Type 3   \n",
       "9                        0                        0  Business Entity Type 3   \n",
       "10                       0                        0  Business Entity Type 3   \n",
       "11                       0                        0  Business Entity Type 3   \n",
       "12                       0                        0  Business Entity Type 3   \n",
       "13                       0                        0  Business Entity Type 3   \n",
       "14                       1                        1                Religion   \n",
       "15                       1                        1                Religion   \n",
       "16                       1                        1                Religion   \n",
       "17                       1                        1                Religion   \n",
       "18                       1                        1                Religion   \n",
       "19                       1                        1                Religion   \n",
       "\n",
       "    OBS_30_CNT_SOCIAL_CIRCLE  DEF_30_CNT_SOCIAL_CIRCLE  \\\n",
       "0                        2.0                       2.0   \n",
       "1                        1.0                       0.0   \n",
       "2                        1.0                       0.0   \n",
       "3                        1.0                       0.0   \n",
       "4                        0.0                       0.0   \n",
       "5                        2.0                       0.0   \n",
       "6                        2.0                       0.0   \n",
       "7                        2.0                       0.0   \n",
       "8                        2.0                       0.0   \n",
       "9                        2.0                       0.0   \n",
       "10                       2.0                       0.0   \n",
       "11                       2.0                       0.0   \n",
       "12                       2.0                       0.0   \n",
       "13                       2.0                       0.0   \n",
       "14                       0.0                       0.0   \n",
       "15                       0.0                       0.0   \n",
       "16                       0.0                       0.0   \n",
       "17                       0.0                       0.0   \n",
       "18                       0.0                       0.0   \n",
       "19                       0.0                       0.0   \n",
       "\n",
       "    OBS_60_CNT_SOCIAL_CIRCLE  DEF_60_CNT_SOCIAL_CIRCLE  \\\n",
       "0                        2.0                       2.0   \n",
       "1                        1.0                       0.0   \n",
       "2                        1.0                       0.0   \n",
       "3                        1.0                       0.0   \n",
       "4                        0.0                       0.0   \n",
       "5                        2.0                       0.0   \n",
       "6                        2.0                       0.0   \n",
       "7                        2.0                       0.0   \n",
       "8                        2.0                       0.0   \n",
       "9                        2.0                       0.0   \n",
       "10                       2.0                       0.0   \n",
       "11                       2.0                       0.0   \n",
       "12                       2.0                       0.0   \n",
       "13                       2.0                       0.0   \n",
       "14                       0.0                       0.0   \n",
       "15                       0.0                       0.0   \n",
       "16                       0.0                       0.0   \n",
       "17                       0.0                       0.0   \n",
       "18                       0.0                       0.0   \n",
       "19                       0.0                       0.0   \n",
       "\n",
       "    AMT_REQ_CREDIT_BUREAU_HOUR  AMT_REQ_CREDIT_BUREAU_DAY  \\\n",
       "0                     0.000000                   0.000000   \n",
       "1                     0.000000                   0.000000   \n",
       "2                     0.000000                   0.000000   \n",
       "3                     0.000000                   0.000000   \n",
       "4                     0.000000                   0.000000   \n",
       "5                     0.006438                   0.006947   \n",
       "6                     0.006438                   0.006947   \n",
       "7                     0.006438                   0.006947   \n",
       "8                     0.006438                   0.006947   \n",
       "9                     0.006438                   0.006947   \n",
       "10                    0.006438                   0.006947   \n",
       "11                    0.006438                   0.006947   \n",
       "12                    0.006438                   0.006947   \n",
       "13                    0.006438                   0.006947   \n",
       "14                    0.000000                   0.000000   \n",
       "15                    0.000000                   0.000000   \n",
       "16                    0.000000                   0.000000   \n",
       "17                    0.000000                   0.000000   \n",
       "18                    0.000000                   0.000000   \n",
       "19                    0.000000                   0.000000   \n",
       "\n",
       "    AMT_REQ_CREDIT_BUREAU_WEEK  AMT_REQ_CREDIT_BUREAU_MON  \\\n",
       "0                     0.000000                   0.000000   \n",
       "1                     0.000000                   0.000000   \n",
       "2                     0.000000                   0.000000   \n",
       "3                     0.000000                   0.000000   \n",
       "4                     0.000000                   0.000000   \n",
       "5                     0.033902                   0.279855   \n",
       "6                     0.033902                   0.279855   \n",
       "7                     0.033902                   0.279855   \n",
       "8                     0.033902                   0.279855   \n",
       "9                     0.033902                   0.279855   \n",
       "10                    0.033902                   0.279855   \n",
       "11                    0.033902                   0.279855   \n",
       "12                    0.033902                   0.279855   \n",
       "13                    0.033902                   0.279855   \n",
       "14                    0.000000                   0.000000   \n",
       "15                    0.000000                   0.000000   \n",
       "16                    0.000000                   0.000000   \n",
       "17                    0.000000                   0.000000   \n",
       "18                    0.000000                   0.000000   \n",
       "19                    0.000000                   0.000000   \n",
       "\n",
       "    AMT_REQ_CREDIT_BUREAU_QRT  AMT_REQ_CREDIT_BUREAU_YEAR CREDIT_AMOUNT_RANGE  \\\n",
       "0                    0.000000                    1.000000       400000-500000   \n",
       "1                    0.000000                    0.000000    900000 and above   \n",
       "2                    0.000000                    0.000000    900000 and above   \n",
       "3                    0.000000                    0.000000    900000 and above   \n",
       "4                    0.000000                    0.000000       100000-200000   \n",
       "5                    0.260213                    1.857857       300000-400000   \n",
       "6                    0.260213                    1.857857       300000-400000   \n",
       "7                    0.260213                    1.857857       300000-400000   \n",
       "8                    0.260213                    1.857857       300000-400000   \n",
       "9                    0.260213                    1.857857       300000-400000   \n",
       "10                   0.260213                    1.857857       300000-400000   \n",
       "11                   0.260213                    1.857857       300000-400000   \n",
       "12                   0.260213                    1.857857       300000-400000   \n",
       "13                   0.260213                    1.857857       300000-400000   \n",
       "14                   0.000000                    0.000000       500000-600000   \n",
       "15                   0.000000                    0.000000       500000-600000   \n",
       "16                   0.000000                    0.000000       500000-600000   \n",
       "17                   0.000000                    0.000000       500000-600000   \n",
       "18                   0.000000                    0.000000       500000-600000   \n",
       "19                   0.000000                    0.000000       500000-600000   \n",
       "\n",
       "     INCOME_RANGE  SK_ID_PREV NAME_CONTRACT_TYPE_y  AMT_ANNUITY_y  \\\n",
       "0   200000-250000     1038818       Consumer loans       9251.775   \n",
       "1   250000-300000     1810518           Cash loans      98356.995   \n",
       "2   250000-300000     2636178       Consumer loans      64567.665   \n",
       "3   250000-300000     2396755       Consumer loans       6737.310   \n",
       "4    50000-100000     1564014       Consumer loans       5357.250   \n",
       "5   100000-150000     2078043           Cash loans      24246.000   \n",
       "6   100000-150000     2827850      Revolving loans      11250.000   \n",
       "7   100000-150000     2190416       Consumer loans      29027.520   \n",
       "8   100000-150000     1489396      Revolving loans      13500.000   \n",
       "9   100000-150000     1020698           Cash loans      39954.510   \n",
       "10  100000-150000     1243599           Cash loans      11250.000   \n",
       "11  100000-150000     2299329       Consumer loans       2482.920   \n",
       "12  100000-150000     2545789           Cash loans      11250.000   \n",
       "13  100000-150000     1697039           Cash loans      32696.100   \n",
       "14  100000-150000     2001242           Cash loans      16509.600   \n",
       "15  100000-150000     2730157           Cash loans      13010.985   \n",
       "16  100000-150000     1692033           Cash loans      16037.640   \n",
       "17  100000-150000     2119973       Consumer loans       1834.290   \n",
       "18  100000-150000     2462742       Consumer loans       3601.530   \n",
       "19  100000-150000     1940724           Cash loans      22678.785   \n",
       "\n",
       "    AMT_APPLICATION  AMT_CREDIT_y  AMT_GOODS_PRICE_y  \\\n",
       "0         179055.00      179055.0          179055.00   \n",
       "1         900000.00     1035882.0          900000.00   \n",
       "2         337500.00      348637.5          337500.00   \n",
       "3          68809.50       68053.5           68809.50   \n",
       "4          24282.00       20106.0           24282.00   \n",
       "5         675000.00      675000.0          675000.00   \n",
       "6              0.00           0.0          112320.00   \n",
       "7         334917.00      267930.0          334917.00   \n",
       "8         270000.00      270000.0          270000.00   \n",
       "9         454500.00      481495.5          454500.00   \n",
       "10             0.00           0.0          112320.00   \n",
       "11         26912.34       24219.0           26912.34   \n",
       "12             0.00           0.0          112320.00   \n",
       "13        688500.00      906615.0          688500.00   \n",
       "14        180000.00      180000.0          180000.00   \n",
       "15        225000.00      284400.0          225000.00   \n",
       "16        247500.00      274288.5          247500.00   \n",
       "17         17176.50       14616.0           17176.50   \n",
       "18         31005.00       30663.0           31005.00   \n",
       "19        202500.00      215865.0          202500.00   \n",
       "\n",
       "   WEEKDAY_APPR_PROCESS_START_y  HOUR_APPR_PROCESS_START_y  \\\n",
       "0                      SATURDAY                          9   \n",
       "1                        FRIDAY                         12   \n",
       "2                        SUNDAY                         17   \n",
       "3                      SATURDAY                         15   \n",
       "4                        FRIDAY                          5   \n",
       "5                      THURSDAY                         15   \n",
       "6                      THURSDAY                         15   \n",
       "7                        SUNDAY                         15   \n",
       "8                      THURSDAY                         15   \n",
       "9                      SATURDAY                         12   \n",
       "10                     THURSDAY                         15   \n",
       "11                      TUESDAY                         15   \n",
       "12                     THURSDAY                         15   \n",
       "13                     THURSDAY                         15   \n",
       "14                       SUNDAY                         14   \n",
       "15                       FRIDAY                         13   \n",
       "16                       MONDAY                         11   \n",
       "17                     SATURDAY                         13   \n",
       "18                       SUNDAY                         15   \n",
       "19                     THURSDAY                          8   \n",
       "\n",
       "   FLAG_LAST_APPL_PER_CONTRACT  NFLAG_LAST_APPL_IN_DAY NAME_CASH_LOAN_PURPOSE  \\\n",
       "0                            Y                       1                    XAP   \n",
       "1                            Y                       1                    XNA   \n",
       "2                            Y                       1                    XAP   \n",
       "3                            Y                       1                    XAP   \n",
       "4                            Y                       1                    XAP   \n",
       "5                            Y                       1                    XNA   \n",
       "6                            Y                       1                    XAP   \n",
       "7                            Y                       1                    XAP   \n",
       "8                            Y                       1                    XAP   \n",
       "9                            Y                       1                    XNA   \n",
       "10                           Y                       1                    XNA   \n",
       "11                           Y                       1                    XAP   \n",
       "12                           Y                       1                    XNA   \n",
       "13                           Y                       1                    XNA   \n",
       "14                           Y                       1                    XNA   \n",
       "15                           Y                       1                    XNA   \n",
       "16                           Y                       1                    XNA   \n",
       "17                           Y                       1                    XAP   \n",
       "18                           Y                       1                    XAP   \n",
       "19                           Y                       1                    XNA   \n",
       "\n",
       "   NAME_CONTRACT_STATUS  DAYS_DECISION      NAME_PAYMENT_TYPE  \\\n",
       "0              Approved           -606                    XNA   \n",
       "1              Approved           -746                    XNA   \n",
       "2              Approved           -828  Cash through the bank   \n",
       "3              Approved          -2341  Cash through the bank   \n",
       "4              Approved           -815  Cash through the bank   \n",
       "5              Approved           -181  Cash through the bank   \n",
       "6              Canceled           -181                    XNA   \n",
       "7              Approved           -311  Cash through the bank   \n",
       "8              Approved           -181                    XNA   \n",
       "9              Approved           -438  Cash through the bank   \n",
       "10             Canceled           -181                    XNA   \n",
       "11             Approved           -617                    XNA   \n",
       "12             Canceled           -181                    XNA   \n",
       "13              Refused           -181  Cash through the bank   \n",
       "14             Approved           -865  Cash through the bank   \n",
       "15             Approved           -867  Cash through the bank   \n",
       "16             Approved           -374  Cash through the bank   \n",
       "17             Approved          -2357  Cash through the bank   \n",
       "18             Approved          -1768  Cash through the bank   \n",
       "19             Approved          -1106                    XNA   \n",
       "\n",
       "   CODE_REJECT_REASON NAME_TYPE_SUITE_y NAME_CLIENT_TYPE  \\\n",
       "0                 XAP           Missing              New   \n",
       "1                 XAP     Unaccompanied         Repeater   \n",
       "2                 XAP            Family        Refreshed   \n",
       "3                 XAP            Family        Refreshed   \n",
       "4                 XAP     Unaccompanied              New   \n",
       "5                 XAP     Unaccompanied         Repeater   \n",
       "6                 XAP           Missing         Repeater   \n",
       "7                 XAP            Family         Repeater   \n",
       "8                 XAP     Unaccompanied         Repeater   \n",
       "9                 XAP           Missing         Repeater   \n",
       "10                XAP           Missing         Repeater   \n",
       "11                XAP           Missing              New   \n",
       "12                XAP           Missing         Repeater   \n",
       "13              LIMIT     Unaccompanied         Repeater   \n",
       "14                XAP     Unaccompanied         Repeater   \n",
       "15                XAP            Family         Repeater   \n",
       "16                XAP           Missing         Repeater   \n",
       "17                XAP            Family              New   \n",
       "18                XAP     Unaccompanied         Repeater   \n",
       "19                XAP           Missing         Repeater   \n",
       "\n",
       "       NAME_GOODS_CATEGORY NAME_PORTFOLIO NAME_PRODUCT_TYPE  \\\n",
       "0                 Vehicles            POS               XNA   \n",
       "1                      XNA           Cash            x-sell   \n",
       "2                Furniture            POS               XNA   \n",
       "3     Consumer Electronics            POS               XNA   \n",
       "4                   Mobile            POS               XNA   \n",
       "5                      XNA           Cash            x-sell   \n",
       "6                      XNA            XNA               XNA   \n",
       "7              Audio/Video            POS               XNA   \n",
       "8                      XNA          Cards            x-sell   \n",
       "9                      XNA           Cash            x-sell   \n",
       "10                     XNA            XNA               XNA   \n",
       "11  Construction Materials            POS               XNA   \n",
       "12                     XNA            XNA               XNA   \n",
       "13                     XNA           Cash            x-sell   \n",
       "14                     XNA           Cash           walk-in   \n",
       "15                     XNA           Cash            x-sell   \n",
       "16                     XNA           Cash            x-sell   \n",
       "17             Audio/Video            POS               XNA   \n",
       "18             Audio/Video            POS               XNA   \n",
       "19                     XNA           Cash            x-sell   \n",
       "\n",
       "               CHANNEL_TYPE  SELLERPLACE_AREA  NAME_SELLER_INDUSTRY  \\\n",
       "0                     Stone               500       Auto technology   \n",
       "1   Credit and cash offices                -1                   XNA   \n",
       "2                     Stone              1400             Furniture   \n",
       "3              Country-wide               200  Consumer electronics   \n",
       "4          Regional / Local                30          Connectivity   \n",
       "5   Credit and cash offices                -1                   XNA   \n",
       "6   Credit and cash offices                -1                   XNA   \n",
       "7              Country-wide              8025  Consumer electronics   \n",
       "8   Credit and cash offices                -1                   XNA   \n",
       "9   Credit and cash offices                -1                   XNA   \n",
       "10  Credit and cash offices                -1                   XNA   \n",
       "11                    Stone                30          Construction   \n",
       "12  Credit and cash offices                -1                   XNA   \n",
       "13  Credit and cash offices                -1                   XNA   \n",
       "14         Regional / Local              1200  Consumer electronics   \n",
       "15          AP+ (Cash loan)                 4                   XNA   \n",
       "16  Credit and cash offices                -1                   XNA   \n",
       "17             Country-wide              1200  Consumer electronics   \n",
       "18             Country-wide                53          Connectivity   \n",
       "19             Country-wide                -1  Consumer electronics   \n",
       "\n",
       "    CNT_PAYMENT NAME_YIELD_GROUP          PRODUCT_COMBINATION  \\\n",
       "0         24.00       low_normal      POS other with interest   \n",
       "1         12.00       low_normal             Cash X-Sell: low   \n",
       "2          6.00           middle   POS industry with interest   \n",
       "3         12.00           middle  POS household with interest   \n",
       "4          4.00           middle  POS mobile without interest   \n",
       "5         48.00       low_normal             Cash X-Sell: low   \n",
       "6         16.05              XNA                  Card Street   \n",
       "7         12.00             high  POS household with interest   \n",
       "8          0.00              XNA                  Card X-Sell   \n",
       "9         18.00             high            Cash X-Sell: high   \n",
       "10        16.05              XNA                         Cash   \n",
       "11        12.00           middle   POS industry with interest   \n",
       "12        16.05              XNA                         Cash   \n",
       "13        48.00       low_normal             Cash X-Sell: low   \n",
       "14        18.00             high            Cash Street: high   \n",
       "15        48.00           middle          Cash X-Sell: middle   \n",
       "16        24.00           middle          Cash X-Sell: middle   \n",
       "17        10.00             high  POS household with interest   \n",
       "18        12.00             high     POS mobile with interest   \n",
       "19        12.00           middle          Cash X-Sell: middle   \n",
       "\n",
       "    DAYS_FIRST_DRAWING  DAYS_FIRST_DUE  DAYS_LAST_DUE_1ST_VERSION  \\\n",
       "0             365243.0          -565.0                      125.0   \n",
       "1             365243.0          -716.0                     -386.0   \n",
       "2             365243.0          -797.0                     -647.0   \n",
       "3             365243.0         -2310.0                    -1980.0   \n",
       "4             365243.0          -784.0                     -694.0   \n",
       "5             365243.0          -151.0                     1259.0   \n",
       "6             365243.0          -831.0                     -361.0   \n",
       "7             365243.0          -281.0                       49.0   \n",
       "8             365243.0        365243.0                   365243.0   \n",
       "9             365243.0          -831.0                     -361.0   \n",
       "10            365243.0          -831.0                     -361.0   \n",
       "11            365243.0          -545.0                     -215.0   \n",
       "12            365243.0          -831.0                     -361.0   \n",
       "13            365243.0          -831.0                     -361.0   \n",
       "14            365243.0          -834.0                     -324.0   \n",
       "15            365243.0          -831.0                     -361.0   \n",
       "16            365243.0          -344.0                      346.0   \n",
       "17            365243.0         -2326.0                    -2056.0   \n",
       "18            365243.0         -1736.0                    -1406.0   \n",
       "19            365243.0         -1076.0                     -746.0   \n",
       "\n",
       "    DAYS_LAST_DUE  DAYS_TERMINATION  NFLAG_INSURED_ON_APPROVAL  \n",
       "0           -25.0             -17.0                        0.0  \n",
       "1          -536.0            -527.0                        1.0  \n",
       "2          -647.0            -639.0                        0.0  \n",
       "3         -1980.0           -1976.0                        1.0  \n",
       "4          -724.0            -714.0                        0.0  \n",
       "5          -151.0            -143.0                        0.0  \n",
       "6          -537.0            -499.0                        0.0  \n",
       "7        365243.0          365243.0                        0.0  \n",
       "8        365243.0          365243.0                        0.0  \n",
       "9          -537.0            -499.0                        0.0  \n",
       "10         -537.0            -499.0                        0.0  \n",
       "11         -425.0            -416.0                        0.0  \n",
       "12         -537.0            -499.0                        0.0  \n",
       "13         -537.0            -499.0                        0.0  \n",
       "14         -354.0            -347.0                        0.0  \n",
       "15         -537.0            -499.0                        0.0  \n",
       "16       365243.0          365243.0                        1.0  \n",
       "17        -2056.0           -2041.0                        1.0  \n",
       "18        -1406.0           -1397.0                        0.0  \n",
       "19         -746.0            -739.0                        1.0  "
      ]
     },
     "execution_count": 413,
     "metadata": {},
     "output_type": "execute_result"
    }
   ],
   "source": [
    "merged_data.head(20)"
   ]
  },
  {
   "cell_type": "code",
   "execution_count": 416,
   "id": "488b9cbd",
   "metadata": {},
   "outputs": [
    {
     "data": {
      "image/png": "[encoded data removed]",
      "text/plain": [
       "<Figure size 504x504 with 1 Axes>"
      ]
     },
     "metadata": {},
     "output_type": "display_data"
    }
   ],
   "source": [
    "# Distribution of gender in the merged data\n",
    "\n",
    "plt.figure(figsize=(7,7))\n",
    "merged_data[\"CODE_GENDER\"].value_counts().plot.pie(autopct = \"%1.0f%%\",colors=[\"teal\",\"grey\"])\n",
    "plt.title(\"Gender Distribution\")\n",
    "plt.show()"
   ]
  },
  {
   "cell_type": "code",
   "execution_count": 417,
   "id": "1a5cf553",
   "metadata": {},
   "outputs": [],
   "source": [
    "# Interpretation\n",
    "\n",
    "# In the merged dataset,62% of the clients are female and 38% are male."
   ]
  },
  {
   "cell_type": "code",
   "execution_count": 418,
   "id": "b014f002",
   "metadata": {},
   "outputs": [
    {
     "data": {
      "image/png": "[encoded data removed]",
      "text/plain": [
       "<Figure size 504x504 with 1 Axes>"
      ]
     },
     "metadata": {},
     "output_type": "display_data"
    }
   ],
   "source": [
    "# Distribution of target in the merged data\n",
    "\n",
    "plt.figure(figsize=(7,7))\n",
    "merged_data[\"TARGET\"].value_counts().plot.pie(autopct = \"%1.0f%%\",colors=[\"teal\",\"grey\"])\n",
    "plt.title(\"Target Distribution\")\n",
    "plt.show()"
   ]
  },
  {
   "cell_type": "code",
   "execution_count": 419,
   "id": "62c07f7c",
   "metadata": {},
   "outputs": [],
   "source": [
    "# Interpretation\n",
    "\n",
    "# In the merged dataset, 9% of the total clients have difficulty in payment"
   ]
  },
  {
   "cell_type": "code",
   "execution_count": 424,
   "id": "7b961b06",
   "metadata": {},
   "outputs": [],
   "source": [
    "import warnings\n",
    "warnings.filterwarnings(\"ignore\")\n"
   ]
  },
  {
   "cell_type": "code",
   "execution_count": 501,
   "id": "8d289014",
   "metadata": {},
   "outputs": [
    {
     "data": {
      "image/png": "[encoded data removed]",
      "text/plain": [
       "<Figure size 576x288 with 1 Axes>"
      ]
     },
     "metadata": {},
     "output_type": "display_data"
    }
   ],
   "source": [
    "#Distribution of both Target among Gender\n",
    "\n",
    "plt.figure(figsize=(8,4))\n",
    "plt.title(\"Distribution of Gender among Targets\")\n",
    "sn.countplot(\"CODE_GENDER\",hue='TARGET',data=merged_data,palette=\"deep\")\n",
    "plt.xlabel(\"Gender\",weight=\"bold\")\n",
    "plt.ylabel(\"Numbers\",weight=\"bold\")\n",
    "plt.show()"
   ]
  },
  {
   "cell_type": "code",
   "execution_count": 427,
   "id": "12ea4a43",
   "metadata": {},
   "outputs": [],
   "source": [
    "# Interpretation\n",
    "\n",
    "# Major part of both male and female clients does not have difficulty in payments\n",
    "# Clients with payment difficulties are equally distributed among both genders"
   ]
  },
  {
   "cell_type": "code",
   "execution_count": 502,
   "id": "afa60363",
   "metadata": {},
   "outputs": [
    {
     "data": {
      "image/png": "[encoded data removed]",
      "text/plain": [
       "<Figure size 504x288 with 1 Axes>"
      ]
     },
     "metadata": {},
     "output_type": "display_data"
    }
   ],
   "source": [
    "# Distribution of different contract types among targets\n",
    "\n",
    "plt.figure(figsize=(7,4))\n",
    "plt.title(\"Distribution of Contract Type among Targets\")\n",
    "sn.countplot(\"NAME_CONTRACT_TYPE_x\",hue='TARGET',data=merged_data,palette=\"deep\")\n",
    "plt.xlabel(\"Contract Type\",weight=\"bold\")\n",
    "plt.ylabel(\"Numbers\",weight=\"bold\")\n",
    "plt.show()"
   ]
  },
  {
   "cell_type": "code",
   "execution_count": 438,
   "id": "a55ce263",
   "metadata": {},
   "outputs": [],
   "source": [
    "# Interpretation\n",
    "\n",
    "# Both target0 and target1 category clients are prefering cash loans than revolving loans"
   ]
  },
  {
   "cell_type": "code",
   "execution_count": 506,
   "id": "0859eede",
   "metadata": {},
   "outputs": [
    {
     "data": {
      "image/png": "[encoded data removed]",
      "text/plain": [
       "<Figure size 432x360 with 1 Axes>"
      ]
     },
     "metadata": {},
     "output_type": "display_data"
    }
   ],
   "source": [
    "# Distribution of number of children among targets\n",
    "\n",
    "plt.figure(figsize=(6,5))\n",
    "plt.title(\"Distribution of number of children among Targets\")\n",
    "sn.countplot(\"CNT_CHILDREN\",hue='TARGET',data=merged_data)\n",
    "plt.xlabel(\"Number of children\",weight=\"bold\")\n",
    "plt.ylabel(\"Numbers\",weight=\"bold\")\n",
    "plt.show()"
   ]
  },
  {
   "cell_type": "code",
   "execution_count": 444,
   "id": "64e976d0",
   "metadata": {},
   "outputs": [],
   "source": [
    "# Interpretation\n",
    "\n",
    "# Majority of both target0 and target1 clients does not have children"
   ]
  },
  {
   "cell_type": "code",
   "execution_count": 510,
   "id": "b1088de0",
   "metadata": {},
   "outputs": [
    {
     "data": {
      "image/png": "[encoded data removed]",
      "text/plain": [
       "<Figure size 864x360 with 1 Axes>"
      ]
     },
     "metadata": {},
     "output_type": "display_data"
    }
   ],
   "source": [
    "# Distribution of number of family members among targets\n",
    "\n",
    "plt.figure(figsize=(12,5))\n",
    "plt.title(\"Distribution of number of family members among Targets\")\n",
    "sn.countplot(\"CNT_FAM_MEMBERS\",hue='TARGET',data=merged_data,palette=\"deep\")\n",
    "plt.xlabel(\"Number of family members\",weight=\"bold\")\n",
    "plt.ylabel(\"Numbers\",weight=\"bold\")\n",
    "plt.show()"
   ]
  },
  {
   "cell_type": "code",
   "execution_count": 446,
   "id": "b0c2c0fc",
   "metadata": {},
   "outputs": [],
   "source": [
    "# Interpratation\n",
    "\n",
    "# In both targets, clients with 2 family members are more in numbers\n",
    "# Clients with more than 4 family members doesnot have difficulty in payment"
   ]
  },
  {
   "cell_type": "code",
   "execution_count": 457,
   "id": "606ac8fc",
   "metadata": {},
   "outputs": [
    {
     "data": {
      "image/png": "[encoded data removed]",
      "text/plain": [
       "<Figure size 1080x360 with 2 Axes>"
      ]
     },
     "metadata": {},
     "output_type": "display_data"
    }
   ],
   "source": [
    "# Distribution of clients owning a car among targets\n",
    "\n",
    "plt.figure(figsize=(15,5))\n",
    "plt.subplot(1,2,1)\n",
    "plt.title(\"Division among clients by ownership of car \")\n",
    "merged_data[\"FLAG_OWN_CAR\"].value_counts().plot.pie(autopct = \"%1.0f%%\",colors=[\"brown\",\"teal\"])\n",
    "\n",
    "\n",
    "plt.subplot(1,2,2)\n",
    "plt.title(\"Distribution of clients owning car among targets\")\n",
    "merged_data[merged_data[\"FLAG_OWN_CAR\"]==\"Y\"][\"TARGET\"].value_counts().plot.pie(autopct = \"%1.0f%%\",colors=[\"grey\",\"teal\"])\n",
    "plt.show()"
   ]
  },
  {
   "cell_type": "code",
   "execution_count": 456,
   "id": "ab66a4b2",
   "metadata": {},
   "outputs": [],
   "source": [
    "# Interpretation\n",
    "\n",
    "# 62% of the clients doesnot own a car\n",
    "# 38% of the clients own a car\n",
    "# 92% of the clients owning a car does not have difficulty in payment and 8% have difficulty in payment"
   ]
  },
  {
   "cell_type": "code",
   "execution_count": 459,
   "id": "29f5f860",
   "metadata": {},
   "outputs": [
    {
     "data": {
      "image/png": "[encoded data removed]",
      "text/plain": [
       "<Figure size 1080x360 with 2 Axes>"
      ]
     },
     "metadata": {},
     "output_type": "display_data"
    }
   ],
   "source": [
    "# Distribution of clients owning a flat or house among targets\n",
    "\n",
    "plt.figure(figsize=(15,5))\n",
    "plt.subplot(1,2,1)\n",
    "plt.title(\"Division among clients by ownership of flat/house \")\n",
    "merged_data[\"FLAG_OWN_REALTY\"].value_counts().plot.pie(autopct = \"%1.0f%%\",colors=[\"brown\",\"teal\"])\n",
    "\n",
    "\n",
    "plt.subplot(1,2,2)\n",
    "plt.title(\"Distribution of clients owning flat/house among targets\")\n",
    "merged_data[merged_data[\"FLAG_OWN_REALTY\"]==\"Y\"][\"TARGET\"].value_counts().plot.pie(autopct = \"%1.0f%%\",colors=[\"grey\",\"teal\"])\n",
    "plt.show()\n"
   ]
  },
  {
   "cell_type": "code",
   "execution_count": 460,
   "id": "c986092f",
   "metadata": {},
   "outputs": [],
   "source": [
    "# Interpretation\n",
    "\n",
    "# 71% of the clients own a flat/house and 29% do not.\n",
    "# 91% of the clients owning a flat/house does not have difficulty in payment and 9% have difficulty in payment"
   ]
  },
  {
   "cell_type": "code",
   "execution_count": 474,
   "id": "0b6234ae",
   "metadata": {},
   "outputs": [
    {
     "data": {
      "image/png": "[encoded data removed]",
      "text/plain": [
       "<Figure size 1440x432 with 2 Axes>"
      ]
     },
     "metadata": {
      "needs_background": "light"
     },
     "output_type": "display_data"
    }
   ],
   "source": [
    "# Distribution of client's income type\n",
    "\n",
    "plt.figure(figsize=(20,6))\n",
    "plt.subplot(1,2,1)\n",
    "plt.title(\"Client's Income type distribution\")\n",
    "sn.countplot(y=merged_data[\"NAME_INCOME_TYPE\"],palette=\"deep\",order=merged_data[\"NAME_INCOME_TYPE\"].value_counts().index)\n",
    "plt.xlabel(\"Numbers\")\n",
    "plt.ylabel(\"Income type\")\n",
    "\n",
    "\n",
    "plt.subplot(1,2,2)\n",
    "plt.title(\"Client's Income type distribution among Targets\")\n",
    "sn.countplot(y=merged_data[\"NAME_INCOME_TYPE\"],hue=merged_data[\"TARGET\"],palette=\"deep\",order=merged_data[\"NAME_INCOME_TYPE\"].value_counts().index)\n",
    "plt.xlabel(\"Numbers\")\n",
    "plt.ylabel(\"\")\n",
    "plt.show()"
   ]
  },
  {
   "cell_type": "code",
   "execution_count": 480,
   "id": "4a07cc34",
   "metadata": {},
   "outputs": [],
   "source": [
    "# Interpretation\n",
    "\n",
    "# Majority of the clients in both target types are working"
   ]
  },
  {
   "cell_type": "code",
   "execution_count": 478,
   "id": "87ebf168",
   "metadata": {},
   "outputs": [
    {
     "data": {
      "image/png": "[encoded data removed]",
      "text/plain": [
       "<Figure size 1440x648 with 2 Axes>"
      ]
     },
     "metadata": {
      "needs_background": "light"
     },
     "output_type": "display_data"
    }
   ],
   "source": [
    "# Distribution of Education Level of Clients in both Target types\n",
    "\n",
    "plt.figure(figsize=(20,9))\n",
    "plt.subplot(3,2,1)\n",
    "plt.title(\"Client's Education distribution\")\n",
    "sn.countplot(y=merged_data[\"NAME_EDUCATION_TYPE\"],palette=\"deep\",order=merged_data[\"NAME_EDUCATION_TYPE\"].value_counts().index)\n",
    "plt.xlabel(\"Numbers\")\n",
    "plt.ylabel(\"Education type\")\n",
    "\n",
    "\n",
    "plt.subplot(3,2,5)\n",
    "plt.title(\"Client's Income type distribution among Targets\")\n",
    "sn.countplot(y=merged_data[\"NAME_EDUCATION_TYPE\"],hue=merged_data[\"TARGET\"],palette=\"deep\",order=merged_data[\"NAME_EDUCATION_TYPE\"].value_counts().index)\n",
    "plt.xlabel(\"Numbers\")\n",
    "plt.ylabel(\"Education type\")\n",
    "plt.show()\n"
   ]
  },
  {
   "cell_type": "code",
   "execution_count": 479,
   "id": "298a18c7",
   "metadata": {},
   "outputs": [],
   "source": [
    "# Interpretation\n",
    "\n",
    "# Majority of the client's education level fall under secondary/secondary special category\n",
    "# Both defaulters and repayers are more in secondary/secondary special category\n",
    "# There are no clients with academic degree\n",
    "# All clients with lower secondary education are repayers"
   ]
  },
  {
   "cell_type": "code",
   "execution_count": 488,
   "id": "4f8490db",
   "metadata": {},
   "outputs": [
    {
     "data": {
      "image/png": "[encoded data removed]",
      "text/plain": [
       "<Figure size 864x864 with 2 Axes>"
      ]
     },
     "metadata": {},
     "output_type": "display_data"
    }
   ],
   "source": [
    "# Family Status of the clients\n",
    "\n",
    "plt.figure(figsize=(12,12))\n",
    "plt.subplot(1,2,1)\n",
    "plt.title(\"Distribution of Family Status of clients(Repayers)\")\n",
    "merged_data[merged_data[\"TARGET\"]==0][\"NAME_FAMILY_STATUS\"].value_counts().plot.pie(autopct = \"%1.0f%%\",colors=[\"brown\",\"teal\",\"green\",\"olive\",\"gold\"])\n",
    "\n",
    "plt.subplot(1,2,2)\n",
    "plt.title(\"Distribution of Family Status of clients(Defaulters)\")\n",
    "merged_data[merged_data[\"TARGET\"]==1][\"NAME_FAMILY_STATUS\"].value_counts().plot.pie(autopct = \"%1.0f%%\",colors=[\"brown\",\"teal\",\"green\",\"olive\",\"gold\"])\n",
    "plt.show()"
   ]
  },
  {
   "cell_type": "code",
   "execution_count": 489,
   "id": "3966183f",
   "metadata": {},
   "outputs": [],
   "source": [
    "# Interpretation\n",
    "\n",
    "# Majority of the clients are married in both defaulters and repayers\n",
    "# Every category of client's family status is almost equally distributed between defaulters and repayers"
   ]
  },
  {
   "cell_type": "code",
   "execution_count": 491,
   "id": "12dc816c",
   "metadata": {
    "scrolled": true
   },
   "outputs": [
    {
     "data": {
      "image/png": "[encoded data removed]",
      "text/plain": [
       "<Figure size 864x1728 with 1 Axes>"
      ]
     },
     "metadata": {
      "needs_background": "light"
     },
     "output_type": "display_data"
    }
   ],
   "source": [
    "# Distribution of purpose of loan\n",
    "\n",
    "plt.figure(figsize=(12,24))\n",
    "plt.xscale(\"log\")\n",
    "plt.title(\"Distributon of loan purpose among repayment status\")\n",
    "\n",
    "sn.countplot(data=merged_data, y=\"NAME_CASH_LOAN_PURPOSE\", order=merged_data[\"NAME_CASH_LOAN_PURPOSE\"].value_counts().index,hue='TARGET',palette=\"deep\")\n",
    "plt.xlabel(\"Number\")\n",
    "plt.ylabel(\"Loan Purpose\")\n",
    "plt.show()"
   ]
  },
  {
   "cell_type": "code",
   "execution_count": 492,
   "id": "0dc67616",
   "metadata": {},
   "outputs": [],
   "source": [
    "# Interpretation\n",
    "\n",
    "# The count of repayers are more than defaulters in the list of clients who refuse to name the goal\n",
    "# Majority of both repayers and defaulters are applying for loan for repair purpose\n"
   ]
  },
  {
   "cell_type": "code",
   "execution_count": 497,
   "id": "6b55c0c2",
   "metadata": {},
   "outputs": [
    {
     "data": {
      "image/png": "[encoded data removed]",
      "text/plain": [
       "<Figure size 864x1728 with 1 Axes>"
      ]
     },
     "metadata": {},
     "output_type": "display_data"
    }
   ],
   "source": [
    "# Distribution of status of the contract based on the purposes\n",
    "plt.figure(figsize=(12,24))\n",
    "plt.xscale(\"log\")\n",
    "plt.title(\"Distribution of status of the contract based on the purposes\")\n",
    "\n",
    "sn.countplot(data=merged_data, y=\"NAME_CASH_LOAN_PURPOSE\", order=merged_data[\"NAME_CASH_LOAN_PURPOSE\"].value_counts().index,hue='NAME_CONTRACT_STATUS',palette=\"deep\")\n",
    "plt.xlabel(\"Number\")\n",
    "plt.ylabel(\"Loan Purpose\")\n",
    "plt.show()\n",
    "\n"
   ]
  },
  {
   "cell_type": "code",
   "execution_count": 511,
   "id": "f2508d62",
   "metadata": {},
   "outputs": [],
   "source": [
    "# Interpretation\n",
    "\n",
    "# Most number of approvals and most number of rejections of loan are for repair purpose\n",
    "# Most of the loans applied for payment of other loans are rejected\n",
    "# There are equal number of approvals and rejections for education purpose"
   ]
  },
  {
   "cell_type": "code",
   "execution_count": null,
   "id": "9ee3bb46",
   "metadata": {},
   "outputs": [],
   "source": []
  },
  {
   "cell_type": "code",
   "execution_count": null,
   "id": "9e6253a3",
   "metadata": {},
   "outputs": [],
   "source": []
  }
 ],
 "metadata": {
  "kernelspec": {
   "display_name": "Python 3 (ipykernel)",
   "language": "python",
   "name": "python3"
  },
  "language_info": {
   "codemirror_mode": {
    "name": "ipython",
    "version": 3
   },
   "file_extension": ".py",
   "mimetype": "text/x-python",
   "name": "python",
   "nbconvert_exporter": "python",
   "pygments_lexer": "ipython3",
   "version": "3.9.12"
  }
 },
 "nbformat": 4,
 "nbformat_minor": 5
}
